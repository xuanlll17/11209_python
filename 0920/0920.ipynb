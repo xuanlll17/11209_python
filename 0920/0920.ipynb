{
 "cells": [
  {
   "cell_type": "code",
   "execution_count": null,
   "metadata": {},
   "outputs": [],
   "source": [
    "# 90(含)~100分為「優」\n",
    "# 80(含)~89分為「甲」\n",
    "# 70(含)~79分為「乙」\n",
    "# 60(含)~69分為「丙」\n",
    "# 0(含)~59分為「丁」\n",
    "import pyinputplus as pyip\n",
    "scores = pyip.inputInt(prompt=\"請輸入分數:\",min=0,max=100)\n",
    "print(scores)\n",
    "message = \"\"\n",
    "#巢狀判斷,4個if\n",
    "if scores >= 90:\n",
    "    message = \"優\"\n",
    "else:\n",
    "    if scores >= 80:\n",
    "        message = \"甲\"\n",
    "    else:\n",
    "        if scores >= 70:\n",
    "            message = \"乙\"\n",
    "        else:\n",
    "            if scores >= 60:\n",
    "                message = \"丙\"\n",
    "            else:\n",
    "                message = \"丁\"\n",
    "print(message)"
   ]
  },
  {
   "cell_type": "code",
   "execution_count": 4,
   "metadata": {},
   "outputs": [
    {
     "name": "stdout",
     "output_type": "stream",
     "text": [
      "請輸入分數:80\n",
      "甲\n"
     ]
    }
   ],
   "source": [
    "# 90(含)~100分為「優」\n",
    "# 80(含)~89分為「甲」\n",
    "# 70(含)~79分為「乙」\n",
    "# 60(含)~69分為「丙」\n",
    "# 0(含)~59分為「丁」\n",
    "\n",
    "import pyinputplus as pyip\n",
    "scores = pyip.inputInt(prompt=\"請輸入分數:\",min=0,max=100)\n",
    "print(scores)\n",
    "message = \"\" #建立一個空字串\n",
    "#使用多項選擇\n",
    "#if -> 執行完一個程式區塊直接跳出\n",
    "#嚴格要放上面\n",
    "if scores >= 90:\n",
    "    message = \"優\"\n",
    "elif scores >= 80:\n",
    "    message = \"甲\"\n",
    "elif scores >= 70:\n",
    "    message = \"乙\"\n",
    "elif scores >= 60:\n",
    "    message = \"丙\"\n",
    "else:\n",
    "    message = \"丁\"\n",
    "print(message)\n"
   ]
  },
  {
   "cell_type": "code",
   "execution_count": 16,
   "metadata": {},
   "outputs": [
    {
     "name": "stdout",
     "output_type": "stream",
     "text": [
      "請輸入金額:130000\n",
      "實付金額是:104000.0元\n"
     ]
    }
   ],
   "source": [
    "#輸入顧客購買金額，若金額在\n",
    "# 100000元打8折. \n",
    "# 50000打85折. \n",
    "# 30000打9折. \n",
    "# 10000打95折. \n",
    "\n",
    "#請輸入購買金額:130000\n",
    "#實付金額是: 104000.0 元\n",
    "\n",
    "money = pyip.inputInt(prompt=\"請輸入金額:\")\n",
    "print(money)\n",
    "\n",
    "if money >=100000:\n",
    "    total = money*0.8\n",
    "elif money >=50000:\n",
    "    total = money*0.85\n",
    "elif money >=30000:\n",
    "    total = money*0.9\n",
    "elif money >=10000:\n",
    "    total = money*0.95\n",
    "else:\n",
    "    total = money\n",
    "print(f\"實付金額是:{total}元\")\n"
   ]
  },
  {
   "cell_type": "code",
   "execution_count": 39,
   "metadata": {},
   "outputs": [
    {
     "name": "stdout",
     "output_type": "stream",
     "text": [
      "請輸入金額:13500\n",
      "折扣完是:12200元\n",
      "實付金額是:11590.0元\n"
     ]
    }
   ],
   "source": [
    "#輸入顧客購買金額\n",
    "#滿千送百後再打折\n",
    "# 100000元打8折. \n",
    "# 50000打85折. \n",
    "# 30000打9折. \n",
    "# 10000打95折.\n",
    "\n",
    "money = pyip.inputInt(prompt=\"請輸入金額:\")\n",
    "print(money)\n",
    "\n",
    "discount = money // 1000 * 100\n",
    "money -= discount\n",
    "print(f\"折扣完是:{money}元\")\n",
    "\n",
    "if money >= 100000:\n",
    "    total = money  *0.8\n",
    "elif money >= 50000:\n",
    "    total = money * 0.85\n",
    "elif money >= 30000:\n",
    "    total = money * 0.9\n",
    "elif money >= 10000:\n",
    "    total = money * 0.95\n",
    "else:\n",
    "    total = money\n",
    "print(f\"實付金額是:{total}元\")"
   ]
  },
  {
   "cell_type": "code",
   "execution_count": 45,
   "metadata": {},
   "outputs": [
    {
     "name": "stdout",
     "output_type": "stream",
     "text": [
      "請輸入金額:13500\n",
      "實付金額是:11590.0元\n"
     ]
    }
   ],
   "source": [
    "money = pyip.inputInt(prompt=\"請輸入金額:\")\n",
    "print(money)\n",
    "if money >=100000:\n",
    "    total = (money-(money//1000*100))*0.8\n",
    "elif money >=50000:\n",
    "    total = (money-(money//1000*100))*0.85\n",
    "elif money >=30000:\n",
    "    total = (money-(money//1000*100))*0.9\n",
    "elif money >=10000:\n",
    "    total = (money-(money//1000*100))*0.95\n",
    "elif money >=1000:\n",
    "    total = money-(money/1000*100)\n",
    "else:\n",
    "    total = money\n",
    "print(f\"實付金額是:{total}元\")"
   ]
  },
  {
   "cell_type": "code",
   "execution_count": 46,
   "metadata": {},
   "outputs": [
    {
     "name": "stdout",
     "output_type": "stream",
     "text": [
      "請輸入國文分數50\n",
      "請輸入數學分數100\n",
      "獎金:500\n"
     ]
    }
   ],
   "source": [
    "chinese = pyip.inputInt(\"請輸入國文分數\")\n",
    "print(chinese)\n",
    "math = pyip.inputInt(\"請輸入數學分數\")\n",
    "print(math)\n",
    "\n",
    "if chinese == 100 and math == 100:\n",
    "    bonus = 1000\n",
    "elif chinese == 100 or math == 100:\n",
    "    bonus = 500\n",
    "else:\n",
    "    bonus = 0\n",
    "\n",
    "print(f\"獎金:{bonus}\")"
   ]
  },
  {
   "cell_type": "code",
   "execution_count": null,
   "metadata": {},
   "outputs": [],
   "source": []
  },
  {
   "cell_type": "code",
   "execution_count": null,
   "metadata": {},
   "outputs": [],
   "source": []
  },
  {
   "cell_type": "code",
   "execution_count": null,
   "metadata": {},
   "outputs": [],
   "source": []
  },
  {
   "cell_type": "code",
   "execution_count": null,
   "metadata": {},
   "outputs": [],
   "source": []
  },
  {
   "cell_type": "code",
   "execution_count": null,
   "metadata": {},
   "outputs": [],
   "source": []
  },
  {
   "cell_type": "code",
   "execution_count": null,
   "metadata": {},
   "outputs": [],
   "source": []
  },
  {
   "cell_type": "code",
   "execution_count": null,
   "metadata": {},
   "outputs": [],
   "source": []
  },
  {
   "cell_type": "code",
   "execution_count": null,
   "metadata": {},
   "outputs": [],
   "source": []
  },
  {
   "cell_type": "code",
   "execution_count": null,
   "metadata": {},
   "outputs": [],
   "source": []
  },
  {
   "cell_type": "code",
   "execution_count": null,
   "metadata": {},
   "outputs": [],
   "source": []
  },
  {
   "cell_type": "code",
   "execution_count": null,
   "metadata": {},
   "outputs": [],
   "source": []
  },
  {
   "cell_type": "code",
   "execution_count": null,
   "metadata": {},
   "outputs": [],
   "source": []
  },
  {
   "cell_type": "code",
   "execution_count": null,
   "metadata": {},
   "outputs": [],
   "source": []
  },
  {
   "cell_type": "code",
   "execution_count": null,
   "metadata": {},
   "outputs": [],
   "source": []
  }
 ],
 "metadata": {
  "kernelspec": {
   "display_name": ".venv",
   "language": "python",
   "name": "python3"
  },
  "language_info": {
   "codemirror_mode": {
    "name": "ipython",
    "version": 3
   },
   "file_extension": ".py",
   "mimetype": "text/x-python",
   "name": "python",
   "nbconvert_exporter": "python",
   "pygments_lexer": "ipython3",
   "version": "3.10.8"
  },
  "orig_nbformat": 4
 },
 "nbformat": 4,
 "nbformat_minor": 2
}

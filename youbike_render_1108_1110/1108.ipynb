{
 "cells": [
  {
   "cell_type": "code",
   "execution_count": 23,
   "metadata": {},
   "outputs": [],
   "source": [
    "import psycopg2\n",
    "import password as pw"
   ]
  },
  {
   "cell_type": "code",
   "execution_count": 28,
   "metadata": {},
   "outputs": [
    {
     "name": "stdout",
     "output_type": "stream",
     "text": [
      "連線成功\n",
      "<connection object at 0x000002326F2F1470; dsn: 'user=xuan password=xxx dbname=maindb_fi6n host=dpg-cl5g4pc72pts73elkt70-a.singapore-postgres.render.com port=5432', closed: 0>\n"
     ]
    }
   ],
   "source": [
    "#-----------------連線到postgresql-----------------#\n",
    "try:\n",
    "    conn = psycopg2.connect(database=pw.DATABASE, user=pw.USER, \n",
    "                            password=pw.PASSWORD, host=pw.HOST, \n",
    "                            port=\"5432\")\n",
    "except psycopg2.Error as e:\n",
    "    print('error')\n",
    "    print(e)\n",
    "else:\n",
    "    print('連線成功')\n",
    "    print(conn)\n"
   ]
  },
  {
   "cell_type": "code",
   "execution_count": 29,
   "metadata": {},
   "outputs": [
    {
     "name": "stdout",
     "output_type": "stream",
     "text": [
      "[(1, 'YouBike2.0_一壽橋', '2023-11-08 10:43:16', '文山區', '樟新街64號前方', 16, 1, 15), (6, 'YouBike2.0_一壽橋', '2023-11-08 10:43:20', '文山區', '樟新街64號前方', 100, 100, 15)]\n"
     ]
    }
   ],
   "source": [
    "with conn.cursor() as cursor:\n",
    "    cursor.execute(\"SELECT * FROM 台北市youbike\")\n",
    "    records = cursor.fetchall()\n",
    "\n",
    "print(records)"
   ]
  },
  {
   "cell_type": "code",
   "execution_count": 30,
   "metadata": {},
   "outputs": [
    {
     "name": "stdout",
     "output_type": "stream",
     "text": [
      "[(1, 'YouBike2.0_一壽橋', '2023-11-08 10:43:16', '文山區', '樟新街64號前方', 16, 1, 15), (6, 'YouBike2.0_一壽橋', '2023-11-08 10:43:20', '文山區', '樟新街64號前方', 100, 100, 15), (8, 'YouBike2.0_一壽橋', '2023-11-08 10:43:22', '文山區', '樟新街64號前方', 100, 100, 15)]\n"
     ]
    }
   ],
   "source": [
    "sql = '''\n",
    "    INSERT INTO 台北市youbike(站點名稱, 更新時間, 行政區, 地址, 總車輛數, 可借, 可還)\n",
    "    VALUES('YouBike2.0_一壽橋','2023-11-08 10:43:22','文山區','樟新街64號前方',100,100,15)\n",
    "    '''\n",
    "with conn.cursor() as cursor:\n",
    "    cursor.execute(sql)\n",
    "    conn.commit()       #不會傳出值 -> conn.commit()\n",
    "\n",
    "sql1 = '''\n",
    "    select * from 台北市youbike\n",
    "    where 站點名稱 = 'YouBike2.0_一壽橋'\n",
    "    '''\n",
    "with conn.cursor() as cursor:\n",
    "    cursor.execute(sql1)\n",
    "    records = cursor.fetchall()\n",
    "\n",
    "print(records)"
   ]
  },
  {
   "cell_type": "code",
   "execution_count": 2,
   "metadata": {},
   "outputs": [
    {
     "name": "stdout",
     "output_type": "stream",
     "text": [
      "連線成功\n",
      "<connection object at 0x000001AD95870AE0; dsn: 'user=xuan password=xxx dbname=maindb_fi6n host=dpg-cl5g4pc72pts73elkt70-a.singapore-postgres.render.com port=5432', closed: 0>\n"
     ]
    }
   ],
   "source": [
    "import psycopg2\n",
    "import password as pw\n",
    "import csv\n",
    "\n",
    "#-----------------連線到postgresql-----------------#\n",
    "try:\n",
    "    conn = psycopg2.connect(database=pw.DATABASE, user=pw.USER, \n",
    "                            password=pw.PASSWORD, host=pw.HOST, \n",
    "                            port=\"5432\")\n",
    "except psycopg2.Error as e:\n",
    "    print('error')\n",
    "    print(e)\n",
    "else:\n",
    "    print('連線成功')\n",
    "    print(conn)\n",
    "\n",
    "\t\n",
    "cur = conn.cursor()\n",
    "table_name = '台北市youbike(站點名稱, 更新時間, 行政區, 地址, 總車輛數, 可借, 可還)'\n",
    "csv_file = './youbike.csv'\n",
    "with open(csv_file, 'r', encoding='utf-8') as file:\n",
    "    reader = csv.reader(file)\n",
    "\n",
    "    for row in reader:\n",
    "        placeholders = ', '.join(['%s'] * len(row))\n",
    "        insert_query = f\"INSERT INTO {table_name} VALUES ({placeholders})\"\n",
    "        cur.execute(insert_query, row)\n",
    "\n",
    "conn.commit()\n",
    "\n",
    "cur.close()\n",
    "conn.close()\n",
    "\t\t"
   ]
  }
 ],
 "metadata": {
  "kernelspec": {
   "display_name": ".venv",
   "language": "python",
   "name": "python3"
  },
  "language_info": {
   "codemirror_mode": {
    "name": "ipython",
    "version": 3
   },
   "file_extension": ".py",
   "mimetype": "text/x-python",
   "name": "python",
   "nbconvert_exporter": "python",
   "pygments_lexer": "ipython3",
   "version": "3.10.8"
  }
 },
 "nbformat": 4,
 "nbformat_minor": 2
}

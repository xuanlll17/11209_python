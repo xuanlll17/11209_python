{
 "cells": [
  {
   "cell_type": "code",
   "execution_count": 13,
   "metadata": {},
   "outputs": [
    {
     "name": "stdout",
     "output_type": "stream",
     "text": [
      "姓名:xxx\n",
      "age:23\n",
      "體重:60\n",
      "身高:181\n"
     ]
    }
   ],
   "source": [
    "class Person():\n",
    "    def __init__(self, name, age = 18, weight = 70, height = 170):\n",
    "        self.name = name\n",
    "        self.age = age          #有default value\n",
    "        self.weight = weight    #有default value\n",
    "        self.height = height    #有default value\n",
    "    \n",
    "    def description(self):  #實體方法\n",
    "        print(f\"姓名:{self.name}\")\n",
    "        print(f\"age:{self.age}\")\n",
    "        print(f\"體重:{self.weight}\")\n",
    "        print(f\"身高:{self.height}\")\n",
    "\n",
    "p1 = Person(name=\"xxx\", age=23, weight=60, height=181)\n",
    "#p1.name,p1.age,p1.weight,p1.height 有實體方法輸出,不用寫    \n",
    "p1.description()"
   ]
  },
  {
   "cell_type": "code",
   "execution_count": 17,
   "metadata": {},
   "outputs": [
    {
     "name": "stdout",
     "output_type": "stream",
     "text": [
      "{'age': 22}\n",
      "姓名:yyy\n",
      "age:22\n",
      "體重:70\n",
      "身高:170\n",
      "id:1333333\n"
     ]
    }
   ],
   "source": [
    "#繼承\n",
    "class Student(Person):\n",
    "    def __init__(self, name, id, **kwargs):\n",
    "        print(kwargs)\n",
    "        super().__init__(name,**kwargs)\n",
    "        self.id = id\n",
    "    \n",
    "    def description(self):\n",
    "        super().description()\n",
    "        print(f\"id:{self.id}\")\n",
    "\n",
    "\n",
    "stu1 = Student(name=\"yyy\", id=\"1333333\", age = 22)\n",
    "stu1.description()"
   ]
  }
 ],
 "metadata": {
  "kernelspec": {
   "display_name": ".venv",
   "language": "python",
   "name": "python3"
  },
  "language_info": {
   "codemirror_mode": {
    "name": "ipython",
    "version": 3
   },
   "file_extension": ".py",
   "mimetype": "text/x-python",
   "name": "python",
   "nbconvert_exporter": "python",
   "pygments_lexer": "ipython3",
   "version": "3.10.8"
  }
 },
 "nbformat": 4,
 "nbformat_minor": 2
}

{
 "cells": [
  {
   "cell_type": "code",
   "execution_count": 1,
   "metadata": {},
   "outputs": [
    {
     "name": "stdout",
     "output_type": "stream",
     "text": [
      "姓名,國文,英文,數學,地理,歷史\n",
      "xxx,93,74,92,89,75\n",
      "ooo,75,85,94,78,59\n",
      "True\n"
     ]
    }
   ],
   "source": [
    "try:\n",
    "    file = open('student.csv',encoding='utf-8',mode='r',newline='')    \n",
    "    print(file.read())\n",
    "    file.close() #實體方法\n",
    "    print(file.closed) #實體attribute\n",
    "except:\n",
    "    print(\"讀取錯誤\")"
   ]
  },
  {
   "cell_type": "code",
   "execution_count": 1,
   "metadata": {},
   "outputs": [
    {
     "name": "stdout",
     "output_type": "stream",
     "text": [
      "姓名,國文,英文,數學,地理,歷史\n",
      "\n",
      "xxx,93,74,92,89,75\n",
      "\n",
      "ooo,75,85,94,78,59\n",
      "True\n"
     ]
    }
   ],
   "source": [
    "try:\n",
    "    file = open('student.csv', encoding='utf-8', mode='r', newline='')\n",
    "    print(file.readline())\n",
    "    print(file.readline())\n",
    "    print(file.readline())\n",
    "    file.close()\n",
    "    print(file.closed)\n",
    "except:\n",
    "    print(\"讀取錯誤\")"
   ]
  },
  {
   "cell_type": "code",
   "execution_count": 12,
   "metadata": {},
   "outputs": [
    {
     "name": "stdout",
     "output_type": "stream",
     "text": [
      "<class '_csv.reader'>\n",
      "['姓名', '國文', '英文', '數學', '地理', '歷史']\n",
      "['xxx', '93', '74', '92', '89', '75']\n",
      "['ooo', '75', '85', '94', '78', '59']\n",
      "True\n"
     ]
    }
   ],
   "source": [
    "import csv\n",
    "\n",
    "try:\n",
    "    file = open('student.csv', encoding='utf-8', mode='r', newline='')\n",
    "    csv_reader = csv.reader(file)   #二維list\n",
    "    print(type(csv_reader))\n",
    "    for row in csv_reader:  # for in 可以把一個一個抓出來\n",
    "        print(row)\n",
    "    file.close()\n",
    "    print(file.closed)\n",
    "except:\n",
    "    print(\"讀取錯誤\")\n"
   ]
  },
  {
   "cell_type": "code",
   "execution_count": 16,
   "metadata": {},
   "outputs": [
    {
     "name": "stdout",
     "output_type": "stream",
     "text": [
      "True\n"
     ]
    },
    {
     "data": {
      "text/plain": [
       "[['姓名', '國文', '英文', '數學', '地理', '歷史'],\n",
       " ['xxx', '93', '74', '92', '89', '75'],\n",
       " ['ooo', '75', '85', '94', '78', '59']]"
      ]
     },
     "execution_count": 16,
     "metadata": {},
     "output_type": "execute_result"
    }
   ],
   "source": [
    "import csv\n",
    "\n",
    "try:\n",
    "    file = open('student.csv', encoding='utf-8', mode='r', newline='')\n",
    "    csv_reader = csv.reader(file)   #二維list reader() csv裡的function\n",
    "    csv_list = list(csv_reader) #把csv_reader轉成list\n",
    "    file.close()\n",
    "    print(file.closed)\n",
    "except:\n",
    "    print(\"讀取錯誤\")\n",
    "\n",
    "csv_list"
   ]
  },
  {
   "cell_type": "code",
   "execution_count": 17,
   "metadata": {},
   "outputs": [
    {
     "data": {
      "text/plain": [
       "['ooo', '75', '85', '94', '78', '59']"
      ]
     },
     "execution_count": 17,
     "metadata": {},
     "output_type": "execute_result"
    }
   ],
   "source": [
    "csv_list[2]"
   ]
  },
  {
   "cell_type": "code",
   "execution_count": 19,
   "metadata": {},
   "outputs": [
    {
     "data": {
      "text/plain": [
       "[{'姓名': 'xxx', '國文': '93', '英文': '74', '數學': '92', '地理': '89', '歷史': '75'},\n",
       " {'姓名': 'ooo', '國文': '75', '英文': '85', '數學': '94', '地理': '78', '歷史': '59'}]"
      ]
     },
     "execution_count": 19,
     "metadata": {},
     "output_type": "execute_result"
    }
   ],
   "source": [
    "import csv\n",
    "\n",
    "try:\n",
    "    file = open('student.csv', encoding='utf-8', mode='r', newline='')\n",
    "    csv_dictReader = csv.DictReader(file)   #DictReader csv裡的class\n",
    "    csv_list = list(csv_dictReader)\n",
    "    file.close()\n",
    "\n",
    "except:\n",
    "    print(\"讀取錯誤\")\n",
    "\n",
    "csv_list #裡面有兩個dictionary"
   ]
  }
 ],
 "metadata": {
  "kernelspec": {
   "display_name": ".venv",
   "language": "python",
   "name": "python3"
  },
  "language_info": {
   "codemirror_mode": {
    "name": "ipython",
    "version": 3
   },
   "file_extension": ".py",
   "mimetype": "text/x-python",
   "name": "python",
   "nbconvert_exporter": "python",
   "pygments_lexer": "ipython3",
   "version": "3.10.8"
  }
 },
 "nbformat": 4,
 "nbformat_minor": 2
}

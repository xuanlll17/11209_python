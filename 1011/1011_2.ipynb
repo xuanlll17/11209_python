{
 "cells": [
  {
   "cell_type": "code",
   "execution_count": 1,
   "metadata": {},
   "outputs": [
    {
     "name": "stdout",
     "output_type": "stream",
     "text": [
      "姓名,國文,英文,數學,地理,歷史\n",
      "xxx,93,74,92,89,75\n",
      "ooo,75,85,94,78,59\n",
      "True\n"
     ]
    }
   ],
   "source": [
    "try:\n",
    "    file = open('student.csv',encoding='utf-8',mode='r',newline='')    \n",
    "    print(file.read())\n",
    "    file.close() #實體方法\n",
    "    print(file.closed) #實體attribute\n",
    "except:\n",
    "    print(\"讀取錯誤\")"
   ]
  }
 ],
 "metadata": {
  "kernelspec": {
   "display_name": ".venv",
   "language": "python",
   "name": "python3"
  },
  "language_info": {
   "codemirror_mode": {
    "name": "ipython",
    "version": 3
   },
   "file_extension": ".py",
   "mimetype": "text/x-python",
   "name": "python",
   "nbconvert_exporter": "python",
   "pygments_lexer": "ipython3",
   "version": "3.10.8"
  }
 },
 "nbformat": 4,
 "nbformat_minor": 2
}

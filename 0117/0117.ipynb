{
 "cells": [
  {
   "cell_type": "code",
   "execution_count": 1,
   "metadata": {},
   "outputs": [],
   "source": [
    "import redis\n",
    "import redisURL\n",
    "\n",
    "# 連線到redis\n",
    "redis_conn = redis.Redis.from_url(redisURL.redis_url)"
   ]
  },
  {
   "cell_type": "code",
   "execution_count": 5,
   "metadata": {},
   "outputs": [
    {
     "data": {
      "text/plain": [
       "True"
      ]
     },
     "execution_count": 5,
     "metadata": {},
     "output_type": "execute_result"
    }
   ],
   "source": [
    "# 儲存key,Strings\n",
    "redis_conn.set('full_name',\"xuan\")  # True代表成功  #.set(key,value)  # Redis Strings(字串)"
   ]
  },
  {
   "cell_type": "code",
   "execution_count": 7,
   "metadata": {},
   "outputs": [
    {
     "data": {
      "text/plain": [
       "'xuan'"
      ]
     },
     "execution_count": 7,
     "metadata": {},
     "output_type": "execute_result"
    }
   ],
   "source": [
    "# 取出\n",
    "#redis_conn.get('full_name')  # 取出的值為binary型態\n",
    "redis_conn.get('full_name').decode()  # .decode()實體方法:binary -> string"
   ]
  },
  {
   "cell_type": "code",
   "execution_count": 8,
   "metadata": {},
   "outputs": [
    {
     "data": {
      "text/plain": [
       "1"
      ]
     },
     "execution_count": 8,
     "metadata": {},
     "output_type": "execute_result"
    }
   ],
   "source": [
    "# 刪除\n",
    "redis_conn.delete('full_name')  # 1 -> True(刪除成功)"
   ]
  },
  {
   "cell_type": "code",
   "execution_count": 9,
   "metadata": {},
   "outputs": [
    {
     "data": {
      "text/plain": [
       "True"
      ]
     },
     "execution_count": 9,
     "metadata": {},
     "output_type": "execute_result"
    }
   ],
   "source": [
    "name = 'xuan'\n",
    "chinese = 78\n",
    "english = 92\n",
    "math = 65\n",
    "\n",
    "redis_conn.set('name',name)\n",
    "redis_conn.set('chinese',chinese)\n",
    "redis_conn.set('english',english)\n",
    "redis_conn.set('math',math)"
   ]
  },
  {
   "cell_type": "code",
   "execution_count": 10,
   "metadata": {},
   "outputs": [
    {
     "name": "stdout",
     "output_type": "stream",
     "text": [
      "xuan\n",
      "78\n",
      "92\n",
      "65\n"
     ]
    }
   ],
   "source": [
    "print(redis_conn.get('name').decode())\n",
    "print(redis_conn.get('chinese').decode())\n",
    "print(redis_conn.get('english').decode())\n",
    "print(redis_conn.get('math').decode())"
   ]
  },
  {
   "cell_type": "code",
   "execution_count": 11,
   "metadata": {},
   "outputs": [
    {
     "data": {
      "text/plain": [
       "1"
      ]
     },
     "execution_count": 11,
     "metadata": {},
     "output_type": "execute_result"
    }
   ],
   "source": [
    "redis_conn.delete('name')\n",
    "redis_conn.delete('chinese')\n",
    "redis_conn.delete('english')\n",
    "redis_conn.delete('math')"
   ]
  },
  {
   "cell_type": "code",
   "execution_count": 2,
   "metadata": {},
   "outputs": [
    {
     "data": {
      "text/plain": [
       "4"
      ]
     },
     "execution_count": 2,
     "metadata": {},
     "output_type": "execute_result"
    }
   ],
   "source": [
    "# 儲存List,List只有索引\n",
    "name = \"xuan\"\n",
    "chinese = 78\n",
    "english = 92\n",
    "math = 65\n",
    "\n",
    "redis_conn.rpush('stu:01',name)  #rpush(key,)\n",
    "redis_conn.rpush(\"stu:01\", chinese)\n",
    "redis_conn.rpush(\"stu:01\", english)\n",
    "redis_conn.rpush(\"stu:01\", math)\n",
    "#刪除使用pop"
   ]
  },
  {
   "cell_type": "markdown",
   "metadata": {},
   "source": [
    "![list](./list.png)"
   ]
  },
  {
   "cell_type": "code",
   "execution_count": 6,
   "metadata": {},
   "outputs": [
    {
     "data": {
      "text/plain": [
       "4"
      ]
     },
     "execution_count": 6,
     "metadata": {},
     "output_type": "execute_result"
    }
   ],
   "source": [
    "# 一次加多個值\n",
    "name2 = 'xxx'\n",
    "chinese2 = 90\n",
    "english2 = 98\n",
    "math2 = 91\n",
    "\n",
    "redis_conn.rpush('stu:02', name2, chinese2, english2, math2)"
   ]
  },
  {
   "cell_type": "code",
   "execution_count": 12,
   "metadata": {},
   "outputs": [
    {
     "name": "stdout",
     "output_type": "stream",
     "text": [
      "xxx\n",
      "90\n",
      "98\n",
      "91\n"
     ]
    }
   ],
   "source": [
    "# 取出list的值(lrange)\n",
    "list1 = redis_conn.lrange('stu:02',0,-1) #起始0,結束-1,輸出-1-0 從最後一個輸出到第一個(全部) #由右而左 -1,-2,-3,-4...\n",
    "for item in list1:\n",
    "    print(item.decode())  # decode()實體方法"
   ]
  },
  {
   "cell_type": "code",
   "execution_count": null,
   "metadata": {},
   "outputs": [],
   "source": [
    "# redis_conn.lrange('xxx',0,9) # 由前往後數10個\n",
    "# redis_conn.lrange('xxx',-10,-1) # 由後往前數10個"
   ]
  },
  {
   "cell_type": "code",
   "execution_count": 3,
   "metadata": {},
   "outputs": [
    {
     "data": {
      "text/plain": [
       "1"
      ]
     },
     "execution_count": 3,
     "metadata": {},
     "output_type": "execute_result"
    }
   ],
   "source": [
    "redis_conn.delete('stu:01')\n",
    "redis_conn.delete(\"stu:02\")"
   ]
  },
  {
   "cell_type": "code",
   "execution_count": 5,
   "metadata": {},
   "outputs": [],
   "source": [
    "name = \"xxx\"\n",
    "chinese = 90\n",
    "english = 98\n",
    "math = 91"
   ]
  },
  {
   "cell_type": "code",
   "execution_count": 6,
   "metadata": {},
   "outputs": [
    {
     "data": {
      "text/plain": [
       "4"
      ]
     },
     "execution_count": 6,
     "metadata": {},
     "output_type": "execute_result"
    }
   ],
   "source": [
    "# hash (key,value)\n",
    "redis_conn.hset('stu:01', # key,儲存一組mapping裡面的資料\n",
    "                mapping = {\n",
    "                    '姓名':name, # dictionary\n",
    "                    '中文':chinese,\n",
    "                    '英文':english,\n",
    "                    '數學':math\n",
    "                })"
   ]
  },
  {
   "cell_type": "code",
   "execution_count": 8,
   "metadata": {},
   "outputs": [
    {
     "data": {
      "text/plain": [
       "'xxx'"
      ]
     },
     "execution_count": 8,
     "metadata": {},
     "output_type": "execute_result"
    }
   ],
   "source": [
    "redis_conn.hget('stu:01','姓名').decode() # 抓key stu:01,然後抓姓名"
   ]
  },
  {
   "cell_type": "code",
   "execution_count": 17,
   "metadata": {},
   "outputs": [
    {
     "name": "stdout",
     "output_type": "stream",
     "text": [
      "姓名 xxx\n",
      "中文 90\n",
      "英文 98\n",
      "數學 91\n"
     ]
    }
   ],
   "source": [
    "stu1 = redis_conn.hgetall('stu:01') # dictionary # stu1變數接收值\n",
    "type(stu1)\n",
    "#print(stu1.items())\n",
    "for (key,value) in stu1.items(): # 一組一組抓出來 # .items()實體方法,會(key,value)以tuple傳出\n",
    "    print(key.decode(),value.decode())"
   ]
  },
  {
   "cell_type": "code",
   "execution_count": 18,
   "metadata": {},
   "outputs": [
    {
     "data": {
      "text/plain": [
       "{'姓名': 'xxx', '中文': '90', '英文': '98', '數學': '91'}"
      ]
     },
     "execution_count": 18,
     "metadata": {},
     "output_type": "execute_result"
    }
   ],
   "source": [
    "{key.decode():value.decode() for (key,value) in stu1.items()} # comprehension 快速產生新的dictionary "
   ]
  },
  {
   "cell_type": "code",
   "execution_count": 19,
   "metadata": {},
   "outputs": [
    {
     "data": {
      "text/plain": [
       "1"
      ]
     },
     "execution_count": 19,
     "metadata": {},
     "output_type": "execute_result"
    }
   ],
   "source": [
    "redis_conn.delete('stu:01')"
   ]
  },
  {
   "cell_type": "code",
   "execution_count": 23,
   "metadata": {},
   "outputs": [
    {
     "data": {
      "text/plain": [
       "1"
      ]
     },
     "execution_count": 23,
     "metadata": {},
     "output_type": "execute_result"
    }
   ],
   "source": [
    "id = 'stu01'\n",
    "name = \"xuan\"\n",
    "chinese = 78\n",
    "english = 92\n",
    "math = 65\n",
    "\n",
    "redis_conn.rpush('classA:stu',id) # list # key->classA:stu,push的值->id\n",
    "redis_conn.hset('classA:name',mapping={id:name}) # hash # stu01:xuan\n",
    "redis_conn.hset('classA:chinese', mapping={id: chinese}) # stu01:78\n",
    "redis_conn.hset('classA:english', mapping={id: english}) # stu01:92\n",
    "redis_conn.hset('classA:math', mapping={id: math}) # stu01:65"
   ]
  },
  {
   "cell_type": "code",
   "execution_count": 24,
   "metadata": {},
   "outputs": [
    {
     "data": {
      "text/plain": [
       "1"
      ]
     },
     "execution_count": 24,
     "metadata": {},
     "output_type": "execute_result"
    }
   ],
   "source": [
    "id = \"stu02\"\n",
    "name = \"xxx\"\n",
    "chinese = 100\n",
    "english = 67\n",
    "math = 89\n",
    "\n",
    "redis_conn.rpush(\"classA:stu\", id)  # list # key->classA:stu,push的值->id\n",
    "redis_conn.hset(\"classA:name\", mapping={id: name})  # hash # stu02:xxx\n",
    "redis_conn.hset(\"classA:chinese\", mapping={id: chinese})  # stu02:100\n",
    "redis_conn.hset(\"classA:english\", mapping={id: english})  # stu02:67\n",
    "redis_conn.hset(\"classA:math\", mapping={id: math})  # stu02:89"
   ]
  },
  {
   "cell_type": "code",
   "execution_count": 25,
   "metadata": {},
   "outputs": [
    {
     "data": {
      "text/plain": [
       "1"
      ]
     },
     "execution_count": 25,
     "metadata": {},
     "output_type": "execute_result"
    }
   ],
   "source": [
    "id = \"stu03\"\n",
    "name = \"OOO\"\n",
    "chinese = 56\n",
    "english = 100\n",
    "math = 97\n",
    "\n",
    "redis_conn.rpush(\"classA:stu\", id)  # list # key->classA:stu,push的值->id\n",
    "redis_conn.hset(\"classA:name\", mapping={id: name})  # hash # stu03:OOO\n",
    "redis_conn.hset(\"classA:chinese\", mapping={id: chinese})  # stu02:56\n",
    "redis_conn.hset(\"classA:english\", mapping={id: english})  # stu02:100\n",
    "redis_conn.hset(\"classA:math\", mapping={id: math})  # stu02:97"
   ]
  },
  {
   "cell_type": "code",
   "execution_count": 34,
   "metadata": {},
   "outputs": [
    {
     "data": {
      "text/plain": [
       "['stu02', 'stu03']"
      ]
     },
     "execution_count": 34,
     "metadata": {},
     "output_type": "execute_result"
    }
   ],
   "source": [
    "id_list = [item.decode() for item in redis_conn.lrange('classA:stu',-2,-1)] # list comprehension 快速建立全新list # 抓後兩個,最後-1,倒數第二-2\n",
    "id_list"
   ]
  },
  {
   "cell_type": "code",
   "execution_count": 35,
   "metadata": {},
   "outputs": [
    {
     "name": "stdout",
     "output_type": "stream",
     "text": [
      "xxx 100 67 89\n",
      "===========================\n",
      "OOO 56 100 97\n",
      "===========================\n"
     ]
    }
   ],
   "source": [
    "for id in id_list:\n",
    "    name = redis_conn.hget('classA:name',id).decode()\n",
    "    chinese = redis_conn.hget(\"classA:chinese\", id).decode()\n",
    "    english = redis_conn.hget(\"classA:english\", id).decode()\n",
    "    math = redis_conn.hget(\"classA:math\", id).decode()\n",
    "    #print(name)  # 執行兩次,抓stu01 name和stu02 name\n",
    "    print(name,chinese,english,math)\n",
    "    print(\"===========================\")"
   ]
  }
 ],
 "metadata": {
  "kernelspec": {
   "display_name": ".venv",
   "language": "python",
   "name": "python3"
  },
  "language_info": {
   "codemirror_mode": {
    "name": "ipython",
    "version": 3
   },
   "file_extension": ".py",
   "mimetype": "text/x-python",
   "name": "python",
   "nbconvert_exporter": "python",
   "pygments_lexer": "ipython3",
   "version": "3.10.8"
  }
 },
 "nbformat": 4,
 "nbformat_minor": 2
}

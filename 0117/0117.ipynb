{
 "cells": [
  {
   "cell_type": "code",
   "execution_count": 4,
   "metadata": {},
   "outputs": [],
   "source": [
    "import redis\n",
    "import redisURL\n",
    "\n",
    "# 連線到redis\n",
    "redis_conn = redis.Redis.from_url(redisURL.redis_url)"
   ]
  },
  {
   "cell_type": "code",
   "execution_count": 5,
   "metadata": {},
   "outputs": [
    {
     "data": {
      "text/plain": [
       "True"
      ]
     },
     "execution_count": 5,
     "metadata": {},
     "output_type": "execute_result"
    }
   ],
   "source": [
    "# 儲存key,Strings\n",
    "redis_conn.set('full_name',\"xuan\")  # True代表成功  #.set(key,value)  # Redis Strings(字串)"
   ]
  },
  {
   "cell_type": "code",
   "execution_count": 7,
   "metadata": {},
   "outputs": [
    {
     "data": {
      "text/plain": [
       "'xuan'"
      ]
     },
     "execution_count": 7,
     "metadata": {},
     "output_type": "execute_result"
    }
   ],
   "source": [
    "# 取出\n",
    "#redis_conn.get('full_name')  # 取出的值為binary型態\n",
    "redis_conn.get('full_name').decode()  # .decode()實體方法:binary -> string"
   ]
  },
  {
   "cell_type": "code",
   "execution_count": 8,
   "metadata": {},
   "outputs": [
    {
     "data": {
      "text/plain": [
       "1"
      ]
     },
     "execution_count": 8,
     "metadata": {},
     "output_type": "execute_result"
    }
   ],
   "source": [
    "# 刪除\n",
    "redis_conn.delete('full_name')  # 1 -> True(刪除成功)"
   ]
  },
  {
   "cell_type": "code",
   "execution_count": 9,
   "metadata": {},
   "outputs": [
    {
     "data": {
      "text/plain": [
       "True"
      ]
     },
     "execution_count": 9,
     "metadata": {},
     "output_type": "execute_result"
    }
   ],
   "source": [
    "name = 'xuan'\n",
    "chinese = 78\n",
    "english = 92\n",
    "math = 65\n",
    "\n",
    "redis_conn.set('name',name)\n",
    "redis_conn.set('chinese',chinese)\n",
    "redis_conn.set('english',english)\n",
    "redis_conn.set('math',math)"
   ]
  },
  {
   "cell_type": "code",
   "execution_count": 10,
   "metadata": {},
   "outputs": [
    {
     "name": "stdout",
     "output_type": "stream",
     "text": [
      "xuan\n",
      "78\n",
      "92\n",
      "65\n"
     ]
    }
   ],
   "source": [
    "print(redis_conn.get('name').decode())\n",
    "print(redis_conn.get('chinese').decode())\n",
    "print(redis_conn.get('english').decode())\n",
    "print(redis_conn.get('math').decode())"
   ]
  },
  {
   "cell_type": "code",
   "execution_count": null,
   "metadata": {},
   "outputs": [],
   "source": []
  }
 ],
 "metadata": {
  "kernelspec": {
   "display_name": ".venv",
   "language": "python",
   "name": "python3"
  },
  "language_info": {
   "codemirror_mode": {
    "name": "ipython",
    "version": 3
   },
   "file_extension": ".py",
   "mimetype": "text/x-python",
   "name": "python",
   "nbconvert_exporter": "python",
   "pygments_lexer": "ipython3",
   "version": "3.10.8"
  }
 },
 "nbformat": 4,
 "nbformat_minor": 2
}

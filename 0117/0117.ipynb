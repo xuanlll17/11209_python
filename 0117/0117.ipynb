{
 "cells": [
  {
   "cell_type": "code",
   "execution_count": 1,
   "metadata": {},
   "outputs": [],
   "source": [
    "import redis\n",
    "import redisURL\n",
    "\n",
    "# 連線到redis\n",
    "redis_conn = redis.Redis.from_url(redisURL.redis_url)"
   ]
  },
  {
   "cell_type": "code",
   "execution_count": 5,
   "metadata": {},
   "outputs": [
    {
     "data": {
      "text/plain": [
       "True"
      ]
     },
     "execution_count": 5,
     "metadata": {},
     "output_type": "execute_result"
    }
   ],
   "source": [
    "# 儲存key,Strings\n",
    "redis_conn.set('full_name',\"xuan\")  # True代表成功  #.set(key,value)  # Redis Strings(字串)"
   ]
  },
  {
   "cell_type": "code",
   "execution_count": 7,
   "metadata": {},
   "outputs": [
    {
     "data": {
      "text/plain": [
       "'xuan'"
      ]
     },
     "execution_count": 7,
     "metadata": {},
     "output_type": "execute_result"
    }
   ],
   "source": [
    "# 取出\n",
    "#redis_conn.get('full_name')  # 取出的值為binary型態\n",
    "redis_conn.get('full_name').decode()  # .decode()實體方法:binary -> string"
   ]
  },
  {
   "cell_type": "code",
   "execution_count": 8,
   "metadata": {},
   "outputs": [
    {
     "data": {
      "text/plain": [
       "1"
      ]
     },
     "execution_count": 8,
     "metadata": {},
     "output_type": "execute_result"
    }
   ],
   "source": [
    "# 刪除\n",
    "redis_conn.delete('full_name')  # 1 -> True(刪除成功)"
   ]
  },
  {
   "cell_type": "code",
   "execution_count": 9,
   "metadata": {},
   "outputs": [
    {
     "data": {
      "text/plain": [
       "True"
      ]
     },
     "execution_count": 9,
     "metadata": {},
     "output_type": "execute_result"
    }
   ],
   "source": [
    "name = 'xuan'\n",
    "chinese = 78\n",
    "english = 92\n",
    "math = 65\n",
    "\n",
    "redis_conn.set('name',name)\n",
    "redis_conn.set('chinese',chinese)\n",
    "redis_conn.set('english',english)\n",
    "redis_conn.set('math',math)"
   ]
  },
  {
   "cell_type": "code",
   "execution_count": 10,
   "metadata": {},
   "outputs": [
    {
     "name": "stdout",
     "output_type": "stream",
     "text": [
      "xuan\n",
      "78\n",
      "92\n",
      "65\n"
     ]
    }
   ],
   "source": [
    "print(redis_conn.get('name').decode())\n",
    "print(redis_conn.get('chinese').decode())\n",
    "print(redis_conn.get('english').decode())\n",
    "print(redis_conn.get('math').decode())"
   ]
  },
  {
   "cell_type": "code",
   "execution_count": 11,
   "metadata": {},
   "outputs": [
    {
     "data": {
      "text/plain": [
       "1"
      ]
     },
     "execution_count": 11,
     "metadata": {},
     "output_type": "execute_result"
    }
   ],
   "source": [
    "redis_conn.delete('name')\n",
    "redis_conn.delete('chinese')\n",
    "redis_conn.delete('english')\n",
    "redis_conn.delete('math')"
   ]
  },
  {
   "cell_type": "code",
   "execution_count": 2,
   "metadata": {},
   "outputs": [
    {
     "data": {
      "text/plain": [
       "4"
      ]
     },
     "execution_count": 2,
     "metadata": {},
     "output_type": "execute_result"
    }
   ],
   "source": [
    "# 儲存List,List只有索引\n",
    "name = \"xuan\"\n",
    "chinese = 78\n",
    "english = 92\n",
    "math = 65\n",
    "\n",
    "redis_conn.rpush('stu:01',name)  #rpush(key,)\n",
    "redis_conn.rpush(\"stu:01\", chinese)\n",
    "redis_conn.rpush(\"stu:01\", english)\n",
    "redis_conn.rpush(\"stu:01\", math)\n",
    "#刪除使用pop"
   ]
  },
  {
   "cell_type": "markdown",
   "metadata": {},
   "source": [
    "![list](./list.png)"
   ]
  },
  {
   "cell_type": "code",
   "execution_count": 6,
   "metadata": {},
   "outputs": [
    {
     "data": {
      "text/plain": [
       "4"
      ]
     },
     "execution_count": 6,
     "metadata": {},
     "output_type": "execute_result"
    }
   ],
   "source": [
    "# 一次加多個值\n",
    "name2 = 'xxx'\n",
    "chinese2 = 90\n",
    "english2 = 98\n",
    "math2 = 91\n",
    "\n",
    "redis_conn.rpush('stu:02', name2, chinese2, english2, math2)"
   ]
  },
  {
   "cell_type": "code",
   "execution_count": 12,
   "metadata": {},
   "outputs": [
    {
     "name": "stdout",
     "output_type": "stream",
     "text": [
      "xxx\n",
      "90\n",
      "98\n",
      "91\n"
     ]
    }
   ],
   "source": [
    "# 取出list的值(lrange)\n",
    "list1 = redis_conn.lrange('stu:02',0,-1) #起始0,結束-1,輸出-1-0 從最後一個輸出到第一個(全部) #由右而左 -1,-2,-3,-4...\n",
    "for item in list1:\n",
    "    print(item.decode())  # decode()實體方法"
   ]
  },
  {
   "cell_type": "code",
   "execution_count": null,
   "metadata": {},
   "outputs": [],
   "source": []
  }
 ],
 "metadata": {
  "kernelspec": {
   "display_name": ".venv",
   "language": "python",
   "name": "python3"
  },
  "language_info": {
   "codemirror_mode": {
    "name": "ipython",
    "version": 3
   },
   "file_extension": ".py",
   "mimetype": "text/x-python",
   "name": "python",
   "nbconvert_exporter": "python",
   "pygments_lexer": "ipython3",
   "version": "3.10.8"
  }
 },
 "nbformat": 4,
 "nbformat_minor": 2
}

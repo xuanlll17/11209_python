{
 "cells": [
  {
   "cell_type": "code",
   "execution_count": 6,
   "metadata": {},
   "outputs": [],
   "source": [
    "class Person:       #實體Person\n",
    "    #自訂的init\n",
    "    def __init__(self,name:str, isMan:bool, age:int,weight:int | None = None, height:int | None = None):  #int | (或) None\n",
    "        self.name = name\n",
    "        self.isMan = isMan\n",
    "        self.age = age\n",
    "        self.weight = weight\n",
    "        self.height = height\n",
    "\n",
    "    def __repr__(self):  #一定要傳出字串 #電腦看的\n",
    "        return f'我是Person的實體,name={self.name}'\n",
    "    \n",
    "    def __str__(self):  #人看的(常用)\n",
    "        return f'power'\n"
   ]
  },
  {
   "cell_type": "code",
   "execution_count": 10,
   "metadata": {},
   "outputs": [
    {
     "name": "stdout",
     "output_type": "stream",
     "text": [
      "power\n"
     ]
    },
    {
     "data": {
      "text/plain": [
       "我是Person的實體,name=Alice"
      ]
     },
     "execution_count": 10,
     "metadata": {},
     "output_type": "execute_result"
    }
   ],
   "source": [
    "p2 = Person(\"Alice\",age=23,isMan=True,weight=70,height=170)\n",
    "print(p2)   #輸出str\n",
    "p2  #輸出repr"
   ]
  }
 ],
 "metadata": {
  "kernelspec": {
   "display_name": ".venv",
   "language": "python",
   "name": "python3"
  },
  "language_info": {
   "codemirror_mode": {
    "name": "ipython",
    "version": 3
   },
   "file_extension": ".py",
   "mimetype": "text/x-python",
   "name": "python",
   "nbconvert_exporter": "python",
   "pygments_lexer": "ipython3",
   "version": "3.10.8"
  },
  "orig_nbformat": 4
 },
 "nbformat": 4,
 "nbformat_minor": 2
}

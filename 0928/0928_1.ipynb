{
 "cells": [
  {
   "cell_type": "code",
   "execution_count": 11,
   "metadata": {},
   "outputs": [],
   "source": [
    "class Person:       #實體Person\n",
    "    #自訂的init\n",
    "    def __init__(self,name:str, isMan:bool, age:int,weight:int | None = None, height:int | None = None):  #int | (或) None\n",
    "        self.name = name\n",
    "        self.isMan = isMan\n",
    "        self.age = age\n",
    "        self.weight = weight\n",
    "        self.height = height\n",
    "\n",
    "    def __repr__(self):  #一定要傳出字串 #電腦看的\n",
    "        return f'我是Person的實體,name={self.name}'\n",
    "    \n",
    "    def __str__(self):  #人看的(常用)\n",
    "        return f'power'\n"
   ]
  },
  {
   "cell_type": "code",
   "execution_count": 12,
   "metadata": {},
   "outputs": [
    {
     "name": "stdout",
     "output_type": "stream",
     "text": [
      "power\n"
     ]
    },
    {
     "data": {
      "text/plain": [
       "我是Person的實體,name=Alice"
      ]
     },
     "execution_count": 12,
     "metadata": {},
     "output_type": "execute_result"
    }
   ],
   "source": [
    "p2 = Person(\"Alice\",age=23,isMan=True,weight=70,height=170)\n",
    "print(p2)   #輸出str\n",
    "p2  #輸出repr"
   ]
  },
  {
   "cell_type": "code",
   "execution_count": 1,
   "metadata": {},
   "outputs": [
    {
     "data": {
      "text/plain": [
       "['xxx', 5, 3, 3, 5]"
      ]
     },
     "execution_count": 1,
     "metadata": {},
     "output_type": "execute_result"
    }
   ],
   "source": [
    "list1 = [\"xxx\",5,3,3,5]\n",
    "list1"
   ]
  },
  {
   "cell_type": "code",
   "execution_count": 3,
   "metadata": {},
   "outputs": [
    {
     "data": {
      "text/plain": [
       "('xxx', 5, 3, 3, 5)"
      ]
     },
     "execution_count": 3,
     "metadata": {},
     "output_type": "execute_result"
    }
   ],
   "source": [
    "list1[0], list1[1], list1[2], list1[3], list1[4]"
   ]
  },
  {
   "cell_type": "code",
   "execution_count": 10,
   "metadata": {},
   "outputs": [
    {
     "data": {
      "text/plain": [
       "{'name': 'xxx', 'dice1': 5, 'dice2': 3, 'dice3': 3, 'dice4': 5}"
      ]
     },
     "execution_count": 10,
     "metadata": {},
     "output_type": "execute_result"
    }
   ],
   "source": [
    "dict1 = {'name':'xxx',\n",
    "         'dice1':5,\n",
    "         'dice2':3,\n",
    "         'dice3':3,\n",
    "         'dice4':5}\n",
    "dict1"
   ]
  },
  {
   "cell_type": "code",
   "execution_count": 11,
   "metadata": {},
   "outputs": [
    {
     "data": {
      "text/plain": [
       "('xxx', 5, 3, 3, 5)"
      ]
     },
     "execution_count": 11,
     "metadata": {},
     "output_type": "execute_result"
    }
   ],
   "source": [
    "dict1['name'], dict1['dice1'], dict1['dice2'], dict1['dice3'], dict1['dice4']"
   ]
  },
  {
   "cell_type": "code",
   "execution_count": 12,
   "metadata": {},
   "outputs": [
    {
     "data": {
      "text/plain": [
       "dict_keys(['name', 'dice1', 'dice2', 'dice3', 'dice4'])"
      ]
     },
     "execution_count": 12,
     "metadata": {},
     "output_type": "execute_result"
    }
   ],
   "source": [
    "dict1.keys()"
   ]
  },
  {
   "cell_type": "code",
   "execution_count": 13,
   "metadata": {},
   "outputs": [
    {
     "data": {
      "text/plain": [
       "'dice1'"
      ]
     },
     "execution_count": 13,
     "metadata": {},
     "output_type": "execute_result"
    }
   ],
   "source": [
    "# 先轉成list再取出key值\n",
    "list(dict1.keys())[1]"
   ]
  }
 ],
 "metadata": {
  "kernelspec": {
   "display_name": ".venv",
   "language": "python",
   "name": "python3"
  },
  "language_info": {
   "codemirror_mode": {
    "name": "ipython",
    "version": 3
   },
   "file_extension": ".py",
   "mimetype": "text/x-python",
   "name": "python",
   "nbconvert_exporter": "python",
   "pygments_lexer": "ipython3",
   "version": "3.10.8"
  },
  "orig_nbformat": 4
 },
 "nbformat": 4,
 "nbformat_minor": 2
}

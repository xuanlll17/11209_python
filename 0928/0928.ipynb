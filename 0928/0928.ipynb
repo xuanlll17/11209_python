{
 "cells": [
  {
   "cell_type": "code",
   "execution_count": 46,
   "metadata": {},
   "outputs": [
    {
     "name": "stdout",
     "output_type": "stream",
     "text": [
      "<class 'str'>\n",
      "<class 'int'>\n",
      "<class 'float'>\n",
      "<class 'bool'>\n"
     ]
    }
   ],
   "source": [
    "print(type(\"hello! World\"))\n",
    "print(type(13))\n",
    "print(type(13.0))\n",
    "print(type(True))"
   ]
  },
  {
   "cell_type": "code",
   "execution_count": 47,
   "metadata": {},
   "outputs": [],
   "source": [
    "class Person:       #實體Person\n",
    "    #自訂的init\n",
    "    def __init__(self,name:str, isMan:bool, age:int,weight:int | None = None, height:int | None = None):  #int | (或) None\n",
    "        self.name = name\n",
    "        self.isMan = isMan\n",
    "        self.age = age\n",
    "        self.weight = weight\n",
    "        self.height = height\n",
    "class Student:      #class建立的第一個字大寫\n",
    "    pass"
   ]
  },
  {
   "cell_type": "code",
   "execution_count": 48,
   "metadata": {},
   "outputs": [
    {
     "name": "stdout",
     "output_type": "stream",
     "text": [
      "<class '__main__.Person'>\n",
      "None\n"
     ]
    }
   ],
   "source": [
    "p1 = Person(name=\"robert\",isMan=False,age=25)\n",
    "print(type(p1))\n",
    "print(p1.weight)"
   ]
  },
  {
   "cell_type": "code",
   "execution_count": 49,
   "metadata": {},
   "outputs": [
    {
     "name": "stdout",
     "output_type": "stream",
     "text": [
      "robert\n",
      "25\n",
      "False\n",
      "None\n",
      "None\n"
     ]
    }
   ],
   "source": [
    "print(p1.name)\n",
    "print(p1.age)\n",
    "print(p1.isMan)\n",
    "print(p1.weight)\n",
    "print(p1.height)"
   ]
  },
  {
   "cell_type": "code",
   "execution_count": 50,
   "metadata": {},
   "outputs": [
    {
     "name": "stdout",
     "output_type": "stream",
     "text": [
      "<class '__main__.Person'>\n"
     ]
    }
   ],
   "source": [
    "p2 = Person(\"Alice\",age=23,isMan=True,weight=70,height=170)\n",
    "print(type(p2))"
   ]
  },
  {
   "cell_type": "code",
   "execution_count": 51,
   "metadata": {},
   "outputs": [
    {
     "name": "stdout",
     "output_type": "stream",
     "text": [
      "Alice\n",
      "23\n",
      "True\n",
      "70\n",
      "170\n"
     ]
    }
   ],
   "source": [
    "print(p2.name)\n",
    "print(p2.age)\n",
    "print(p2.isMan)\n",
    "print(p2.weight)\n",
    "print(p2.height)"
   ]
  },
  {
   "cell_type": "code",
   "execution_count": null,
   "metadata": {},
   "outputs": [],
   "source": []
  }
 ],
 "metadata": {
  "kernelspec": {
   "display_name": ".venv",
   "language": "python",
   "name": "python3"
  },
  "language_info": {
   "codemirror_mode": {
    "name": "ipython",
    "version": 3
   },
   "file_extension": ".py",
   "mimetype": "text/x-python",
   "name": "python",
   "nbconvert_exporter": "python",
   "pygments_lexer": "ipython3",
   "version": "3.10.8"
  },
  "orig_nbformat": 4
 },
 "nbformat": 4,
 "nbformat_minor": 2
}

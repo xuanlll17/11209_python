{
 "cells": [
  {
   "cell_type": "code",
   "execution_count": 16,
   "metadata": {},
   "outputs": [
    {
     "name": "stdout",
     "output_type": "stream",
     "text": [
      "<class 'range'>\n",
      "range(0, 10)\n",
      "55\n"
     ]
    }
   ],
   "source": [
    "#迴圈\n",
    "#明確知道執行次數 -> for\n",
    "#不明確知道執行次數 -> while\n",
    "total = 0\n",
    "print(type(range(10)))\n",
    "print(range(10))\n",
    "for i in range(0,11): #for i in range(11) #從0開始加到10\n",
    "    total += i\n",
    "print(total)"
   ]
  },
  {
   "cell_type": "code",
   "execution_count": null,
   "metadata": {},
   "outputs": [],
   "source": [
    "for i in range(0,101,2): #從0開始加到100,每次加2.\n",
    "    print(i)"
   ]
  },
  {
   "cell_type": "code",
   "execution_count": 15,
   "metadata": {},
   "outputs": [
    {
     "name": "stdout",
     "output_type": "stream",
     "text": [
      "請輸入起始值:5\n",
      "請輸入結束值:10\n",
      "5~10的加總=45\n"
     ]
    }
   ],
   "source": [
    "#1~100的加總\n",
    "import pyinputplus as pyip\n",
    "\n",
    "start = pyip.inputInt(prompt=\"請輸入起始值:\")\n",
    "print(start)\n",
    "end = pyip.inputInt(prompt=\"請輸入結束值:\")\n",
    "print(end)\n",
    "\n",
    "total = 0\n",
    "for i in range(start,end+1):\n",
    "    total += i\n",
    "print(f\"{start}~{end}的加總={total}\")"
   ]
  },
  {
   "cell_type": "code",
   "execution_count": 24,
   "metadata": {},
   "outputs": [
    {
     "name": "stdout",
     "output_type": "stream",
     "text": [
      "1 * 1 = 1   1 * 2 = 2   1 * 3 = 3   1 * 4 = 4   1 * 5 = 5   1 * 6 = 6   1 * 7 = 7   1 * 8 = 8   1 * 9 = 9   \n",
      "2 * 1 = 2   2 * 2 = 4   2 * 3 = 6   2 * 4 = 8   2 * 5 = 10  2 * 6 = 12  2 * 7 = 14  2 * 8 = 16  2 * 9 = 18  \n",
      "3 * 1 = 3   3 * 2 = 6   3 * 3 = 9   3 * 4 = 12  3 * 5 = 15  3 * 6 = 18  3 * 7 = 21  3 * 8 = 24  3 * 9 = 27  \n",
      "4 * 1 = 4   4 * 2 = 8   4 * 3 = 12  4 * 4 = 16  4 * 5 = 20  4 * 6 = 24  4 * 7 = 28  4 * 8 = 32  4 * 9 = 36  \n",
      "5 * 1 = 5   5 * 2 = 10  5 * 3 = 15  5 * 4 = 20  5 * 5 = 25  5 * 6 = 30  5 * 7 = 35  5 * 8 = 40  5 * 9 = 45  \n",
      "6 * 1 = 6   6 * 2 = 12  6 * 3 = 18  6 * 4 = 24  6 * 5 = 30  6 * 6 = 36  6 * 7 = 42  6 * 8 = 48  6 * 9 = 54  \n",
      "7 * 1 = 7   7 * 2 = 14  7 * 3 = 21  7 * 4 = 28  7 * 5 = 35  7 * 6 = 42  7 * 7 = 49  7 * 8 = 56  7 * 9 = 63  \n",
      "8 * 1 = 8   8 * 2 = 16  8 * 3 = 24  8 * 4 = 32  8 * 5 = 40  8 * 6 = 48  8 * 7 = 56  8 * 8 = 64  8 * 9 = 72  \n",
      "9 * 1 = 9   9 * 2 = 18  9 * 3 = 27  9 * 4 = 36  9 * 5 = 45  9 * 6 = 54  9 * 7 = 63  9 * 8 = 72  9 * 9 = 81  \n"
     ]
    }
   ],
   "source": [
    "#巢狀迴圈\n",
    "for i in range(1, 10):\n",
    "    for j in range(1, 10):\n",
    "        print(f\"{i:<2}*{j:2} = {i*j:<2}\",end=\"  \") #:2 兩個字元 :<2 靠左 \n",
    "    print()"
   ]
  },
  {
   "cell_type": "code",
   "execution_count": 25,
   "metadata": {},
   "outputs": [
    {
     "name": "stdout",
     "output_type": "stream",
     "text": [
      "成年\n",
      "成年\n"
     ]
    }
   ],
   "source": [
    "# not 調換程式執行順序\n",
    "age = 18\n",
    "\n",
    "#True先執行再False\n",
    "if age >= 18: #True -> 執行\n",
    "    print(\"成年\")\n",
    "else:\n",
    "    print(\"未成年\")\n",
    "\n",
    "#False先執行再True\n",
    "if not (age >= 18): #not True = False -> 執行\n",
    "    print(\"未成年\")\n",
    "else:\n",
    "    print(\"成年\")"
   ]
  },
  {
   "cell_type": "code",
   "execution_count": 33,
   "metadata": {},
   "outputs": [
    {
     "name": "stdout",
     "output_type": "stream",
     "text": [
      "1~10:55\n"
     ]
    }
   ],
   "source": [
    "#while\n",
    "#建立變數\n",
    "n = 1\n",
    "total = 0\n",
    "while n <= 10: #比較變數\n",
    "    total += n\n",
    "    n += 1 #改變變數值\n",
    "\n",
    "print(f\"1~10:{total}\")"
   ]
  },
  {
   "cell_type": "code",
   "execution_count": 50,
   "metadata": {},
   "outputs": [
    {
     "name": "stdout",
     "output_type": "stream",
     "text": [
      "請輸入起始值:1\n",
      "請輸入結束值:100\n",
      "1~100的加總=5050\n"
     ]
    }
   ],
   "source": [
    "start = pyip.inputInt(prompt=\"請輸入起始值:\")\n",
    "s = start\n",
    "print(start)\n",
    "end = pyip.inputInt(prompt=\"請輸入結束值:\")\n",
    "print(end)\n",
    "total = 0\n",
    "while start <= end:\n",
    "    total += start\n",
    "    start += 1\n",
    "print(f\"{s}~{end}的加總={total}\")"
   ]
  },
  {
   "cell_type": "code",
   "execution_count": 4,
   "metadata": {},
   "outputs": [
    {
     "name": "stdout",
     "output_type": "stream",
     "text": [
      "請輸入第1個月的存款:70000\n",
      "========================================\n",
      "恭喜!已經存夠了,總共存了1月份,總存款為:70000\n"
     ]
    }
   ],
   "source": [
    "#機車39800元,每月存的錢輸入,存款足夠買車時,顯示提示訊息\n",
    "import pyinputplus as pyip\n",
    "month = 0\n",
    "deposit = 0     #建立變數\n",
    "while(deposit<39800):       #比較變數\n",
    "    month += 1      #一進迴圈先加1\n",
    "    input = pyip.inputInt(prompt=f\"請輸入第{month}個月的存款:\")     #輸入存款數\n",
    "    print(input)\n",
    "    deposit += input        #改變變數值 總存款+每月存的錢\n",
    "    if deposit < 39800:     #低於39800時顯示還差多少\n",
    "        print(f\"目前距離目標還差:{39800-deposit}\")\n",
    "    print(\"========================================\")\n",
    "print(f\"恭喜!已經存夠了,總共存了{month}月份,總存款為:{deposit}\")"
   ]
  },
  {
   "cell_type": "code",
   "execution_count": 1,
   "metadata": {},
   "outputs": [
    {
     "name": "stdout",
     "output_type": "stream",
     "text": [
      "2\n"
     ]
    }
   ],
   "source": [
    "while(True):\n",
    "    value = input(\"請輸入小寫英文字[按q會離開]:\")\n",
    "    if value == 'q':\n",
    "        break\n",
    "    print(value)"
   ]
  },
  {
   "cell_type": "code",
   "execution_count": 2,
   "metadata": {},
   "outputs": [
    {
     "name": "stdout",
     "output_type": "stream",
     "text": [
      "不作動作,請重新輸入\n",
      "不作動作,請重新輸入\n",
      "7777777的平方是60493815061729\n"
     ]
    }
   ],
   "source": [
    "#奇數輸出平方\n",
    "#偶數不做任何動作\n",
    "while(True):\n",
    "    keyin = input(\"請輸入整數,輸入[q]會離開]:\")\n",
    "    if keyin == 'q':\n",
    "        break\n",
    "    value = int(keyin)\n",
    "    if value % 2 == 0:\n",
    "        print(\"不作動作,請重新輸入\")\n",
    "        continue\n",
    "    else:\n",
    "        print(f\"{value}的平方是{value ** 2}\")"
   ]
  },
  {
   "cell_type": "code",
   "execution_count": 3,
   "metadata": {},
   "outputs": [
    {
     "name": "stdout",
     "output_type": "stream",
     "text": [
      "55的平方是3025\n",
      "99的平方是9801\n",
      "不作動作,請重新輸入\n",
      "不作動作,請重新輸入\n",
      "請重新輸入\n",
      "請重新輸入\n"
     ]
    }
   ],
   "source": [
    "#奇數輸出平方\n",
    "#偶數不做任何動作\n",
    "while(True):\n",
    "    keyin = input(\"請輸入整數,輸入[q]會離開]:\")\n",
    "    if keyin == 'q':\n",
    "        break\n",
    "    try:\n",
    "        value = int(keyin)\n",
    "    except:\n",
    "        print(\"請重新輸入\")\n",
    "        continue\n",
    "    else:\n",
    "        if value % 2 == 0:\n",
    "            print(\"不作動作,請重新輸入\")\n",
    "            continue\n",
    "        else:\n",
    "            print(f\"{value}的平方是{value ** 2}\")"
   ]
  },
  {
   "cell_type": "code",
   "execution_count": 9,
   "metadata": {},
   "outputs": [
    {
     "name": "stdout",
     "output_type": "stream",
     "text": [
      "輸入值為:ppppppp,錯誤請重新輸入\n",
      "輸入值為:bbbbbbbbbb,錯誤請重新輸入\n",
      "5\n"
     ]
    }
   ],
   "source": [
    "while(True):\n",
    "    input_value = input(\"請輸入整數\")\n",
    "    try:\n",
    "        value = int(input_value)\n",
    "    except:\n",
    "        print(f\"輸入值為:{input_value},錯誤請重新輸入\")\n",
    "        continue\n",
    "    else:\n",
    "        print(value)\n",
    "        break"
   ]
  },
  {
   "cell_type": "code",
   "execution_count": 12,
   "metadata": {},
   "outputs": [
    {
     "name": "stdout",
     "output_type": "stream",
     "text": [
      "輸入值為:55,數值必須在10~20之間\n",
      "輸入值為:99,數值必須在10~20之間\n",
      "輸入值為:700,數值必須在10~20之間\n",
      "輸入值為:a,錯誤請重新輸入\n",
      "輸入值為:b,錯誤請重新輸入\n",
      "輸入值為: cc,錯誤請重新輸入\n",
      "輸入值為:ddd,錯誤請重新輸入\n",
      "18\n"
     ]
    }
   ],
   "source": [
    "while(True):\n",
    "    try:\n",
    "        input_value = input(\"請輸入整數\")\n",
    "        value = int(input_value)\n",
    "    except:\n",
    "        print(f\"輸入值為:{input_value},錯誤請重新輸入\")\n",
    "        continue\n",
    "    else:\n",
    "        if value <= 20 and value >= 10:\n",
    "            break\n",
    "        else:\n",
    "            print(f\"輸入值為:{value},數值必須在10~20之間\")\n",
    "            continue\n",
    "print(value)"
   ]
  },
  {
   "cell_type": "code",
   "execution_count": 17,
   "metadata": {},
   "outputs": [
    {
     "data": {
      "text/plain": [
       "6"
      ]
     },
     "execution_count": 17,
     "metadata": {},
     "output_type": "execute_result"
    }
   ],
   "source": [
    "#建立亂數\n",
    "import random\n",
    "random.randint(1,10)"
   ]
  }
 ],
 "metadata": {
  "kernelspec": {
   "display_name": ".venv",
   "language": "python",
   "name": "python3"
  },
  "language_info": {
   "codemirror_mode": {
    "name": "ipython",
    "version": 3
   },
   "file_extension": ".py",
   "mimetype": "text/x-python",
   "name": "python",
   "nbconvert_exporter": "python",
   "pygments_lexer": "ipython3",
   "version": "3.10.8"
  },
  "orig_nbformat": 4
 },
 "nbformat": 4,
 "nbformat_minor": 2
}

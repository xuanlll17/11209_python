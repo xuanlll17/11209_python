{
 "cells": [
  {
   "cell_type": "code",
   "execution_count": 4,
   "metadata": {},
   "outputs": [
    {
     "name": "stdout",
     "output_type": "stream",
     "text": [
      "<class 'range'>\n",
      "range(0, 10)\n",
      "55\n"
     ]
    }
   ],
   "source": [
    "#迴圈\n",
    "#明確知道執行次數 -> for\n",
    "#不明確知道執行次數 -> while\n",
    "total = 0\n",
    "print(type(range(10)))\n",
    "print(range(10))\n",
    "for i in range(0,11): #for i in range(11) #從0開始加到10\n",
    "    total += i\n",
    "print(total)"
   ]
  },
  {
   "cell_type": "code",
   "execution_count": null,
   "metadata": {},
   "outputs": [],
   "source": [
    "for i in range(0,101,2): #從0開始加到100,每次加2.\n",
    "    print(i)"
   ]
  },
  {
   "cell_type": "code",
   "execution_count": 10,
   "metadata": {},
   "outputs": [
    {
     "name": "stdout",
     "output_type": "stream",
     "text": [
      "請輸入起始值:1\n",
      "請輸入結束值:100\n",
      "1~100的加總=5050\n"
     ]
    }
   ],
   "source": [
    "#1~100的加總\n",
    "import pyinputplus as pyip\n",
    "\n",
    "start = pyip.inputInt(prompt=\"請輸入起始值:\")\n",
    "print(start)\n",
    "end = pyip.inputInt(prompt=\"請輸入結束值:\")\n",
    "print(end)\n",
    "\n",
    "total = 0\n",
    "for i in range(start,end+1):\n",
    "    total += i\n",
    "print(f\"{start}~{end}的加總={total}\")"
   ]
  },
  {
   "cell_type": "code",
   "execution_count": null,
   "metadata": {},
   "outputs": [],
   "source": []
  }
 ],
 "metadata": {
  "kernelspec": {
   "display_name": ".venv",
   "language": "python",
   "name": "python3"
  },
  "language_info": {
   "codemirror_mode": {
    "name": "ipython",
    "version": 3
   },
   "file_extension": ".py",
   "mimetype": "text/x-python",
   "name": "python",
   "nbconvert_exporter": "python",
   "pygments_lexer": "ipython3",
   "version": "3.10.8"
  },
  "orig_nbformat": 4
 },
 "nbformat": 4,
 "nbformat_minor": 2
}

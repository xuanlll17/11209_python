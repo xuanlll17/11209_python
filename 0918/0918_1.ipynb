{
 "cells": [
  {
   "cell_type": "code",
   "execution_count": 1,
   "metadata": {},
   "outputs": [
    {
     "name": "stdout",
     "output_type": "stream",
     "text": [
      "成年\n"
     ]
    }
   ],
   "source": [
    "#if\n",
    "age = 21\n",
    "if age > 18:\n",
    "    print(\"成年\")"
   ]
  },
  {
   "cell_type": "code",
   "execution_count": 6,
   "metadata": {},
   "outputs": [
    {
     "data": {
      "text/plain": [
       "(True, False, False, True, False, True)"
      ]
     },
     "execution_count": 6,
     "metadata": {},
     "output_type": "execute_result"
    }
   ],
   "source": [
    "#關係運算子\n",
    "5 == 5, 5 != 5, 3 > 5, 5 < 6, 4 <= 3, 6 <= 11"
   ]
  },
  {
   "cell_type": "code",
   "execution_count": 16,
   "metadata": {},
   "outputs": [
    {
     "name": "stdout",
     "output_type": "stream",
     "text": [
      "學生總分是:300\n"
     ]
    }
   ],
   "source": [
    "#學生總分為300\n",
    "#有些學生可以加分5%\n",
    "#如果加分超過300,就以300分為準\n",
    "\n",
    "scores = int(input(\"請輸入學生分數(最高分300分):\"))\n",
    "if scores <= 300:\n",
    "    is_add = input(\"請問是否符合加分條件?(y,n)\")\n",
    "    \n",
    "    if is_add == \"y\": \n",
    "        scores *= 1.05\n",
    "        if scores > 300: \n",
    "            scores = 300\n",
    "    print(f\"學生總分是:{scores}\")\n",
    "else:\n",
    "    print(\"學生分數不可以大於300\")\n"
   ]
  },
  {
   "cell_type": "code",
   "execution_count": 23,
   "metadata": {},
   "outputs": [
    {
     "name": "stdout",
     "output_type": "stream",
     "text": [
      "學生總分是:55\n"
     ]
    }
   ],
   "source": [
    "try:\n",
    "    scores = int(input(\"請輸入學生分數(最高分300分):\"))\n",
    "except: #try有錯誤(raise Error)會執行except\n",
    "    print(\"輸入格式有錯誤\")\n",
    "else: #try沒有出錯(raise Error)執行else\n",
    "    if scores <= 300:\n",
    "        is_add = input(\"請問是否符合加分條件?(y,n)\")\n",
    "        \n",
    "        if is_add == \"y\": \n",
    "            scores *= 1.05\n",
    "            if scores > 300: \n",
    "                scores = 300\n",
    "        print(f\"學生總分是:{scores}\")\n",
    "    else:\n",
    "        print(\"學生分數不可以大於300\")"
   ]
  }
 ],
 "metadata": {
  "kernelspec": {
   "display_name": ".venv",
   "language": "python",
   "name": "python3"
  },
  "language_info": {
   "codemirror_mode": {
    "name": "ipython",
    "version": 3
   },
   "file_extension": ".py",
   "mimetype": "text/x-python",
   "name": "python",
   "nbconvert_exporter": "python",
   "pygments_lexer": "ipython3",
   "version": "3.10.8"
  },
  "orig_nbformat": 4
 },
 "nbformat": 4,
 "nbformat_minor": 2
}

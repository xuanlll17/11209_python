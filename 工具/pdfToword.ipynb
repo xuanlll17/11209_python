{
 "cells": [
  {
   "cell_type": "code",
   "execution_count": 2,
   "metadata": {},
   "outputs": [
    {
     "name": "stderr",
     "output_type": "stream",
     "text": [
      "[INFO] Start to convert ./README.pdf\n",
      "[INFO] \u001b[1;36m[1/4] Opening document...\u001b[0m\n",
      "[INFO] \u001b[1;36m[2/4] Analyzing document...\u001b[0m\n",
      "[INFO] \u001b[1;36m[3/4] Parsing pages...\u001b[0m\n",
      "[INFO] (1/5) Page 1\n",
      "[INFO] (2/5) Page 2\n",
      "[INFO] (3/5) Page 3\n",
      "[INFO] (4/5) Page 4\n",
      "[INFO] (5/5) Page 5\n",
      "[INFO] \u001b[1;36m[4/4] Creating pages...\u001b[0m\n",
      "[INFO] (1/5) Page 1\n",
      "[INFO] (2/5) Page 2\n",
      "[INFO] (3/5) Page 3\n",
      "[INFO] (4/5) Page 4\n",
      "[INFO] (5/5) Page 5\n",
      "[INFO] Terminated in 1.23s.\n"
     ]
    }
   ],
   "source": [
    "from pdf2docx import parse\n",
    "\n",
    "pdf_file = \"./README.pdf\"\n",
    "docx_file = \"./sample.docx\"\n",
    "\n",
    "# convert pdf to docx\n",
    "parse(pdf_file, docx_file)"
   ]
  },
  {
   "cell_type": "code",
   "execution_count": null,
   "metadata": {},
   "outputs": [],
   "source": [
    "from pdf2docx import Converter\n",
    "\n",
    "pdf_file = \"./README.pdf\"\n",
    "docx_file = \"./sample.docx\"\n",
    "\n",
    "cv = Converter(pdf_file)\n",
    "cv.convert(docx_file)  # 默认参数start=0, end=None\n",
    "cv.close()"
   ]
  }
 ],
 "metadata": {
  "kernelspec": {
   "display_name": ".venv",
   "language": "python",
   "name": "python3"
  },
  "language_info": {
   "codemirror_mode": {
    "name": "ipython",
    "version": 3
   },
   "file_extension": ".py",
   "mimetype": "text/x-python",
   "name": "python",
   "nbconvert_exporter": "python",
   "pygments_lexer": "ipython3",
   "version": "3.10.8"
  }
 },
 "nbformat": 4,
 "nbformat_minor": 2
}

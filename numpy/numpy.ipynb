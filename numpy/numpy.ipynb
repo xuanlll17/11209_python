{
 "cells": [
  {
   "cell_type": "markdown",
   "metadata": {},
   "source": [
    "# Numpy\n",
    "1. 功能\n",
    "    - 快速多維陣列操作\n",
    "    - 科學功能函數庫\n",
    "    - 協助繪圖工具繪圖\n",
    "2. 提供以向量化形式的快速 N-d 陣列類型供操作\n",
    "3. 核心功能是陣列物件類別\n",
    "4. 陣列類似list,但陣列裡的元素必是相同類型\n",
    "5. list不能直接使用算術運算工具(+,-,*,/,...)\n",
    "6. 提供更有效率的計算與多維運算工具"
   ]
  },
  {
   "cell_type": "code",
   "execution_count": 1,
   "metadata": {},
   "outputs": [],
   "source": [
    "import numpy as np\n",
    "my_arr = np.arange(1000000)\n",
    "my_list = list(range(1000000))"
   ]
  },
  {
   "cell_type": "code",
   "execution_count": 2,
   "metadata": {},
   "outputs": [
    {
     "name": "stdout",
     "output_type": "stream",
     "text": [
      "CPU times: total: 0 ns\n",
      "Wall time: 14 ms\n"
     ]
    }
   ],
   "source": [
    "%time for _ in range(10): my_arr2 = my_arr * 2"
   ]
  },
  {
   "cell_type": "code",
   "execution_count": 3,
   "metadata": {},
   "outputs": [
    {
     "name": "stdout",
     "output_type": "stream",
     "text": [
      "CPU times: total: 406 ms\n",
      "Wall time: 493 ms\n"
     ]
    }
   ],
   "source": [
    "%time for _ in range(10): my_list2 = [x * 2 for x in my_list]"
   ]
  },
  {
   "cell_type": "markdown",
   "metadata": {},
   "source": [
    "list -> 一般陣列"
   ]
  },
  {
   "cell_type": "code",
   "execution_count": 4,
   "metadata": {},
   "outputs": [
    {
     "name": "stdout",
     "output_type": "stream",
     "text": [
      "[5, 7]\n",
      "[1, 3, 5, 7, 9]\n",
      "[6, 8]\n",
      "[1, 3, 5, 7, 9, 3, 5, 6, 7, 9]\n",
      "<class 'list'> <class 'list'> <class 'list'> <class 'list'>\n"
     ]
    }
   ],
   "source": [
    "a = [1, 3, 5, 7, 9]\n",
    "print(a[2:4])  # 輸出a[2]-a[3]\n",
    "\n",
    "b = [[1, 3, 5, 7, 9], [2, 4, 6, 8, 10]]\n",
    "print(b[0])\n",
    "print(b[1][2:4])\n",
    "\n",
    "c = [1, 3, 5, 7, 9]\n",
    "d = [3, 5, 6, 7, 9]\n",
    "f = c+d\n",
    "print(f)\n",
    "print(type(a), type(b), type(c), type(d))"
   ]
  },
  {
   "cell_type": "markdown",
   "metadata": {},
   "source": [
    "# Numpy陣列\n",
    "### 一維陣列\n",
    "![一維陣列](./1d.png)\n",
    "### 二維陣列\n",
    "![二維陣列](./2d.png)\n",
    "### 三維陣列\n",
    "![三維陣列](./3d.png)"
   ]
  },
  {
   "cell_type": "markdown",
   "metadata": {},
   "source": [
    "##### list -> ndarray\n",
    "1. [1, 2, 3]是一維陣列, index:3\n",
    "2. [[1, 0, 0], [0, 1, 2]]是二維陣列, 第一維index:2, 第二維index:3\n",
    "3. Numpy陣列被稱為ndarray\n",
    "4. 透過array方法將list轉為ndarray"
   ]
  },
  {
   "cell_type": "code",
   "execution_count": 5,
   "metadata": {},
   "outputs": [
    {
     "name": "stdout",
     "output_type": "stream",
     "text": [
      "[ 4  8 11 14 18]\n",
      "------------------\n",
      "[-2 -2 -1  0  0]\n",
      "------------------\n",
      "<class 'numpy.ndarray'>\n"
     ]
    }
   ],
   "source": [
    "a = np.array([1, 3, 5, 7, 9])\n",
    "b = np.array([3, 5, 6, 7, 9])\n",
    "c=a+b\n",
    "print(c)\n",
    "print(\"------------------\")\n",
    "c=a-b\n",
    "print(c)\n",
    "print(\"------------------\")\n",
    "print(type(c))"
   ]
  },
  {
   "cell_type": "markdown",
   "metadata": {},
   "source": [
    "## Numpy建立與計算\n",
    "- Numpy的ndarray放的都是相同的資料類型\n",
    "- ndarray是多維度陣列,提供以陣列為導向的快速算術運算和有彈性的廣播(Broadcast\n",
    ")能力\n",
    "    - 廣播(Broadcast)\n",
    "        - 單一數字 \n",
    "            - 將原本陣列所有元素根據運算式加減乘除廣播的數字，產生新的陣列\n",
    "        ![broadcast1](./broadcast1.png)\n",
    "        - 陣列\n",
    "            - 將一陣列廣播到另一陣列，透過運算式計算後廣播，但須注意同一維度的數量必須相等或等於1，不然廣播會錯誤\n",
    "            - 如果相同尺寸陣列，廣播就將同位置元素互相計算，得到最終結果\n",
    "        ![broadcast2](./broadcast2.png)\n",
    "- ndarray提供在整個陣列的數學運算不需使用python的迴圈功能\n",
    "- 線代,亂數,傅立葉轉換\n",
    "- 提供由c,c++,FORTRAN的資料庫\n",
    "### 陣列初始與規劃\n",
    "1. 陣列初始化\n",
    "2. 陣列重新規劃\n",
    "3. 計算與取代\n",
    "### 指定與重設\n",
    "1. 一個整數指定\n",
    "2. tuple或list指定\n",
    "3. 重設陣列\n",
    "### 數值計算與處理\n",
    "1. 數值計算\n",
    "2. 總和最大與最小\n",
    "3. 中位數與平均\n",
    "### NP陣列基本屬性\n",
    "1. ndarray.ndim  - 維度數量\n",
    "2. ndarray.shape - 顯示出陣列在每個維度上的整數值\n",
    "3. ndarray.size  - 陣列內元素的總數\n",
    "4. ndarray.dtype - 來描述陣列中元素類型的對象 "
   ]
  },
  {
   "cell_type": "markdown",
   "metadata": {},
   "source": [
    "Broadcast"
   ]
  },
  {
   "cell_type": "code",
   "execution_count": 6,
   "metadata": {},
   "outputs": [
    {
     "name": "stdout",
     "output_type": "stream",
     "text": [
      "[11 12 13 14]\n",
      "[-9 -8 -7 -6]\n",
      "[10 20 30 40]\n",
      "[1 2 3 4]\n",
      "\n",
      "[[3 4 5]\n",
      " [6 7 8]]\n",
      "[[-1  0  1]\n",
      " [ 2  3  4]]\n",
      "[[ 2  4  6]\n",
      " [ 8 10 12]]\n",
      "[[1 0 1]\n",
      " [0 1 0]]\n"
     ]
    }
   ],
   "source": [
    "a = np.array([1, 2, 3, 4])\n",
    "b = np.sum(a)\n",
    "print(a + b)  # [11 12 13 14]\n",
    "print(a - b)  # [-9 -8 -7 -6]\n",
    "print(a * b)  # [10 20 30 40]\n",
    "print(a % b, end='\\n\\n')  # [1 2 3 4]\n",
    "\n",
    "c = np.array([[1, 2, 3], [4, 5, 6]])\n",
    "d = 2\n",
    "print(c + d)  # [[3 4 5] [6 7 8]]\n",
    "print(c - d)  # [[-1  0  1] [ 2  3  4]]\n",
    "print(c * d)  # [[ 2  4  6] [ 8 10 12]]\n",
    "print(c % d)  # [[1 0 1] [0 1 0]]"
   ]
  },
  {
   "cell_type": "code",
   "execution_count": 7,
   "metadata": {},
   "outputs": [
    {
     "name": "stdout",
     "output_type": "stream",
     "text": [
      "[[2 3 4]\n",
      " [3 4 5]]\n",
      "[[ 0 -1 -2]\n",
      " [ 1  0 -1]]\n",
      "[[1 2 3]\n",
      " [2 4 6]]\n",
      "[[0 1 1]\n",
      " [0 0 2]]\n",
      "\n",
      "[[2 2 2]\n",
      " [4 4 4]\n",
      " [6 6 6]]\n",
      "[[0 0 0]\n",
      " [0 0 0]\n",
      " [0 0 0]]\n",
      "[[1 1 1]\n",
      " [4 4 4]\n",
      " [9 9 9]]\n",
      "[[0 0 0]\n",
      " [0 0 0]\n",
      " [0 0 0]]\n"
     ]
    }
   ],
   "source": [
    "a = np.array([[1, 1, 1], [2, 2, 2]])\n",
    "b = np.array([1, 2, 3])\n",
    "print(a+b)  # [[2 3 4] [3 4 5]]\n",
    "print(a-b)  # [[ 0 -1 -2] [ 1  0 -1]]\n",
    "print(a*b)  # [[1 2 3] [2 4 6]]\n",
    "print(a%b,end='\\n\\n')  # [[0 1 1] [0 0 2]]\n",
    "\n",
    "c = np.array([[1, 1, 1], [2, 2, 2], [3, 3, 3]])\n",
    "d = np.array([[1], [2], [3]])\n",
    "print(c+d)  # [[2 2 2] [4 4 4] [6 6 6]]\n",
    "print(c-d)  # [[0 0 0] [0 0 0] [0 0 0]]\n",
    "print(c*d)  # [[1 1 1] [4 4 4] [9 9 9]]\n",
    "print(c%d)  # [[0 0 0] [0 0 0] [0 0 0]]"
   ]
  },
  {
   "cell_type": "markdown",
   "metadata": {},
   "source": [
    "ndArray"
   ]
  },
  {
   "cell_type": "code",
   "execution_count": 8,
   "metadata": {},
   "outputs": [
    {
     "name": "stdout",
     "output_type": "stream",
     "text": [
      "chinese:[93, 93, 82, 63, 98, 73, 94, 60, 78, 80, 90, 66, 65, 66, 79, 73, 88, 79, 98, 96, 63, 69, 60, 67, 65, 86, 73, 66, 96, 82, 74, 78, 61, 68, 78, 62, 62, 83, 69, 66, 85, 85, 87, 100, 72, 80, 75, 65, 84, 93]\n",
      "english:[81, 62, 95, 99, 77, 83, 63, 69, 85, 76, 65, 65, 79, 81, 73, 74, 72, 66, 96, 85, 94, 71, 61, 86, 95, 77, 67, 96, 64, 61, 70, 94, 86, 79, 62, 88, 66, 84, 100, 63, 65, 88, 93, 79, 98, 95, 60, 78, 75, 97]\n"
     ]
    }
   ],
   "source": [
    "# 建立50位學生的中文和英文的分數\n",
    "import random\n",
    "chinese = [random.randint(60, 100) for _ in range(50)]\n",
    "english = [random.randint(60, 100) for _ in range(50)]\n",
    "\n",
    "print(f'chinese:{chinese}')\n",
    "print(f'english:{english}')"
   ]
  },
  {
   "cell_type": "code",
   "execution_count": 9,
   "metadata": {},
   "outputs": [
    {
     "name": "stdout",
     "output_type": "stream",
     "text": [
      "[174, 155, 177, 162, 175, 156, 157, 129, 163, 156, 155, 131, 144, 147, 152, 147, 160, 145, 194, 181, 157, 140, 121, 153, 160, 163, 140, 162, 160, 143, 144, 172, 147, 147, 140, 150, 128, 167, 169, 129, 150, 173, 180, 179, 170, 175, 135, 143, 159, 190]\n"
     ]
    },
    {
     "data": {
      "text/plain": [
       "[174,\n",
       " 155,\n",
       " 177,\n",
       " 162,\n",
       " 175,\n",
       " 156,\n",
       " 157,\n",
       " 129,\n",
       " 163,\n",
       " 156,\n",
       " 155,\n",
       " 131,\n",
       " 144,\n",
       " 147,\n",
       " 152,\n",
       " 147,\n",
       " 160,\n",
       " 145,\n",
       " 194,\n",
       " 181,\n",
       " 157,\n",
       " 140,\n",
       " 121,\n",
       " 153,\n",
       " 160,\n",
       " 163,\n",
       " 140,\n",
       " 162,\n",
       " 160,\n",
       " 143,\n",
       " 144,\n",
       " 172,\n",
       " 147,\n",
       " 147,\n",
       " 140,\n",
       " 150,\n",
       " 128,\n",
       " 167,\n",
       " 169,\n",
       " 129,\n",
       " 150,\n",
       " 173,\n",
       " 180,\n",
       " 179,\n",
       " 170,\n",
       " 175,\n",
       " 135,\n",
       " 143,\n",
       " 159,\n",
       " 190]"
      ]
     },
     "execution_count": 9,
     "metadata": {},
     "output_type": "execute_result"
    }
   ],
   "source": [
    "# 中文和英文的總和\n",
    "result = []\n",
    "for i in range(50):\n",
    "    total = chinese[i] + english[i]  # ex:chinese[1]+english[1]\n",
    "    result.append(total)  # total加到list裡面\n",
    "print(result)\n",
    "\n",
    "#利用comprehension來建立中文和英文的總和\n",
    "result = [chinese[i]+english[i] for i in range(50)]\n",
    "result"
   ]
  },
  {
   "cell_type": "code",
   "execution_count": 10,
   "metadata": {},
   "outputs": [
    {
     "name": "stdout",
     "output_type": "stream",
     "text": [
      "<class 'numpy.ndarray'>\n",
      "[ 93  93  82  63  98  73  94  60  78  80  90  66  65  66  79  73  88  79\n",
      "  98  96  63  69  60  67  65  86  73  66  96  82  74  78  61  68  78  62\n",
      "  62  83  69  66  85  85  87 100  72  80  75  65  84  93]\n",
      "<class 'numpy.ndarray'>\n",
      "[ 81  62  95  99  77  83  63  69  85  76  65  65  79  81  73  74  72  66\n",
      "  96  85  94  71  61  86  95  77  67  96  64  61  70  94  86  79  62  88\n",
      "  66  84 100  63  65  88  93  79  98  95  60  78  75  97]\n",
      "[174 155 177 162 175 156 157 129 163 156 155 131 144 147 152 147 160 145\n",
      " 194 181 157 140 121 153 160 163 140 162 160 143 144 172 147 147 140 150\n",
      " 128 167 169 129 150 173 180 179 170 175 135 143 159 190]\n"
     ]
    }
   ],
   "source": [
    "# numpy可以陣列和陣列做運算\n",
    "ndChinese = np.array(chinese)\n",
    "print(ndChinese.__class__)\n",
    "print(ndChinese)\n",
    "ndEnglish = np.array(english)\n",
    "print(ndEnglish.__class__)\n",
    "print(ndEnglish)\n",
    "print(ndChinese+ndEnglish)"
   ]
  },
  {
   "cell_type": "markdown",
   "metadata": {},
   "source": [
    "使用array function 建立ndarray"
   ]
  },
  {
   "cell_type": "code",
   "execution_count": 11,
   "metadata": {},
   "outputs": [
    {
     "name": "stdout",
     "output_type": "stream",
     "text": [
      "2\n",
      "(2, 3)\n",
      "6\n"
     ]
    },
    {
     "data": {
      "text/plain": [
       "dtype('int32')"
      ]
     },
     "execution_count": 11,
     "metadata": {},
     "output_type": "execute_result"
    }
   ],
   "source": [
    "# 不要使用from numpy import *,容易和其他module衝突,例如(max,min)\n",
    "# np.array(任何的串列資料)\n",
    "\n",
    "l = [[1, 2, 3], [2, 3, 4]]\n",
    "a = np.array(l)\n",
    "a  #array([[1, 2, 3],[2, 3, 4]])\n",
    "\n",
    "print(a.ndim)   # 維度\n",
    "print(a.shape)  # 形狀\n",
    "print(a.size)   # 總元素數量\n",
    "a.dtype         # ndarray的資料型別"
   ]
  },
  {
   "cell_type": "code",
   "execution_count": 14,
   "metadata": {},
   "outputs": [
    {
     "data": {
      "text/plain": [
       "array([[ 0.57422944, -0.69033685, -0.51799289],\n",
       "       [-1.99913863, -1.1341877 , -0.12644057]])"
      ]
     },
     "execution_count": 14,
     "metadata": {},
     "output_type": "execute_result"
    }
   ],
   "source": [
    "# 產生亂數陣列\n",
    "data = np.random.randn(2, 3)  # 產生一2x3陣列  # randn產生符合常態分佈的亂數\n",
    "data"
   ]
  },
  {
   "cell_type": "code",
   "execution_count": 17,
   "metadata": {},
   "outputs": [
    {
     "data": {
      "text/plain": [
       "array([[  5.74229436,  -6.90336852,  -5.1799289 ],\n",
       "       [-19.99138632, -11.34187703,  -1.26440571]])"
      ]
     },
     "execution_count": 17,
     "metadata": {},
     "output_type": "execute_result"
    }
   ],
   "source": [
    "# 數學運算\n",
    "data * 10"
   ]
  },
  {
   "cell_type": "code",
   "execution_count": 18,
   "metadata": {},
   "outputs": [
    {
     "data": {
      "text/plain": [
       "array([[ 1.14845887, -1.3806737 , -1.03598578],\n",
       "       [-3.99827726, -2.26837541, -0.25288114]])"
      ]
     },
     "execution_count": 18,
     "metadata": {},
     "output_type": "execute_result"
    }
   ],
   "source": [
    "data += data  # 每個值自己加自己\n",
    "data"
   ]
  },
  {
   "cell_type": "code",
   "execution_count": 19,
   "metadata": {},
   "outputs": [
    {
     "data": {
      "text/plain": [
       "(2, 3)"
      ]
     },
     "execution_count": 19,
     "metadata": {},
     "output_type": "execute_result"
    }
   ],
   "source": [
    "# 每個陣列都有shape,使用tuple來表示每個維度的大小\n",
    "data.shape"
   ]
  },
  {
   "cell_type": "code",
   "execution_count": 20,
   "metadata": {},
   "outputs": [
    {
     "data": {
      "text/plain": [
       "dtype('float64')"
      ]
     },
     "execution_count": 20,
     "metadata": {},
     "output_type": "execute_result"
    }
   ],
   "source": [
    "# 使用dtype屬性來顯示目前陣列內的資料型態(相同型態)\n",
    "data.dtype"
   ]
  },
  {
   "cell_type": "code",
   "execution_count": 22,
   "metadata": {},
   "outputs": [
    {
     "data": {
      "text/plain": [
       "array([6. , 7.5, 8. , 0. , 1. ])"
      ]
     },
     "execution_count": 22,
     "metadata": {},
     "output_type": "execute_result"
    }
   ],
   "source": [
    "# 建立一維ndarray\n",
    "data1 = [6, 7.5, 8, 0, 1]\n",
    "arr1 = np.array(data1)\n",
    "arr1"
   ]
  },
  {
   "cell_type": "code",
   "execution_count": 25,
   "metadata": {},
   "outputs": [
    {
     "data": {
      "text/plain": [
       "array([[1, 2, 3, 4],\n",
       "       [5, 6, 7, 8]])"
      ]
     },
     "execution_count": 25,
     "metadata": {},
     "output_type": "execute_result"
    }
   ],
   "source": [
    "# 建立二維ndarray\n",
    "data2 = [[1, 2, 3, 4], [5, 6, 7, 8]]\n",
    "arr2 = np.array(data2)\n",
    "arr2"
   ]
  },
  {
   "cell_type": "code",
   "execution_count": 26,
   "metadata": {},
   "outputs": [
    {
     "data": {
      "text/plain": [
       "2"
      ]
     },
     "execution_count": 26,
     "metadata": {},
     "output_type": "execute_result"
    }
   ],
   "source": [
    "# ndim屬性查詢維度\n",
    "arr2.ndim"
   ]
  },
  {
   "cell_type": "code",
   "execution_count": 27,
   "metadata": {},
   "outputs": [
    {
     "data": {
      "text/plain": [
       "(2, 4)"
      ]
     },
     "execution_count": 27,
     "metadata": {},
     "output_type": "execute_result"
    }
   ],
   "source": [
    "# shape查詢每個維度大小\n",
    "arr2.shape"
   ]
  },
  {
   "cell_type": "code",
   "execution_count": 28,
   "metadata": {},
   "outputs": [
    {
     "data": {
      "text/plain": [
       "dtype('float64')"
      ]
     },
     "execution_count": 28,
     "metadata": {},
     "output_type": "execute_result"
    }
   ],
   "source": [
    "arr1.dtype"
   ]
  },
  {
   "cell_type": "code",
   "execution_count": 29,
   "metadata": {},
   "outputs": [
    {
     "data": {
      "text/plain": [
       "dtype('int32')"
      ]
     },
     "execution_count": 29,
     "metadata": {},
     "output_type": "execute_result"
    }
   ],
   "source": [
    "arr2.dtype"
   ]
  },
  {
   "cell_type": "code",
   "execution_count": 36,
   "metadata": {},
   "outputs": [
    {
     "data": {
      "text/plain": [
       "array([[[8.51767459e-312, 2.96439388e-322],\n",
       "        [0.00000000e+000, 0.00000000e+000],\n",
       "        [1.06099790e-312, 1.50008929e+248]],\n",
       "\n",
       "       [[4.31174539e-096, 1.15998412e-028],\n",
       "        [3.77778426e+180, 1.15998412e-028],\n",
       "        [4.19462329e+228, 1.55535091e+161]]])"
      ]
     },
     "execution_count": 36,
     "metadata": {},
     "output_type": "execute_result"
    }
   ],
   "source": [
    "# 使用ones(),zeros(),empty(),arange()function建立ndarray\n",
    "np.zeros(10)  # 建立一維矩陣,內容為10個0\n",
    "\"\"\"\n",
    "array([0., 0., 0., 0., 0., 0., 0., 0., 0., 0.])\n",
    "\"\"\"\n",
    "np.zeros((3, 6))\n",
    "\"\"\"\n",
    "array([[0., 0., 0., 0., 0., 0.],\n",
    "       [0., 0., 0., 0., 0., 0.],\n",
    "       [0., 0., 0., 0., 0., 0.]])\n",
    "\"\"\"\n",
    "np.empty((2, 3, 2))  # value都是garbage  # value為隨機值(未初始化,可能為任意值)\n"
   ]
  },
  {
   "cell_type": "code",
   "execution_count": 37,
   "metadata": {},
   "outputs": [
    {
     "data": {
      "text/plain": [
       "array([ 0,  1,  2,  3,  4,  5,  6,  7,  8,  9, 10, 11, 12, 13, 14])"
      ]
     },
     "execution_count": 37,
     "metadata": {},
     "output_type": "execute_result"
    }
   ],
   "source": [
    "# 使用arange()function建立,類似於python range()\n",
    "np.arange(15)  # 0-14"
   ]
  }
 ],
 "metadata": {
  "kernelspec": {
   "display_name": ".venv",
   "language": "python",
   "name": "python3"
  },
  "language_info": {
   "codemirror_mode": {
    "name": "ipython",
    "version": 3
   },
   "file_extension": ".py",
   "mimetype": "text/x-python",
   "name": "python",
   "nbconvert_exporter": "python",
   "pygments_lexer": "ipython3",
   "version": "3.10.8"
  }
 },
 "nbformat": 4,
 "nbformat_minor": 2
}

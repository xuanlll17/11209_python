{
 "cells": [
  {
   "cell_type": "markdown",
   "metadata": {},
   "source": [
    "# Numpy\n",
    "1. 功能\n",
    "    - 快速多維陣列操作\n",
    "    - 科學功能函數庫\n",
    "    - 協助繪圖工具繪圖\n",
    "2. 提供以向量化形式的快速 N-d 陣列類型供操作\n",
    "3. 核心功能是陣列物件類別\n",
    "4. 陣列類似list,但陣列裡的元素必是相同類型\n",
    "5. list不能直接使用算術運算工具(+,-,*,/,...)\n",
    "6. 提供更有效率的計算與多維運算工具"
   ]
  },
  {
   "cell_type": "code",
   "execution_count": 6,
   "metadata": {},
   "outputs": [],
   "source": [
    "import numpy as np\n",
    "my_arr = np.arange(1000000)\n",
    "my_list = list(range(1000000))"
   ]
  },
  {
   "cell_type": "code",
   "execution_count": 7,
   "metadata": {},
   "outputs": [
    {
     "name": "stdout",
     "output_type": "stream",
     "text": [
      "CPU times: total: 0 ns\n",
      "Wall time: 12.5 ms\n"
     ]
    }
   ],
   "source": [
    "%time for _ in range(10): my_arr2 = my_arr * 2"
   ]
  },
  {
   "cell_type": "code",
   "execution_count": 8,
   "metadata": {},
   "outputs": [
    {
     "name": "stdout",
     "output_type": "stream",
     "text": [
      "CPU times: total: 375 ms\n",
      "Wall time: 448 ms\n"
     ]
    }
   ],
   "source": [
    "%time for _ in range(10): my_list2 = [x * 2 for x in my_list]"
   ]
  },
  {
   "cell_type": "markdown",
   "metadata": {},
   "source": [
    "list -> 一般陣列"
   ]
  },
  {
   "cell_type": "code",
   "execution_count": 11,
   "metadata": {},
   "outputs": [
    {
     "name": "stdout",
     "output_type": "stream",
     "text": [
      "[5, 7]\n",
      "[1, 3, 5, 7, 9]\n",
      "[6, 8]\n",
      "[1, 3, 5, 7, 9, 3, 5, 6, 7, 9]\n",
      "<class 'list'> <class 'list'> <class 'list'> <class 'list'>\n"
     ]
    }
   ],
   "source": [
    "a = [1, 3, 5, 7, 9]\n",
    "print(a[2:4])  # 輸出a[2]-a[3]\n",
    "\n",
    "b = [[1, 3, 5, 7, 9], [2, 4, 6, 8, 10]]\n",
    "print(b[0])\n",
    "print(b[1][2:4])\n",
    "\n",
    "c = [1, 3, 5, 7, 9]\n",
    "d = [3, 5, 6, 7, 9]\n",
    "f = c+d\n",
    "print(f)\n",
    "print(type(a), type(b), type(c), type(d))"
   ]
  },
  {
   "cell_type": "markdown",
   "metadata": {},
   "source": [
    "# Numpy陣列\n",
    "### 一維陣列\n",
    "![一維陣列](./1d.png)\n",
    "### 二維陣列\n",
    "![二維陣列](./2d.png)\n",
    "### 三維陣列\n",
    "![三維陣列](./3d.png)"
   ]
  },
  {
   "cell_type": "markdown",
   "metadata": {},
   "source": [
    "##### list -> ndarray\n",
    "1. [1, 2, 3]是一維陣列, index:3\n",
    "2. [[1, 0, 0], [0, 1, 2]]是二維陣列, 第一維index:2, 第二維index:3\n",
    "3. Numpy陣列被稱為ndarray\n",
    "4. 透過array方法將list轉為ndarray"
   ]
  },
  {
   "cell_type": "code",
   "execution_count": 13,
   "metadata": {},
   "outputs": [
    {
     "name": "stdout",
     "output_type": "stream",
     "text": [
      "[ 4  8 11 14 18]\n",
      "------------------\n",
      "[-2 -2 -1  0  0]\n",
      "------------------\n",
      "<class 'numpy.ndarray'>\n"
     ]
    }
   ],
   "source": [
    "a = np.array([1, 3, 5, 7, 9])\n",
    "b = np.array([3, 5, 6, 7, 9])\n",
    "c=a+b\n",
    "print(c)\n",
    "print(\"------------------\")\n",
    "c=a-b\n",
    "print(c)\n",
    "print(\"------------------\")\n",
    "print(type(c))"
   ]
  },
  {
   "cell_type": "markdown",
   "metadata": {},
   "source": [
    "## Numpy建立與計算\n",
    "- Numpy的ndarray放的都是相同的資料類型\n",
    "- ndarray是多維度陣列,提供以陣列為導向的快速算術運算和有彈性的廣播(Broadcast\n",
    ")能力\n",
    "    - 廣播(Broadcast)\n",
    "        - 單一數字 \n",
    "            - 將原本陣列所有元素根據運算式加減乘除廣播的數字，產生新的陣列\n",
    "        ![broadcast1](./broadcast1.png)\n",
    "        - 陣列\n",
    "            - 將一陣列廣播到另一陣列，透過運算式計算後廣播，但須注意同一維度的數量必須相等或等於1，不然廣播會錯誤\n",
    "            - 如果相同尺寸陣列，廣播就將同位置元素互相計算，得到最終結果\n",
    "        ![broadcast2](./broadcast2.png)\n",
    "- ndarray提供在整個陣列的數學運算不需使用python的迴圈功能\n",
    "- 線代,亂數,傅立葉轉換\n",
    "- 提供由c,c++,FORTRAN的資料庫\n",
    "### 陣列初始與規劃\n",
    "1. 陣列初始化\n",
    "2. 陣列重新規劃\n",
    "3. 計算與取代\n",
    "### 指定與重設\n",
    "1. 一個整數指定\n",
    "2. tuple或list指定\n",
    "3. 重設陣列\n",
    "### 數值計算與處理\n",
    "1. 數值計算\n",
    "2. 總和最大與最小\n",
    "3. 中位數與平均\n",
    "### NP陣列基本屬性\n",
    "1. ndarray.ndim  - 維度數量\n",
    "2. ndarray.shape - 顯示出陣列在每個維度上的整數值\n",
    "3. ndarray.size  - 陣列內元素的總數\n",
    "4. ndarray.dtype - 來描述陣列中元素類型的對象 "
   ]
  },
  {
   "cell_type": "markdown",
   "metadata": {},
   "source": [
    "Broadcast"
   ]
  },
  {
   "cell_type": "code",
   "execution_count": null,
   "metadata": {},
   "outputs": [],
   "source": [
    "a = np.array([1, 2, 3, 4])\n",
    "b = np.sum(a)\n",
    "print(a + b)  # [11 12 13 14]\n",
    "print(a - b)  # [-9 -8 -7 -6]\n",
    "print(a * b)  # [10 20 30 40]\n",
    "print(a % b, end='\\n\\n')  # [1 2 3 4]\n",
    "\n",
    "c = np.array([[1, 2, 3], [4, 5, 6]])\n",
    "d = 2\n",
    "print(c + d)  # [[3 4 5] [6 7 8]]\n",
    "print(c - d)  # [[-1  0  1] [ 2  3  4]]\n",
    "print(c * d)  # [[ 2  4  6] [ 8 10 12]]\n",
    "print(c % d)  # [[1 0 1] [0 1 0]]"
   ]
  },
  {
   "cell_type": "code",
   "execution_count": null,
   "metadata": {},
   "outputs": [],
   "source": [
    "a = np.array([[1, 1, 1], [2, 2, 2]])\n",
    "b = np.array([1, 2, 3])\n",
    "print(a+b)  # [[2 3 4] [3 4 5]]\n",
    "print(a-b)  # [[ 0 -1 -2] [ 1  0 -1]]\n",
    "print(a*b)  # [[1 2 3] [2 4 6]]\n",
    "print(a%b,end='\\n\\n')  # [[0 1 1] [0 0 2]]\n",
    "\n",
    "c = np.array([[1, 1, 1], [2, 2, 2], [3, 3, 3]])\n",
    "d = np.array([[1], [2], [3]])\n",
    "print(c+d)  # [[2 2 2] [4 4 4] [6 6 6]]\n",
    "print(c-d)  # [[0 0 0] [0 0 0] [0 0 0]]\n",
    "print(c*d)  # [[1 1 1] [4 4 4] [9 9 9]]\n",
    "print(c%d)  # [[0 0 0] [0 0 0] [0 0 0]]"
   ]
  },
  {
   "cell_type": "markdown",
   "metadata": {},
   "source": [
    "ndArray"
   ]
  },
  {
   "cell_type": "code",
   "execution_count": 36,
   "metadata": {},
   "outputs": [
    {
     "name": "stdout",
     "output_type": "stream",
     "text": [
      "chinese:[86, 84, 98, 74, 77, 84, 91, 79, 97, 64, 100, 96, 82, 88, 60, 86, 64, 78, 71, 95, 65, 72, 64, 99, 63, 83, 79, 83, 83, 86, 79, 97, 73, 88, 80, 64, 79, 65, 87, 67, 79, 65, 83, 70, 67, 63, 77, 70, 70, 85]\n",
      "english:[84, 63, 96, 69, 65, 86, 100, 81, 61, 77, 68, 88, 79, 70, 74, 61, 82, 67, 82, 65, 76, 90, 83, 96, 68, 87, 81, 82, 60, 83, 89, 83, 71, 95, 81, 98, 80, 73, 77, 91, 68, 88, 61, 70, 87, 83, 62, 98, 70, 86]\n"
     ]
    }
   ],
   "source": [
    "# 建立50位學生的中文和英文的分數\n",
    "import random\n",
    "chinese = [random.randint(60, 100) for _ in range(50)]\n",
    "english = [random.randint(60, 100) for _ in range(50)]\n",
    "\n",
    "print(f'chinese:{chinese}')\n",
    "print(f'english:{english}')"
   ]
  },
  {
   "cell_type": "code",
   "execution_count": null,
   "metadata": {},
   "outputs": [],
   "source": [
    "# 中文和英文的總和\n",
    "result = []\n",
    "for i in range(50):\n",
    "    total = chinese[i] + english[i]  # ex:chinese[1]+english[1]\n",
    "    result.append(total)  # total加到list裡面\n",
    "print(result)\n",
    "\n",
    "#利用comprehension來建立中文和英文的總和\n",
    "result = [chinese[i]+english[i] for i in range(50)]\n",
    "result"
   ]
  },
  {
   "cell_type": "code",
   "execution_count": 44,
   "metadata": {},
   "outputs": [
    {
     "name": "stdout",
     "output_type": "stream",
     "text": [
      "<class 'numpy.ndarray'>\n",
      "[ 86  84  98  74  77  84  91  79  97  64 100  96  82  88  60  86  64  78\n",
      "  71  95  65  72  64  99  63  83  79  83  83  86  79  97  73  88  80  64\n",
      "  79  65  87  67  79  65  83  70  67  63  77  70  70  85]\n",
      "<class 'numpy.ndarray'>\n",
      "[ 84  63  96  69  65  86 100  81  61  77  68  88  79  70  74  61  82  67\n",
      "  82  65  76  90  83  96  68  87  81  82  60  83  89  83  71  95  81  98\n",
      "  80  73  77  91  68  88  61  70  87  83  62  98  70  86]\n",
      "[170 147 194 143 142 170 191 160 158 141 168 184 161 158 134 147 146 145\n",
      " 153 160 141 162 147 195 131 170 160 165 143 169 168 180 144 183 161 162\n",
      " 159 138 164 158 147 153 144 140 154 146 139 168 140 171]\n"
     ]
    }
   ],
   "source": [
    "# numpy可以陣列和陣列做運算\n",
    "ndChinese = np.array(chinese)\n",
    "print(ndChinese.__class__)\n",
    "print(ndChinese)\n",
    "ndEnglish = np.array(english)\n",
    "print(ndEnglish.__class__)\n",
    "print(ndEnglish)\n",
    "print(ndChinese+ndEnglish)"
   ]
  },
  {
   "cell_type": "markdown",
   "metadata": {},
   "source": [
    "使用array function 建立ndarray"
   ]
  },
  {
   "cell_type": "code",
   "execution_count": 54,
   "metadata": {},
   "outputs": [
    {
     "name": "stdout",
     "output_type": "stream",
     "text": [
      "2\n",
      "(2, 3)\n",
      "6\n"
     ]
    },
    {
     "data": {
      "text/plain": [
       "dtype('int32')"
      ]
     },
     "execution_count": 54,
     "metadata": {},
     "output_type": "execute_result"
    }
   ],
   "source": [
    "# 不要使用from numpy import *,容易和其他module衝突,例如(max,min)\n",
    "# np.array(任何的串列資料)\n",
    "\n",
    "l = [[1, 2, 3], [2, 3, 4]]\n",
    "a = np.array(l)\n",
    "a  #array([[1, 2, 3],[2, 3, 4]])\n",
    "\n",
    "print(a.ndim)   # 維度\n",
    "print(a.shape)  # 形狀\n",
    "print(a.size)   # 總元素數量\n",
    "a.dtype         # ndarray的資料型別"
   ]
  },
  {
   "cell_type": "code",
   "execution_count": null,
   "metadata": {},
   "outputs": [],
   "source": []
  }
 ],
 "metadata": {
  "kernelspec": {
   "display_name": ".venv",
   "language": "python",
   "name": "python3"
  },
  "language_info": {
   "codemirror_mode": {
    "name": "ipython",
    "version": 3
   },
   "file_extension": ".py",
   "mimetype": "text/x-python",
   "name": "python",
   "nbconvert_exporter": "python",
   "pygments_lexer": "ipython3",
   "version": "3.10.8"
  }
 },
 "nbformat": 4,
 "nbformat_minor": 2
}

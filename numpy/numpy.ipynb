{
 "cells": [
  {
   "cell_type": "markdown",
   "metadata": {},
   "source": [
    "# Numpy\n",
    "1. 功能\n",
    "    - 快速多維陣列操作\n",
    "    - 科學功能函數庫\n",
    "    - 協助繪圖工具繪圖\n",
    "2. 提供以向量化形式的快速 N-d 陣列類型供操作\n",
    "3. 核心功能是陣列物件類別\n",
    "4. 陣列類似list,但陣列裡的元素必是相同類型\n",
    "5. list不能直接使用算術運算工具(+,-,*,/,...)\n",
    "6. 提供更有效率的計算與多維運算工具"
   ]
  },
  {
   "cell_type": "code",
   "execution_count": 2,
   "metadata": {},
   "outputs": [],
   "source": [
    "import numpy as np\n",
    "my_arr = np.arange(1000000)\n",
    "my_list = list(range(1000000))"
   ]
  },
  {
   "cell_type": "code",
   "execution_count": 3,
   "metadata": {},
   "outputs": [
    {
     "name": "stdout",
     "output_type": "stream",
     "text": [
      "CPU times: total: 0 ns\n",
      "Wall time: 11 ms\n"
     ]
    }
   ],
   "source": [
    "%time for _ in range(10): my_arr2 = my_arr * 2"
   ]
  },
  {
   "cell_type": "code",
   "execution_count": 4,
   "metadata": {},
   "outputs": [
    {
     "name": "stdout",
     "output_type": "stream",
     "text": [
      "CPU times: total: 422 ms\n",
      "Wall time: 492 ms\n"
     ]
    }
   ],
   "source": [
    "%time for _ in range(10): my_list2 = [x * 2 for x in my_list]"
   ]
  },
  {
   "cell_type": "markdown",
   "metadata": {},
   "source": [
    "list -> 一般陣列"
   ]
  },
  {
   "cell_type": "code",
   "execution_count": 5,
   "metadata": {},
   "outputs": [
    {
     "name": "stdout",
     "output_type": "stream",
     "text": [
      "[5, 7]\n",
      "[1, 3, 5, 7, 9]\n",
      "[6, 8]\n",
      "[1, 3, 5, 7, 9, 3, 5, 6, 7, 9]\n",
      "<class 'list'> <class 'list'> <class 'list'> <class 'list'>\n"
     ]
    }
   ],
   "source": [
    "a = [1, 3, 5, 7, 9]\n",
    "print(a[2:4])  # 輸出a[2]-a[3]\n",
    "\n",
    "b = [[1, 3, 5, 7, 9], [2, 4, 6, 8, 10]]\n",
    "print(b[0])\n",
    "print(b[1][2:4])\n",
    "\n",
    "c = [1, 3, 5, 7, 9]\n",
    "d = [3, 5, 6, 7, 9]\n",
    "f = c+d\n",
    "print(f)\n",
    "print(type(a), type(b), type(c), type(d))"
   ]
  },
  {
   "cell_type": "markdown",
   "metadata": {},
   "source": [
    "# Numpy陣列\n",
    "### 一維陣列\n",
    "![一維陣列](./1d.png)\n",
    "### 二維陣列\n",
    "![二維陣列](./2d.png)\n",
    "### 三維陣列\n",
    "![三維陣列](./3d.png)"
   ]
  },
  {
   "cell_type": "markdown",
   "metadata": {},
   "source": [
    "##### list -> ndarray\n",
    "1. [1, 2, 3]是一維陣列, index:3\n",
    "2. [[1, 0, 0], [0, 1, 2]]是二維陣列, 第一維index:2, 第二維index:3\n",
    "3. Numpy陣列被稱為ndarray\n",
    "4. 透過array方法將list轉為ndarray"
   ]
  },
  {
   "cell_type": "code",
   "execution_count": 6,
   "metadata": {},
   "outputs": [
    {
     "name": "stdout",
     "output_type": "stream",
     "text": [
      "[ 4  8 11 14 18]\n",
      "------------------\n",
      "[-2 -2 -1  0  0]\n",
      "------------------\n",
      "<class 'numpy.ndarray'>\n"
     ]
    }
   ],
   "source": [
    "a = np.array([1, 3, 5, 7, 9])\n",
    "b = np.array([3, 5, 6, 7, 9])\n",
    "c=a+b\n",
    "print(c)\n",
    "print(\"------------------\")\n",
    "c=a-b\n",
    "print(c)\n",
    "print(\"------------------\")\n",
    "print(type(c))"
   ]
  },
  {
   "cell_type": "markdown",
   "metadata": {},
   "source": [
    "## Numpy建立與計算\n",
    "- Numpy的ndarray放的都是相同的資料類型\n",
    "- ndarray是多維度陣列,提供以陣列為導向的快速算術運算和有彈性的廣播(Broadcast\n",
    ")能力\n",
    "    - 廣播(Broadcast)\n",
    "        - 單一數字 \n",
    "            - 將原本陣列所有元素根據運算式加減乘除廣播的數字，產生新的陣列\n",
    "        ![broadcast1](./broadcast1.png)\n",
    "        - 陣列\n",
    "            - 將一陣列廣播到另一陣列，透過運算式計算後廣播，但須注意同一維度的數量必須相等或等於1，不然廣播會錯誤\n",
    "            - 如果相同尺寸陣列，廣播就將同位置元素互相計算，得到最終結果\n",
    "        ![broadcast2](./broadcast2.png)\n",
    "- ndarray提供在整個陣列的數學運算不需使用python的迴圈功能\n",
    "- 線代,亂數,傅立葉轉換\n",
    "- 提供由c,c++,FORTRAN的資料庫\n",
    "### 陣列初始與規劃\n",
    "1. 陣列初始化\n",
    "2. 陣列重新規劃\n",
    "3. 計算與取代\n",
    "### 指定與重設\n",
    "1. 一個整數指定\n",
    "2. tuple或list指定\n",
    "3. 重設陣列\n",
    "### 數值計算與處理\n",
    "1. 數值計算\n",
    "2. 總和最大與最小\n",
    "3. 中位數與平均\n",
    "### NP陣列基本屬性\n",
    "1. ndarray.ndim  - 維度數量\n",
    "2. ndarray.shape - 顯示出陣列在每個維度上的整數值\n",
    "3. ndarray.size  - 陣列內元素的總數\n",
    "4. ndarray.dtype - 來描述陣列中元素類型的對象 "
   ]
  },
  {
   "cell_type": "markdown",
   "metadata": {},
   "source": [
    "Broadcast"
   ]
  },
  {
   "cell_type": "code",
   "execution_count": 7,
   "metadata": {},
   "outputs": [
    {
     "name": "stdout",
     "output_type": "stream",
     "text": [
      "[11 12 13 14]\n",
      "[-9 -8 -7 -6]\n",
      "[10 20 30 40]\n",
      "[1 2 3 4]\n",
      "\n",
      "[[3 4 5]\n",
      " [6 7 8]]\n",
      "[[-1  0  1]\n",
      " [ 2  3  4]]\n",
      "[[ 2  4  6]\n",
      " [ 8 10 12]]\n",
      "[[1 0 1]\n",
      " [0 1 0]]\n"
     ]
    }
   ],
   "source": [
    "a = np.array([1, 2, 3, 4])\n",
    "b = np.sum(a)\n",
    "print(a + b)  # [11 12 13 14]\n",
    "print(a - b)  # [-9 -8 -7 -6]\n",
    "print(a * b)  # [10 20 30 40]\n",
    "print(a % b, end='\\n\\n')  # [1 2 3 4]\n",
    "\n",
    "c = np.array([[1, 2, 3], [4, 5, 6]])\n",
    "d = 2\n",
    "print(c + d)  # [[3 4 5] [6 7 8]]\n",
    "print(c - d)  # [[-1  0  1] [ 2  3  4]]\n",
    "print(c * d)  # [[ 2  4  6] [ 8 10 12]]\n",
    "print(c % d)  # [[1 0 1] [0 1 0]]"
   ]
  },
  {
   "cell_type": "code",
   "execution_count": 8,
   "metadata": {},
   "outputs": [
    {
     "name": "stdout",
     "output_type": "stream",
     "text": [
      "[[2 3 4]\n",
      " [3 4 5]]\n",
      "[[ 0 -1 -2]\n",
      " [ 1  0 -1]]\n",
      "[[1 2 3]\n",
      " [2 4 6]]\n",
      "[[0 1 1]\n",
      " [0 0 2]]\n",
      "\n",
      "[[2 2 2]\n",
      " [4 4 4]\n",
      " [6 6 6]]\n",
      "[[0 0 0]\n",
      " [0 0 0]\n",
      " [0 0 0]]\n",
      "[[1 1 1]\n",
      " [4 4 4]\n",
      " [9 9 9]]\n",
      "[[0 0 0]\n",
      " [0 0 0]\n",
      " [0 0 0]]\n"
     ]
    }
   ],
   "source": [
    "a = np.array([[1, 1, 1], [2, 2, 2]])\n",
    "b = np.array([1, 2, 3])\n",
    "print(a+b)  # [[2 3 4] [3 4 5]]\n",
    "print(a-b)  # [[ 0 -1 -2] [ 1  0 -1]]\n",
    "print(a*b)  # [[1 2 3] [2 4 6]]\n",
    "print(a%b,end='\\n\\n')  # [[0 1 1] [0 0 2]]\n",
    "\n",
    "c = np.array([[1, 1, 1], [2, 2, 2], [3, 3, 3]])\n",
    "d = np.array([[1], [2], [3]])\n",
    "print(c+d)  # [[2 2 2] [4 4 4] [6 6 6]]\n",
    "print(c-d)  # [[0 0 0] [0 0 0] [0 0 0]]\n",
    "print(c*d)  # [[1 1 1] [4 4 4] [9 9 9]]\n",
    "print(c%d)  # [[0 0 0] [0 0 0] [0 0 0]]"
   ]
  },
  {
   "cell_type": "markdown",
   "metadata": {},
   "source": [
    "ndArray"
   ]
  },
  {
   "cell_type": "code",
   "execution_count": 9,
   "metadata": {},
   "outputs": [
    {
     "name": "stdout",
     "output_type": "stream",
     "text": [
      "chinese:[71, 97, 61, 89, 79, 85, 96, 82, 83, 95, 84, 64, 75, 96, 93, 76, 64, 74, 74, 98, 88, 65, 79, 100, 85, 90, 65, 84, 82, 77, 89, 62, 94, 92, 85, 70, 62, 77, 96, 74, 91, 96, 69, 67, 61, 76, 95, 77, 75, 69]\n",
      "english:[60, 92, 100, 95, 95, 98, 89, 100, 78, 78, 98, 66, 69, 74, 88, 77, 71, 62, 64, 95, 74, 69, 93, 73, 93, 93, 74, 96, 65, 68, 79, 71, 85, 90, 78, 68, 83, 77, 89, 62, 72, 96, 72, 94, 83, 77, 66, 73, 99, 92]\n"
     ]
    }
   ],
   "source": [
    "# 建立50位學生的中文和英文的分數\n",
    "import random\n",
    "chinese = [random.randint(60, 100) for _ in range(50)]\n",
    "english = [random.randint(60, 100) for _ in range(50)]\n",
    "\n",
    "print(f'chinese:{chinese}')\n",
    "print(f'english:{english}')"
   ]
  },
  {
   "cell_type": "code",
   "execution_count": 10,
   "metadata": {},
   "outputs": [
    {
     "name": "stdout",
     "output_type": "stream",
     "text": [
      "[131, 189, 161, 184, 174, 183, 185, 182, 161, 173, 182, 130, 144, 170, 181, 153, 135, 136, 138, 193, 162, 134, 172, 173, 178, 183, 139, 180, 147, 145, 168, 133, 179, 182, 163, 138, 145, 154, 185, 136, 163, 192, 141, 161, 144, 153, 161, 150, 174, 161]\n"
     ]
    },
    {
     "data": {
      "text/plain": [
       "[131,\n",
       " 189,\n",
       " 161,\n",
       " 184,\n",
       " 174,\n",
       " 183,\n",
       " 185,\n",
       " 182,\n",
       " 161,\n",
       " 173,\n",
       " 182,\n",
       " 130,\n",
       " 144,\n",
       " 170,\n",
       " 181,\n",
       " 153,\n",
       " 135,\n",
       " 136,\n",
       " 138,\n",
       " 193,\n",
       " 162,\n",
       " 134,\n",
       " 172,\n",
       " 173,\n",
       " 178,\n",
       " 183,\n",
       " 139,\n",
       " 180,\n",
       " 147,\n",
       " 145,\n",
       " 168,\n",
       " 133,\n",
       " 179,\n",
       " 182,\n",
       " 163,\n",
       " 138,\n",
       " 145,\n",
       " 154,\n",
       " 185,\n",
       " 136,\n",
       " 163,\n",
       " 192,\n",
       " 141,\n",
       " 161,\n",
       " 144,\n",
       " 153,\n",
       " 161,\n",
       " 150,\n",
       " 174,\n",
       " 161]"
      ]
     },
     "execution_count": 10,
     "metadata": {},
     "output_type": "execute_result"
    }
   ],
   "source": [
    "# 中文和英文的總和\n",
    "result = []\n",
    "for i in range(50):\n",
    "    total = chinese[i] + english[i]  # ex:chinese[1]+english[1]\n",
    "    result.append(total)  # total加到list裡面\n",
    "print(result)\n",
    "\n",
    "#利用comprehension來建立中文和英文的總和\n",
    "result = [chinese[i]+english[i] for i in range(50)]\n",
    "result"
   ]
  },
  {
   "cell_type": "code",
   "execution_count": 11,
   "metadata": {},
   "outputs": [
    {
     "name": "stdout",
     "output_type": "stream",
     "text": [
      "<class 'numpy.ndarray'>\n",
      "[ 71  97  61  89  79  85  96  82  83  95  84  64  75  96  93  76  64  74\n",
      "  74  98  88  65  79 100  85  90  65  84  82  77  89  62  94  92  85  70\n",
      "  62  77  96  74  91  96  69  67  61  76  95  77  75  69]\n",
      "<class 'numpy.ndarray'>\n",
      "[ 60  92 100  95  95  98  89 100  78  78  98  66  69  74  88  77  71  62\n",
      "  64  95  74  69  93  73  93  93  74  96  65  68  79  71  85  90  78  68\n",
      "  83  77  89  62  72  96  72  94  83  77  66  73  99  92]\n",
      "[131 189 161 184 174 183 185 182 161 173 182 130 144 170 181 153 135 136\n",
      " 138 193 162 134 172 173 178 183 139 180 147 145 168 133 179 182 163 138\n",
      " 145 154 185 136 163 192 141 161 144 153 161 150 174 161]\n"
     ]
    }
   ],
   "source": [
    "# numpy可以陣列和陣列做運算\n",
    "ndChinese = np.array(chinese)\n",
    "print(ndChinese.__class__)\n",
    "print(ndChinese)\n",
    "ndEnglish = np.array(english)\n",
    "print(ndEnglish.__class__)\n",
    "print(ndEnglish)\n",
    "print(ndChinese+ndEnglish)"
   ]
  },
  {
   "cell_type": "markdown",
   "metadata": {},
   "source": [
    "使用array function 建立ndarray"
   ]
  },
  {
   "cell_type": "code",
   "execution_count": 12,
   "metadata": {},
   "outputs": [
    {
     "name": "stdout",
     "output_type": "stream",
     "text": [
      "2\n",
      "(2, 3)\n",
      "6\n"
     ]
    },
    {
     "data": {
      "text/plain": [
       "dtype('int32')"
      ]
     },
     "execution_count": 12,
     "metadata": {},
     "output_type": "execute_result"
    }
   ],
   "source": [
    "# 不要使用from numpy import *,容易和其他module衝突,例如(max,min)\n",
    "# np.array(任何的串列資料)\n",
    "\n",
    "l = [[1, 2, 3], [2, 3, 4]]\n",
    "a = np.array(l)\n",
    "a  #array([[1, 2, 3],[2, 3, 4]])\n",
    "\n",
    "print(a.ndim)   # 維度\n",
    "print(a.shape)  # 形狀\n",
    "print(a.size)   # 總元素數量\n",
    "a.dtype         # ndarray的資料型別"
   ]
  },
  {
   "cell_type": "code",
   "execution_count": 13,
   "metadata": {},
   "outputs": [
    {
     "data": {
      "text/plain": [
       "array([[ 0.56951817, -0.77682836,  2.21675036],\n",
       "       [-0.57064405,  1.08810432, -0.40039224]])"
      ]
     },
     "execution_count": 13,
     "metadata": {},
     "output_type": "execute_result"
    }
   ],
   "source": [
    "# 產生亂數陣列\n",
    "data = np.random.randn(2, 3)  # 產生一2x3陣列  # randn產生符合常態分佈的亂數\n",
    "data"
   ]
  },
  {
   "cell_type": "code",
   "execution_count": 14,
   "metadata": {},
   "outputs": [
    {
     "data": {
      "text/plain": [
       "array([[ 5.69518169, -7.76828362, 22.16750362],\n",
       "       [-5.70644046, 10.88104322, -4.00392245]])"
      ]
     },
     "execution_count": 14,
     "metadata": {},
     "output_type": "execute_result"
    }
   ],
   "source": [
    "# 數學運算\n",
    "data * 10"
   ]
  },
  {
   "cell_type": "code",
   "execution_count": 15,
   "metadata": {},
   "outputs": [
    {
     "data": {
      "text/plain": [
       "array([[ 1.13903634, -1.55365672,  4.43350072],\n",
       "       [-1.14128809,  2.17620864, -0.80078449]])"
      ]
     },
     "execution_count": 15,
     "metadata": {},
     "output_type": "execute_result"
    }
   ],
   "source": [
    "data += data  # 每個值自己加自己\n",
    "data"
   ]
  },
  {
   "cell_type": "code",
   "execution_count": 16,
   "metadata": {},
   "outputs": [
    {
     "data": {
      "text/plain": [
       "(2, 3)"
      ]
     },
     "execution_count": 16,
     "metadata": {},
     "output_type": "execute_result"
    }
   ],
   "source": [
    "# 每個陣列都有shape,使用tuple來表示每個維度的大小\n",
    "data.shape"
   ]
  },
  {
   "cell_type": "code",
   "execution_count": 17,
   "metadata": {},
   "outputs": [
    {
     "data": {
      "text/plain": [
       "dtype('float64')"
      ]
     },
     "execution_count": 17,
     "metadata": {},
     "output_type": "execute_result"
    }
   ],
   "source": [
    "# 使用dtype屬性來顯示目前陣列內的資料型態(相同型態)\n",
    "data.dtype"
   ]
  },
  {
   "cell_type": "code",
   "execution_count": 18,
   "metadata": {},
   "outputs": [
    {
     "data": {
      "text/plain": [
       "array([6. , 7.5, 8. , 0. , 1. ])"
      ]
     },
     "execution_count": 18,
     "metadata": {},
     "output_type": "execute_result"
    }
   ],
   "source": [
    "# 建立一維ndarray\n",
    "data1 = [6, 7.5, 8, 0, 1]\n",
    "arr1 = np.array(data1)\n",
    "arr1"
   ]
  },
  {
   "cell_type": "code",
   "execution_count": 19,
   "metadata": {},
   "outputs": [
    {
     "data": {
      "text/plain": [
       "array([[1, 2, 3, 4],\n",
       "       [5, 6, 7, 8]])"
      ]
     },
     "execution_count": 19,
     "metadata": {},
     "output_type": "execute_result"
    }
   ],
   "source": [
    "# 建立二維ndarray\n",
    "data2 = [[1, 2, 3, 4], [5, 6, 7, 8]]\n",
    "arr2 = np.array(data2)\n",
    "arr2"
   ]
  },
  {
   "cell_type": "code",
   "execution_count": 20,
   "metadata": {},
   "outputs": [
    {
     "data": {
      "text/plain": [
       "2"
      ]
     },
     "execution_count": 20,
     "metadata": {},
     "output_type": "execute_result"
    }
   ],
   "source": [
    "# ndim屬性查詢維度\n",
    "arr2.ndim"
   ]
  },
  {
   "cell_type": "code",
   "execution_count": 21,
   "metadata": {},
   "outputs": [
    {
     "data": {
      "text/plain": [
       "(2, 4)"
      ]
     },
     "execution_count": 21,
     "metadata": {},
     "output_type": "execute_result"
    }
   ],
   "source": [
    "# shape查詢每個維度大小\n",
    "arr2.shape"
   ]
  },
  {
   "cell_type": "code",
   "execution_count": 22,
   "metadata": {},
   "outputs": [
    {
     "data": {
      "text/plain": [
       "dtype('float64')"
      ]
     },
     "execution_count": 22,
     "metadata": {},
     "output_type": "execute_result"
    }
   ],
   "source": [
    "arr1.dtype"
   ]
  },
  {
   "cell_type": "code",
   "execution_count": 23,
   "metadata": {},
   "outputs": [
    {
     "data": {
      "text/plain": [
       "dtype('int32')"
      ]
     },
     "execution_count": 23,
     "metadata": {},
     "output_type": "execute_result"
    }
   ],
   "source": [
    "arr2.dtype"
   ]
  },
  {
   "cell_type": "code",
   "execution_count": 24,
   "metadata": {},
   "outputs": [
    {
     "data": {
      "text/plain": [
       "array([[[7.88847339e-312, 2.47032823e-322],\n",
       "        [0.00000000e+000, 0.00000000e+000],\n",
       "        [1.03977794e-312, 5.64233733e-067]],\n",
       "\n",
       "       [[7.42381470e-091, 5.39744909e-062],\n",
       "        [2.34059418e-057, 1.95244010e+184],\n",
       "        [3.99910963e+252, 5.82471487e+257]]])"
      ]
     },
     "execution_count": 24,
     "metadata": {},
     "output_type": "execute_result"
    }
   ],
   "source": [
    "# 使用ones(),zeros(),empty(),arange()function建立ndarray\n",
    "np.zeros(10)  # 建立一維矩陣,內容為10個0\n",
    "\"\"\"\n",
    "array([0., 0., 0., 0., 0., 0., 0., 0., 0., 0.])\n",
    "\"\"\"\n",
    "np.zeros((3, 6))\n",
    "\"\"\"\n",
    "array([[0., 0., 0., 0., 0., 0.],\n",
    "       [0., 0., 0., 0., 0., 0.],\n",
    "       [0., 0., 0., 0., 0., 0.]])\n",
    "\"\"\"\n",
    "np.empty((2, 3, 2))  # value都是garbage  # value為隨機值(未初始化,可能為任意值)\n"
   ]
  },
  {
   "cell_type": "code",
   "execution_count": 25,
   "metadata": {},
   "outputs": [
    {
     "data": {
      "text/plain": [
       "array([ 0,  1,  2,  3,  4,  5,  6,  7,  8,  9, 10, 11, 12, 13, 14])"
      ]
     },
     "execution_count": 25,
     "metadata": {},
     "output_type": "execute_result"
    }
   ],
   "source": [
    "# 使用arange()function建立,類似於python range()\n",
    "np.arange(15)  # 0-14"
   ]
  },
  {
   "cell_type": "markdown",
   "metadata": {},
   "source": [
    "ndarray的資料型別  \n",
    "| 型別 | 型別碼 |\n",
    "|---------|---------|\n",
    "| int8,unit8 | i1,u1 |\n",
    "| int32,uint32 | i3,u3 |\n",
    "| int64,uint64 | i4,u4 |\n",
    "| float16 | f2 |\n",
    "| float32 | f4 or f |\n",
    "| float64 | f8 or d |\n",
    "| float128 | f16 or g |\n",
    "| complex64 | c8 |\n",
    "| complex128 | c16 |\n",
    "| complex256 | c32 |\n",
    "| bool | ? |\n",
    "| object | O |\n",
    "| string_ | S |\n",
    "| unicode) | U |"
   ]
  },
  {
   "cell_type": "code",
   "execution_count": 26,
   "metadata": {},
   "outputs": [
    {
     "data": {
      "text/plain": [
       "dtype('float64')"
      ]
     },
     "execution_count": 26,
     "metadata": {},
     "output_type": "execute_result"
    }
   ],
   "source": [
    "# 建立自訂資料類型的ndarrays\n",
    "arr1 = np.array([1, 2, 3], dtype=np.float64)\n",
    "arr2 = np.array([1, 2, 3], dtype=np.int32)\n",
    "arr1.dtype"
   ]
  },
  {
   "cell_type": "code",
   "execution_count": 27,
   "metadata": {},
   "outputs": [
    {
     "data": {
      "text/plain": [
       "dtype('int32')"
      ]
     },
     "execution_count": 27,
     "metadata": {},
     "output_type": "execute_result"
    }
   ],
   "source": [
    "arr2.dtype"
   ]
  },
  {
   "cell_type": "code",
   "execution_count": 28,
   "metadata": {},
   "outputs": [
    {
     "data": {
      "text/plain": [
       "dtype('int32')"
      ]
     },
     "execution_count": 28,
     "metadata": {},
     "output_type": "execute_result"
    }
   ],
   "source": [
    "# 使用astype() 轉變資料類型\n",
    "# 使用astype(), 將會建立一個新的array()\n",
    "\n",
    "arr = np.array([1, 2, 3, 4, 5])\n",
    "arr.dtype"
   ]
  },
  {
   "cell_type": "code",
   "execution_count": 29,
   "metadata": {},
   "outputs": [
    {
     "data": {
      "text/plain": [
       "dtype('float64')"
      ]
     },
     "execution_count": 29,
     "metadata": {},
     "output_type": "execute_result"
    }
   ],
   "source": [
    "float_arr = arr.astype(np.float64)\n",
    "float_arr.dtype"
   ]
  },
  {
   "cell_type": "code",
   "execution_count": 30,
   "metadata": {},
   "outputs": [
    {
     "data": {
      "text/plain": [
       "array([ 3.7, -1.2, -2.6,  0.5, 12.9, 10.1])"
      ]
     },
     "execution_count": 30,
     "metadata": {},
     "output_type": "execute_result"
    }
   ],
   "source": [
    "# 如果將幅點數轉換為整數, 則小數將被刪除\n",
    "arr = np.array([3.7, -1.2, -2.6, 0.5, 12.9, 10.1])\n",
    "arr"
   ]
  },
  {
   "cell_type": "code",
   "execution_count": 31,
   "metadata": {},
   "outputs": [
    {
     "data": {
      "text/plain": [
       "array([ 3, -1, -2,  0, 12, 10])"
      ]
     },
     "execution_count": 31,
     "metadata": {},
     "output_type": "execute_result"
    }
   ],
   "source": [
    "arr.astype(np.int32)"
   ]
  },
  {
   "cell_type": "code",
   "execution_count": 32,
   "metadata": {},
   "outputs": [
    {
     "data": {
      "text/plain": [
       "array([ 1.25, -9.6 , 42.  ])"
      ]
     },
     "execution_count": 32,
     "metadata": {},
     "output_type": "execute_result"
    }
   ],
   "source": [
    "# string轉為number\n",
    "numeric_strings = np.array(['1.25', '-9.6', '42'],dtype=np.string_)\n",
    "numeric_strings.astype(float)"
   ]
  },
  {
   "cell_type": "markdown",
   "metadata": {},
   "source": [
    "##### 使用數學運算子的數學運算\n",
    "1 陣列重要的原因在於,數學運算不需使用for loop迴圈"
   ]
  },
  {
   "cell_type": "code",
   "execution_count": 33,
   "metadata": {},
   "outputs": [
    {
     "data": {
      "text/plain": [
       "array([[1., 2., 3.],\n",
       "       [4., 5., 6.]])"
      ]
     },
     "execution_count": 33,
     "metadata": {},
     "output_type": "execute_result"
    }
   ],
   "source": [
    "# 相同size的運算\n",
    "arr = np.array([[1., 2., 3.], [4., 5., 6.]])\n",
    "arr"
   ]
  },
  {
   "cell_type": "code",
   "execution_count": 34,
   "metadata": {},
   "outputs": [
    {
     "data": {
      "text/plain": [
       "array([[ 1.,  4.,  9.],\n",
       "       [16., 25., 36.]])"
      ]
     },
     "execution_count": 34,
     "metadata": {},
     "output_type": "execute_result"
    }
   ],
   "source": [
    "arr * arr"
   ]
  },
  {
   "cell_type": "code",
   "execution_count": 35,
   "metadata": {},
   "outputs": [
    {
     "data": {
      "text/plain": [
       "array([[0., 0., 0.],\n",
       "       [0., 0., 0.]])"
      ]
     },
     "execution_count": 35,
     "metadata": {},
     "output_type": "execute_result"
    }
   ],
   "source": [
    "arr - arr"
   ]
  },
  {
   "cell_type": "code",
   "execution_count": 36,
   "metadata": {},
   "outputs": [
    {
     "data": {
      "text/plain": [
       "array([[1.        , 0.5       , 0.33333333],\n",
       "       [0.25      , 0.2       , 0.16666667]])"
      ]
     },
     "execution_count": 36,
     "metadata": {},
     "output_type": "execute_result"
    }
   ],
   "source": [
    "# 和純值的運算\n",
    "arr = np.array([[1., 2., 3.],[4., 5., 6.]])\n",
    "1/arr"
   ]
  },
  {
   "cell_type": "code",
   "execution_count": 37,
   "metadata": {},
   "outputs": [
    {
     "data": {
      "text/plain": [
       "array([[1.        , 1.41421356, 1.73205081],\n",
       "       [2.        , 2.23606798, 2.44948974]])"
      ]
     },
     "execution_count": 37,
     "metadata": {},
     "output_type": "execute_result"
    }
   ],
   "source": [
    "arr ** 0.5"
   ]
  },
  {
   "cell_type": "code",
   "execution_count": 38,
   "metadata": {},
   "outputs": [
    {
     "data": {
      "text/plain": [
       "array([[ 0.,  4.,  1.],\n",
       "       [ 7.,  2., 12.]])"
      ]
     },
     "execution_count": 38,
     "metadata": {},
     "output_type": "execute_result"
    }
   ],
   "source": [
    "# 使用比較運算子,比較2個array\n",
    "# 使用相同shape做比對\n",
    "\n",
    "import numpy as np\n",
    "arr2 = np.array([[0., 4., 1.],[7., 2., 12.]])\n",
    "arr2"
   ]
  },
  {
   "cell_type": "code",
   "execution_count": 39,
   "metadata": {},
   "outputs": [
    {
     "data": {
      "text/plain": [
       "array([[False,  True, False],\n",
       "       [ True, False,  True]])"
      ]
     },
     "execution_count": 39,
     "metadata": {},
     "output_type": "execute_result"
    }
   ],
   "source": [
    "arr2 > arr"
   ]
  },
  {
   "cell_type": "markdown",
   "metadata": {},
   "source": [
    "##### 使用ndarray方法做數值計算\n",
    "1. 數值計算函數內放入參與計算的兩個陣列。\n",
    "2. 進行計算的陣列第一維數量必須是相同。\n",
    "3. add()方法代表「加」，也可以使用「+」。\n",
    "4. subtract()方法代表「減」，也可以使用「-」。\n",
    "5. multiply()方法代表「乘」，也可以使用「*」。\n",
    "6. divide()方法代表「除」，也可以使用「/」。"
   ]
  },
  {
   "cell_type": "code",
   "execution_count": 40,
   "metadata": {},
   "outputs": [
    {
     "data": {
      "text/plain": [
       "array([[11, 12, 13],\n",
       "       [14, 15, 16],\n",
       "       [17, 18, 19]])"
      ]
     },
     "execution_count": 40,
     "metadata": {},
     "output_type": "execute_result"
    }
   ],
   "source": [
    "# 不同size的運算稱為broadcasting\n",
    "# add(), subtract(), multiply\n",
    "\n",
    "import numpy as np\n",
    "a = np.array([[1, 2, 3], [4, 5, 6], [7, 8, 9]])\n",
    "b = np.array([10, 10, 10])\n",
    "c = np.add(a,b)\n",
    "c"
   ]
  },
  {
   "cell_type": "code",
   "execution_count": 41,
   "metadata": {},
   "outputs": [
    {
     "data": {
      "text/plain": [
       "array([[-9, -8, -7],\n",
       "       [-6, -5, -4],\n",
       "       [-3, -2, -1]])"
      ]
     },
     "execution_count": 41,
     "metadata": {},
     "output_type": "execute_result"
    }
   ],
   "source": [
    "d = np.subtract(a,b)  # a-b = d  # 計算a,b之間的差異\n",
    "d"
   ]
  },
  {
   "cell_type": "code",
   "execution_count": 42,
   "metadata": {},
   "outputs": [
    {
     "data": {
      "text/plain": [
       "array([[10, 20, 30],\n",
       "       [40, 50, 60],\n",
       "       [70, 80, 90]])"
      ]
     },
     "execution_count": 42,
     "metadata": {},
     "output_type": "execute_result"
    }
   ],
   "source": [
    "f = np.multiply(a,b)  # a*b = f  # 將a,b元素相乘\n",
    "f"
   ]
  },
  {
   "cell_type": "code",
   "execution_count": 43,
   "metadata": {},
   "outputs": [
    {
     "data": {
      "text/plain": [
       "array([[0.1, 0.2, 0.3],\n",
       "       [0.4, 0.5, 0.6],\n",
       "       [0.7, 0.8, 0.9]])"
      ]
     },
     "execution_count": 43,
     "metadata": {},
     "output_type": "execute_result"
    }
   ],
   "source": [
    "g = np.divide(a,b)  # a/b = g  # 將a中各元素除以b對應元素\n",
    "g"
   ]
  },
  {
   "cell_type": "code",
   "execution_count": 44,
   "metadata": {},
   "outputs": [
    {
     "data": {
      "text/plain": [
       "array([[11, 12, 13],\n",
       "       [14, 15, 16],\n",
       "       [17, 18, 19]])"
      ]
     },
     "execution_count": 44,
     "metadata": {},
     "output_type": "execute_result"
    }
   ],
   "source": [
    "# 使用運算子+, -, *, /\n",
    "\n",
    "import numpy as np\n",
    "a = np.array([[1, 2, 3], [4, 5, 6], [7, 8, 9]])\n",
    "b = np.array([10, 10, 10])\n",
    "a+b"
   ]
  },
  {
   "cell_type": "code",
   "execution_count": 45,
   "metadata": {},
   "outputs": [
    {
     "data": {
      "text/plain": [
       "array([[-9, -8, -7],\n",
       "       [-6, -5, -4],\n",
       "       [-3, -2, -1]])"
      ]
     },
     "execution_count": 45,
     "metadata": {},
     "output_type": "execute_result"
    }
   ],
   "source": [
    "a-b"
   ]
  },
  {
   "cell_type": "code",
   "execution_count": 46,
   "metadata": {},
   "outputs": [
    {
     "data": {
      "text/plain": [
       "array([[10, 20, 30],\n",
       "       [40, 50, 60],\n",
       "       [70, 80, 90]])"
      ]
     },
     "execution_count": 46,
     "metadata": {},
     "output_type": "execute_result"
    }
   ],
   "source": [
    "a*b"
   ]
  },
  {
   "cell_type": "code",
   "execution_count": 47,
   "metadata": {},
   "outputs": [
    {
     "data": {
      "text/plain": [
       "array([[0.1, 0.2, 0.3],\n",
       "       [0.4, 0.5, 0.6],\n",
       "       [0.7, 0.8, 0.9]])"
      ]
     },
     "execution_count": 47,
     "metadata": {},
     "output_type": "execute_result"
    }
   ],
   "source": [
    "a/b"
   ]
  },
  {
   "cell_type": "markdown",
   "metadata": {},
   "source": [
    "##### 數值計算\n",
    "1. np.power(a,n)代表a陣列的n次方。\n",
    "2. a陣列的n次方也可以使用a**n方式表示。\n",
    "3. N可以是陣列，但兩陣列第一維數量必須是相同。\n",
    "4. np.Reciprocal()代表倒數的計算，倒數是指a*b=1，輸入a後求b。\n"
   ]
  },
  {
   "cell_type": "code",
   "execution_count": 48,
   "metadata": {},
   "outputs": [
    {
     "data": {
      "text/plain": [
       "array([4, 5, 6])"
      ]
     },
     "execution_count": 48,
     "metadata": {},
     "output_type": "execute_result"
    }
   ],
   "source": [
    "# power(),**\n",
    "\n",
    "import numpy as np\n",
    "a = np.array([4, 5, 6])\n",
    "a"
   ]
  },
  {
   "cell_type": "code",
   "execution_count": 49,
   "metadata": {},
   "outputs": [
    {
     "data": {
      "text/plain": [
       "array([16, 25, 36], dtype=int32)"
      ]
     },
     "execution_count": 49,
     "metadata": {},
     "output_type": "execute_result"
    }
   ],
   "source": [
    "np.power(a, 2)"
   ]
  },
  {
   "cell_type": "code",
   "execution_count": 50,
   "metadata": {},
   "outputs": [
    {
     "data": {
      "text/plain": [
       "array([  4,  25, 216])"
      ]
     },
     "execution_count": 50,
     "metadata": {},
     "output_type": "execute_result"
    }
   ],
   "source": [
    "c = np.array([1, 2, 3])\n",
    "np.power(a, c)"
   ]
  },
  {
   "cell_type": "code",
   "execution_count": 51,
   "metadata": {},
   "outputs": [
    {
     "data": {
      "text/plain": [
       "array([  4,  25, 216])"
      ]
     },
     "execution_count": 51,
     "metadata": {},
     "output_type": "execute_result"
    }
   ],
   "source": [
    "a ** c"
   ]
  },
  {
   "cell_type": "code",
   "execution_count": 52,
   "metadata": {},
   "outputs": [
    {
     "data": {
      "text/plain": [
       "array([  4.       ,   0.7518797,   1.       , -10.       ,   0.01     ])"
      ]
     },
     "execution_count": 52,
     "metadata": {},
     "output_type": "execute_result"
    }
   ],
   "source": [
    "# 運算子 / , reciprocal()\n",
    "\n",
    "import numpy as np\n",
    "a = np.array([0.25, 1.33, 1, -0.1, 100])\n",
    "1/a"
   ]
  },
  {
   "cell_type": "code",
   "execution_count": 53,
   "metadata": {},
   "outputs": [
    {
     "data": {
      "text/plain": [
       "array([  4.       ,   0.7518797,   1.       , -10.       ,   0.01     ])"
      ]
     },
     "execution_count": 53,
     "metadata": {},
     "output_type": "execute_result"
    }
   ],
   "source": [
    "b = np.reciprocal(a)  # 計算a各元素的倒數\n",
    "b"
   ]
  },
  {
   "cell_type": "code",
   "execution_count": 54,
   "metadata": {},
   "outputs": [
    {
     "data": {
      "text/plain": [
       "array([10, 20, 30])"
      ]
     },
     "execution_count": 54,
     "metadata": {},
     "output_type": "execute_result"
    }
   ],
   "source": [
    "# mod(),remainder()\n",
    "\n",
    "import numpy as np\n",
    "a = np.array([10, 20, 30])\n",
    "b = np.array([3, 5, 7])\n",
    "a"
   ]
  },
  {
   "cell_type": "markdown",
   "metadata": {},
   "source": [
    "mod/remainder 皆為求餘數，大多皆相同"
   ]
  },
  {
   "cell_type": "code",
   "execution_count": 55,
   "metadata": {},
   "outputs": [
    {
     "data": {
      "text/plain": [
       "array([1, 0, 2])"
      ]
     },
     "execution_count": 55,
     "metadata": {},
     "output_type": "execute_result"
    }
   ],
   "source": [
    "c = np.mod(a,b)  # 計算a各元素除以b中對應元素後的餘數\n",
    "c"
   ]
  },
  {
   "cell_type": "code",
   "execution_count": 56,
   "metadata": {},
   "outputs": [
    {
     "data": {
      "text/plain": [
       "array([1, 0, 2])"
      ]
     },
     "execution_count": 56,
     "metadata": {},
     "output_type": "execute_result"
    }
   ],
   "source": [
    "d = np.remainder(a,b)  # 計算餘數\n",
    "d"
   ]
  },
  {
   "cell_type": "code",
   "execution_count": 57,
   "metadata": {},
   "outputs": [
    {
     "data": {
      "text/plain": [
       "50"
      ]
     },
     "execution_count": 57,
     "metadata": {},
     "output_type": "execute_result"
    }
   ],
   "source": [
    "# numpy數值計算和圖表1\n",
    "\n",
    "import numpy as np\n",
    "import matplotlib.pyplot as plt\n",
    "\n",
    "x = np.linspace(-3, 3, 50)  #產生包含50個元素的數組，範圍由-3至3  # linspace將指定範圍內均勻撒點 linspace(開始, 結束, 數字長度, endpoint最後一個數字是否包含, restep兩數字間距, dtype資料型態int,float,double,String...)\n",
    "len(x)  # 長度"
   ]
  },
  {
   "cell_type": "code",
   "execution_count": 58,
   "metadata": {},
   "outputs": [
    {
     "data": {
      "text/plain": [
       "array([9.00000000e+00, 8.28029988e+00, 7.59058726e+00, 6.93086214e+00,\n",
       "       6.30112453e+00, 5.70137443e+00, 5.13161183e+00, 4.59183673e+00,\n",
       "       4.08204915e+00, 3.60224906e+00, 3.15243648e+00, 2.73261141e+00,\n",
       "       2.34277384e+00, 1.98292378e+00, 1.65306122e+00, 1.35318617e+00,\n",
       "       1.08329863e+00, 8.43398584e-01, 6.33486047e-01, 4.53561016e-01,\n",
       "       3.03623490e-01, 1.83673469e-01, 9.37109538e-02, 3.37359434e-02,\n",
       "       3.74843815e-03, 3.74843815e-03, 3.37359434e-02, 9.37109538e-02,\n",
       "       1.83673469e-01, 3.03623490e-01, 4.53561016e-01, 6.33486047e-01,\n",
       "       8.43398584e-01, 1.08329863e+00, 1.35318617e+00, 1.65306122e+00,\n",
       "       1.98292378e+00, 2.34277384e+00, 2.73261141e+00, 3.15243648e+00,\n",
       "       3.60224906e+00, 4.08204915e+00, 4.59183673e+00, 5.13161183e+00,\n",
       "       5.70137443e+00, 6.30112453e+00, 6.93086214e+00, 7.59058726e+00,\n",
       "       8.28029988e+00, 9.00000000e+00])"
      ]
     },
     "execution_count": 58,
     "metadata": {},
     "output_type": "execute_result"
    }
   ],
   "source": [
    "# numpy數值計算和圖表2\n",
    "\n",
    "x\n",
    "\"\"\"\n",
    "array([-3.        , -2.87755102, -2.75510204, -2.63265306, -2.51020408,\n",
    "       -2.3877551 , -2.26530612, -2.14285714, -2.02040816, -1.89795918,\n",
    "       -1.7755102 , -1.65306122, -1.53061224, -1.40816327, -1.28571429,\n",
    "       -1.16326531, -1.04081633, -0.91836735, -0.79591837, -0.67346939,\n",
    "       -0.55102041, -0.42857143, -0.30612245, -0.18367347, -0.06122449,\n",
    "        0.06122449,  0.18367347,  0.30612245,  0.42857143,  0.55102041,\n",
    "        0.67346939,  0.79591837,  0.91836735,  1.04081633,  1.16326531,\n",
    "        1.28571429,  1.40816327,  1.53061224,  1.65306122,  1.7755102 ,\n",
    "        1.89795918,  2.02040816,  2.14285714,  2.26530612,  2.3877551 ,\n",
    "        2.51020408,  2.63265306,  2.75510204,  2.87755102,  3.        ])\n",
    "\"\"\"\n",
    "y1 = 2 * x + 1\n",
    "y1\n",
    "\"\"\"\n",
    "array([-5.        , -4.75510204, -4.51020408, -4.26530612, -4.02040816,\n",
    "       -3.7755102 , -3.53061224, -3.28571429, -3.04081633, -2.79591837,\n",
    "       -2.55102041, -2.30612245, -2.06122449, -1.81632653, -1.57142857,\n",
    "       -1.32653061, -1.08163265, -0.83673469, -0.59183673, -0.34693878,\n",
    "       -0.10204082,  0.14285714,  0.3877551 ,  0.63265306,  0.87755102,\n",
    "        1.12244898,  1.36734694,  1.6122449 ,  1.85714286,  2.10204082,\n",
    "        2.34693878,  2.59183673,  2.83673469,  3.08163265,  3.32653061,\n",
    "        3.57142857,  3.81632653,  4.06122449,  4.30612245,  4.55102041,\n",
    "        4.79591837,  5.04081633,  5.28571429,  5.53061224,  5.7755102 ,\n",
    "        6.02040816,  6.26530612,  6.51020408,  6.75510204,  7.        ])\n",
    "\"\"\"\n",
    "y2 = x ** 2\n",
    "y2"
   ]
  },
  {
   "cell_type": "code",
   "execution_count": 59,
   "metadata": {},
   "outputs": [
    {
     "data": {
      "image/png": "[encoded data removed]",
      "text/plain": [
       "<Figure size 800x500 with 1 Axes>"
      ]
     },
     "metadata": {},
     "output_type": "display_data"
    }
   ],
   "source": [
    "# numpy數值計算和圖表3\n",
    "\n",
    "fig = plt.figure(figsize=(8,5))\n",
    "ax1 = fig.add_subplot(1,1,1)\n",
    "ax1.plot(x,y1,'r--')\n",
    "ax1.plot(x,y2,color=\"red\", linestyle=\"-\", linewidth=1)\n",
    "plt.xlabel('x')\n",
    "plt.ylabel('y')\n",
    "plt.title('x,y')\n",
    "plt.show()"
   ]
  },
  {
   "cell_type": "code",
   "execution_count": 60,
   "metadata": {},
   "outputs": [
    {
     "data": {
      "image/png": "[encoded data removed]",
      "text/plain": [
       "<Figure size 800x1500 with 2 Axes>"
      ]
     },
     "metadata": {},
     "output_type": "display_data"
    }
   ],
   "source": [
    "# numpy數值計算和圖表4\n",
    "\n",
    "t = np.arange(0, 5, 0.1)\n",
    "y1 = np.sin(2 * np.pi * t)\n",
    "y2 = np.cos(2 * np.pi * t)\n",
    "\n",
    "fig = plt.figure(figsize=(8,15))\n",
    "ax1 = fig.add_subplot(2, 1, 1)\n",
    "ax1.plot(t, y1, 'b-.')\n",
    "\n",
    "ax2 = fig.add_subplot(2, 1, 2)\n",
    "ax2.plot(t, y2, 'r--')\n",
    "plt.show()"
   ]
  },
  {
   "cell_type": "code",
   "execution_count": 61,
   "metadata": {},
   "outputs": [
    {
     "data": {
      "image/png": "[encoded data removed]",
      "text/plain": [
       "<Figure size 800x500 with 1 Axes>"
      ]
     },
     "metadata": {},
     "output_type": "display_data"
    }
   ],
   "source": [
    "# numpy數值計算和圖表5\n",
    "\n",
    "fig = plt.figure(figsize=(8, 5))\n",
    "ax1 = fig.add_subplot(1, 1, 1)\n",
    "ax1.plot([1, 2, 3, 4], [1, 4, 9, 16], 'ro')\n",
    "plt.text(1, 0.5, 'First', color='red', fontsize=15)\n",
    "plt.text(2, 4.5, 'Second')\n",
    "plt.text(3, 8.5, 'Third')\n",
    "plt.text(4, 12.5, 'Four')\n",
    "plt.text(5, 15, 'Five')\n",
    "plt.text(1.2, 12, 'numpy', fontsize=20, bbox={'facecolor':'yellow','alpha':0.2})\n",
    "plt.show()"
   ]
  },
  {
   "cell_type": "code",
   "execution_count": 62,
   "metadata": {},
   "outputs": [
    {
     "data": {
      "image/png": "[encoded data removed]",
      "text/plain": [
       "<Figure size 800x500 with 1 Axes>"
      ]
     },
     "metadata": {},
     "output_type": "display_data"
    }
   ],
   "source": [
    "# numpy數值計算和圖表6\n",
    "\n",
    "index = ['apple', 'banana', 'orange', 'tomato', 'guava']\n",
    "values = np.array([5, 7, 3, 4, 6]) * 1000\n",
    "fig = plt.figure(figsize=(8, 5))\n",
    "ax1 = fig.add_subplot(1, 1, 1)  # 添加子圖\n",
    "ax1.bar(index, values)\n",
    "plt.show()"
   ]
  },
  {
   "cell_type": "code",
   "execution_count": 63,
   "metadata": {},
   "outputs": [
    {
     "data": {
      "image/png": "[encoded data removed]",
      "text/plain": [
       "<Figure size 640x480 with 1 Axes>"
      ]
     },
     "metadata": {},
     "output_type": "display_data"
    }
   ],
   "source": [
    "import matplotlib.pyplot as plt\n",
    "import numpy as np\n",
    "\n",
    "index = [\"apple\", \"banana\", \"orange\", \"tomato\", \"guava\"]\n",
    "values = np.array([5, 7, 3, 4, 6]) * 1000\n",
    "plt.bar(index, values)\n",
    "plt.show()"
   ]
  },
  {
   "cell_type": "code",
   "execution_count": 64,
   "metadata": {},
   "outputs": [
    {
     "data": {
      "image/png": "[encoded data removed]",
      "text/plain": [
       "<Figure size 800x500 with 1 Axes>"
      ]
     },
     "metadata": {},
     "output_type": "display_data"
    }
   ],
   "source": [
    "# numpy數值計算和圖表7\n",
    "\n",
    "index = np.arange(5)\n",
    "values = np.array([5, 7, 3, 4, 6]) * 1000\n",
    "fig = plt.figure(figsize=(8, 5))\n",
    "ax1 = fig.add_subplot(1, 1, 1)  # 列, 行, index  #add_subplot(上下切幾塊，左右切幾塊，左上到右下第幾塊)\n",
    "ax1.bar(index, values)\n",
    "# 設定x軸標籤\n",
    "plt.xticks(index, [\"apple\", \"banana\", \"orange\", \"tomato\", \"guava\"])\n",
    "# 設定坐標軸範圍, x軸範圍為 [-1, 5], y軸範圍為 [0, 8000]\n",
    "plt.axis([-1, 5, 0, 8000])\n",
    "for i in index:\n",
    "    plt.text(i - 0.2, values[i] + 200, values[i])\n",
    "    # x(水平位置), y(垂直位置), 內容\n",
    "plt.show()"
   ]
  },
  {
   "cell_type": "markdown",
   "metadata": {},
   "source": [
    "##### 除法計算與小數處理\n",
    "1. python是使用round(), 4捨5入\n",
    "2. np.around() numpy的4捨5入\n",
    "3. np.around(array,decimals)方法代表您要將幅點數資料整數位取四捨五入到第幾個位置，小數位取最接近的偶數，這個方法內需要兩個參數:\n",
    "    - array:進行分析的陣列。\n",
    "    - decimals小數位數:\n",
    "        - 預設為0。\n",
    "        - 如果為正數，代表小數位數有幾個位子。\n",
    "        - 如果為負數，代表小數點左邊的正整數將依序四捨五入進位。"
   ]
  },
  {
   "cell_type": "code",
   "execution_count": 65,
   "metadata": {},
   "outputs": [
    {
     "data": {
      "text/plain": [
       "'\\narray([  0.,   0., 100.,   0.,   0.])\\n'"
      ]
     },
     "execution_count": 65,
     "metadata": {},
     "output_type": "execute_result"
    }
   ],
   "source": [
    "# 除法計算與小數處理\n",
    "\n",
    "import numpy as np\n",
    "\n",
    "a = np.array([1.0, 5.45, 123, 0.567, 25.532])\n",
    "a\n",
    "\"\"\"\n",
    "array([  1.   ,   5.45 , 123.   ,   0.567,  25.532])\n",
    "\"\"\"\n",
    "\n",
    "np.around(a)  # 將a中元素四捨五入到整數\n",
    "\"\"\"\n",
    "array([  1.,   5., 123.,   1.,  26.])\n",
    "\"\"\"\n",
    "\n",
    "np.around(a, decimals=1)  # 將a中元素四捨五入到小數點後一位\n",
    "\"\"\"\n",
    "array([  1. ,   5.4, 123. ,   0.6,  25.5])\n",
    "\"\"\"\n",
    "\n",
    "np.around(a, decimals=-1)  # 將a中元素四捨五入到十位 (看後一位)\n",
    "\"\"\"\n",
    "array([  0.,  10., 120.,   0.,  30.])\n",
    "\"\"\"\n",
    "\n",
    "np.around(a, decimals=-2)  # 將a中元素四捨五入到百位 (看後一位)\n",
    "\"\"\"\n",
    "array([  0.,   0., 100.,   0.,   0.])\n",
    "\"\"\""
   ]
  },
  {
   "cell_type": "markdown",
   "metadata": {},
   "source": [
    "##### 計算機浮點數問題\n",
    "1. 對於正好在舍入小數值之間的值，NumPy舍入到最接近的偶數值。 因此，1.5和 2.5捨入後為2.0，-0.5和0.5捨入後為到0.0等。由於IEEE浮點標準中的小數部分 的不精確表示以及當以10的冪進行縮放時產生的誤差。"
   ]
  },
  {
   "cell_type": "code",
   "execution_count": 66,
   "metadata": {},
   "outputs": [
    {
     "data": {
      "text/plain": [
       "array([-0.,  0.])"
      ]
     },
     "execution_count": 66,
     "metadata": {},
     "output_type": "execute_result"
    }
   ],
   "source": [
    "# np.around 函數數值計算\n",
    "\n",
    "import numpy as np\n",
    "np.around([1.5, 2.5], decimals=0)  # 捨入到最接近的偶數值\n",
    "\"\"\"\n",
    "array([2., 2.])\n",
    "\"\"\"\n",
    "\n",
    "np.around([-0.5, 0.5], decimals=0)  # 0.5,-0.5會被捨去,0.6和-0.6不會進位"
   ]
  },
  {
   "cell_type": "markdown",
   "metadata": {},
   "source": [
    "##### 除法計算與小數處理\n",
    "1. np.floor( ) 方法代表回傳「小於」輸入參數的最大整數。\n",
    "2. np.ceil( ) 方法代表回傳「大於」輸入參數的最小整數。"
   ]
  },
  {
   "cell_type": "code",
   "execution_count": 67,
   "metadata": {},
   "outputs": [
    {
     "data": {
      "text/plain": [
       "'\\narray([-1.,  2., -0.,  1., 10.])\\n'"
      ]
     },
     "execution_count": 67,
     "metadata": {},
     "output_type": "execute_result"
    }
   ],
   "source": [
    "# 除法計算與小數處理\n",
    "\n",
    "import numpy as np\n",
    "\n",
    "a = np.array([-1.7, 1.5, -0.2, 0.6, 10])\n",
    "a\n",
    "\"\"\"\n",
    "array([-1.7,  1.5, -0.2,  0.6, 10. ])\n",
    "\"\"\"\n",
    "\n",
    "# 整數值不論向上向下取整都會是其本身，因為已經是整數不須額外取整\n",
    "np.floor(a)  # 向下取整\n",
    "\"\"\"\n",
    "array([-2.,  1., -1.,  0., 10.])\n",
    "\"\"\"\n",
    "\n",
    "np.ceil(a)  # 向上取整\n",
    "\"\"\"\n",
    "array([-1.,  2., -0.,  1., 10.])\n",
    "\"\"\""
   ]
  },
  {
   "cell_type": "markdown",
   "metadata": {},
   "source": [
    "##### 指定與重設\n",
    "1. 一個整數指定\n",
    "2. tuple或list指定\n",
    "3. 重設陣列\n",
    "\n",
    "##### 重設新陣列\n",
    "1. resize 這個動作會依據原本的陣列再設定指定大小的新陣列。\n",
    "2. resize 動作的參數如下:\n",
    "    - numpy.resize(arr1, shape1)\n",
    "    - arr1:原本的陣列\n",
    "    - shape1:新規劃的大小\n",
    "3. 如果規劃的新陣列比較大，將會重新複製原有陣列的資料，填滿新的儲存格。\n",
    "4. resize這個動作建立新的陣列，而reshape則是依據原有的重新規劃，仍會受到原有陣列影響。\n",
    "\n",
    "##### 陣列初始化與重新規劃\n",
    "- ndarray的size和shape的思維  \n",
    "```\n",
    "    >>> a = np.arange(12)  \n",
    "    >>> a  \n",
    "    array([ 0,  1,  2,  3,  4,  5,  6,  7,  8,  9, 10, 11])  \n",
    "    >>> a.size  \n",
    "    12\n",
    "```\n",
    "![array](./c1.png)\n",
    "\n",
    "```\n",
    "    >>> a.shape\n",
    "    (12,)\n",
    "```\n",
    "![shape](./c2.png)\n",
    "\n",
    "```\n",
    "    >>> b = a.reshape((3, 4))\n",
    "```\n",
    "![reshape](./c3.png)\n",
    "\n",
    "```\n",
    "    >>> b[2,1]\n",
    "    9\n",
    "\n",
    "    >>> c = a.reshape((3, 4), order='F')\n",
    "```\n",
    "![reshape(,order)](./c4.png)\n",
    "\n",
    "```\n",
    "    >>> c[2,1]\n",
    "    5\n",
    "\n",
    "    >>> d = a.reshape((12, 1))\n",
    "```\n",
    "![reshape](./c5.png)\n",
    "\n",
    "```\n",
    "    >>> d[10, 0]\n",
    "    10\n",
    "\n",
    "    >>> e = a.reshape((1, 2, 1, 6, 1))\n",
    "```\n",
    "![reshape()](./c6.png)\n",
    "\n",
    "```\n",
    "    >>> e[0, 1, 0, 0, 0]\n",
    "    6\n",
    "```"
   ]
  },
  {
   "cell_type": "markdown",
   "metadata": {},
   "source": [
    "##### 針對初始化這部分提供了多種方式:\n",
    "- 不做初始化 - 例如:np.empty((2,4))\n",
    "- 全部規劃為 0 - 例如:np.zeros((3,4))\n",
    "- 全部規劃為 1 - 例如: np.ones((5,2))\n",
    "- 全部規劃/填滿為某數，例如 6 - 例如: np.full((3,3),6)\n",
    "- 建立對角矩陣，對角皆為 1，其他為 0 - 例如: np.eye(3)\n",
    "- 建立對角矩陣，對角為 1,2,3,4，其他為 0 - 例如: np.diag([1,2,3,4])\n",
    "- reshape((x,y)) 這個指令就可以將現有的陣列重新規劃為 x 乘以 y 的陣列。\n",
    "- np.arange(起始值, 結束值, 固定間隔):也是產生一維陣列，和 np.array( ) 的差別在於 arange 擁有較大的彈性，而且元素數值是自 動化產生。\n",
    "- np.linspace(起始值, 結束值, 起始與結束的區間內要產生幾個元素 ): 只要給定陣列的區間(起始值、結束值)，就可以要求在這個區間內產 生幾個元素。\n",
    "- arange(a,b,c) - 不包含 b 由 a 開始 以固定間隔 c 來取值\n",
    "- linspace(a,b,c,) - 包含 b 由 a 開始 切割成 c 個資料\n",
    "- linspace(a,b,c,endpoint=False) - 不包含 b 由 a 開始 切割成 c 個資料"
   ]
  },
  {
   "cell_type": "code",
   "execution_count": 68,
   "metadata": {},
   "outputs": [
    {
     "name": "stdout",
     "output_type": "stream",
     "text": [
      "(12,)\n",
      "(2, 6)\n",
      "(4, 3)\n",
      "(2, 3, 2)\n"
     ]
    },
    {
     "data": {
      "text/plain": [
       "'\\n(2, 3, 2)\\n8\\n'"
      ]
     },
     "execution_count": 68,
     "metadata": {},
     "output_type": "execute_result"
    }
   ],
   "source": [
    "# 畫圖\n",
    "# reshape()\n",
    "# reshape(shape) -> 重新組織數組元素以改變形狀的函數,但不會改變原始數組的數據,如果新形狀無法容納原始數組所有元素,會引發錯誤\n",
    "import numpy as np\n",
    "\n",
    "# list\n",
    "list1 = list(range(12))  # 產生一包含0到11的整數列表\n",
    "# list1 # [0, 1, 2, 3, 4, 5, 6, 7, 8, 9, 10, 11]\n",
    "list1[8]\n",
    "\"\"\"\n",
    "8\n",
    "\"\"\"\n",
    "\n",
    "# ndArray\n",
    "ndArray12_ = np.array(list1)  # 將list -> ndarray\n",
    "print(ndArray12_.shape)  # 輸出數組形狀\n",
    "ndArray12_[8,]  # 與ndArray12_[8]相同,在一維情況下可簡化ndArray12_[8],多維可指定\n",
    "\"\"\"\n",
    "(12,)  # 表示是一個包含12元素的一維數組\n",
    "8\n",
    "\"\"\"\n",
    "\n",
    "# ndArray\n",
    "ndArray2_6 = ndArray12_.reshape((2, 6))  # 將一維數組reshape為二維數組(2x6)\n",
    "# ndArray2_6  # array([[ 0,  1,  2,  3,  4,  5], [ 6,  7,  8,  9, 10, 11]])\n",
    "print(ndArray2_6.shape)\n",
    "ndArray2_6[1, 2]\n",
    "\"\"\"\n",
    "(2, 6)\n",
    "8\n",
    "\"\"\"\n",
    "\n",
    "# ndArray\n",
    "ndArray4_3 = ndArray12_.reshape((4, 3))  # 將一維數組reshape為二維數組(4x3)\n",
    "# ndArray4_3  # array([[ 0,  1,  2], [ 3,  4,  5], [ 6,  7,  8], [ 9, 10, 11]])\n",
    "print(ndArray4_3.shape)\n",
    "ndArray4_3[2, 2]\n",
    "\"\"\"\n",
    "(4, 3)\n",
    "8\n",
    "\"\"\"\n",
    "\n",
    "# ndArray\n",
    "ndArray2_3_2 = ndArray12_.reshape((2, 3, 2))  # 將一維數組reshape為三維數組(ex:一矩陣有兩層,每層包一3x2矩陣)\n",
    "# ndArray2_3_2  # array([[[ 0,  1], [ 2,  3], [ 4,  5]], [[ 6,  7], [ 8,  9], [10, 11]]])\n",
    "print(ndArray2_3_2.shape)\n",
    "ndArray2_3_2[1, 1, 0]\n",
    "\"\"\"\n",
    "(2, 3, 2)\n",
    "8\n",
    "\"\"\""
   ]
  },
  {
   "cell_type": "code",
   "execution_count": 69,
   "metadata": {},
   "outputs": [
    {
     "data": {
      "text/plain": [
       "'\\n(2, 3)\\n'"
      ]
     },
     "execution_count": 69,
     "metadata": {},
     "output_type": "execute_result"
    }
   ],
   "source": [
    "# resize()\n",
    "# resize(a, new_shape) -> 更改數組形狀,可以改變數組大小,如果新形狀無法容納原始數組所有元素,resize將重複數組元素以適應新形狀\n",
    "import numpy as np\n",
    "a = np.array([[1, 2, 3], [4, 5, 6]])\n",
    "a\n",
    "\"\"\"\n",
    "array([[1, 2, 3],\n",
    "       [4, 5, 6]])\n",
    "\"\"\"\n",
    "\n",
    "a.shape\n",
    "\"\"\"\n",
    "(2, 3)\n",
    "\"\"\"\n",
    "\n",
    "b = np.resize(a, (3, 2))\n",
    "b\n",
    "\"\"\"\n",
    "array([[1, 2],\n",
    "       [3, 4],\n",
    "       [5, 6]])\n",
    "\"\"\"\n",
    "\n",
    "b.shape\n",
    "\"\"\"\n",
    "(3, 2)\n",
    "\"\"\"\n",
    "\n",
    "a[0, 1] = 100\n",
    "# a  # array([[  1, 100,   3], [  4,   5,   6]])\n",
    "b\n",
    "\"\"\"\n",
    "array([[1, 2],\n",
    "       [3, 4],\n",
    "       [5, 6]])\n",
    "\"\"\"\n",
    "\n",
    "b.shape\n",
    "\"\"\"\n",
    "(3, 2)\n",
    "\"\"\"\n",
    "\n",
    "a.shape\n",
    "\"\"\"\n",
    "(2, 3)\n",
    "\"\"\""
   ]
  },
  {
   "cell_type": "markdown",
   "metadata": {},
   "source": [
    "##### 基本索引和分割"
   ]
  },
  {
   "cell_type": "code",
   "execution_count": 70,
   "metadata": {},
   "outputs": [
    {
     "data": {
      "text/plain": [
       "'\\narray([ 0,  1,  2,  3,  4, 12, 12, 12,  8,  9])\\n'"
      ]
     },
     "execution_count": 70,
     "metadata": {},
     "output_type": "execute_result"
    }
   ],
   "source": [
    "# 1維陣列的index and slice\n",
    "\n",
    "arr = np.arange(10)\n",
    "arr\n",
    "\"\"\"\n",
    "array([0, 1, 2, 3, 4, 5, 6, 7, 8, 9])\n",
    "\"\"\"\n",
    "\n",
    "arr[5]\n",
    "\"\"\"\n",
    "5\n",
    "\"\"\"\n",
    "\n",
    "arr[5:8]\n",
    "\"\"\"\n",
    "array([5, 6, 7])\n",
    "\"\"\"\n",
    "\n",
    "arr[5:8] = 12\n",
    "arr\n",
    "\"\"\"\n",
    "array([ 0,  1,  2,  3,  4, 12, 12, 12,  8,  9])\n",
    "\"\"\""
   ]
  },
  {
   "cell_type": "code",
   "execution_count": 71,
   "metadata": {},
   "outputs": [
    {
     "data": {
      "text/plain": [
       "'\\narray([64, 64, 64])\\n'"
      ]
     },
     "execution_count": 71,
     "metadata": {},
     "output_type": "execute_result"
    }
   ],
   "source": [
    "# array slice are views\n",
    "\n",
    "arr = np.arange(10)\n",
    "arr_slice = arr[5:8]\n",
    "arr_slice\n",
    "\"\"\"\n",
    "array([5, 6, 7])\n",
    "\"\"\"\n",
    "\n",
    "arr_slice[1] = 12345\n",
    "arr\n",
    "\"\"\"\n",
    "array([    0,     1,     2,     3,     4,     5, 12345,     7,     8,\n",
    " 9])\n",
    "\"\"\"\n",
    "\n",
    "arr_slice[:] = 64\n",
    "arr\n",
    "\"\"\"\n",
    "array([ 0,  1,  2,  3,  4, 64, 64, 64,  8,  9])\n",
    "\"\"\"\n",
    "\n",
    "# 明確指定copy一份\n",
    "arr[5:8].copy()\n",
    "\"\"\"\n",
    "array([64, 64, 64])\n",
    "\"\"\""
   ]
  },
  {
   "cell_type": "markdown",
   "metadata": {},
   "source": [
    "![](./b1.png)\n",
    "![](./b2.png)"
   ]
  },
  {
   "cell_type": "code",
   "execution_count": 72,
   "metadata": {},
   "outputs": [
    {
     "data": {
      "text/plain": [
       "'\\n3\\n'"
      ]
     },
     "execution_count": 72,
     "metadata": {},
     "output_type": "execute_result"
    }
   ],
   "source": [
    "# 2維陣列index 和 slice\n",
    "arr2d = np.array([[1, 2, 3], [4, 5, 6], [7, 8, 9]])\n",
    "arr2d[2]\n",
    "\"\"\"\n",
    "array([7, 8, 9])\n",
    "\"\"\"\n",
    "\n",
    "# 第一維為列,第二維為欄\n",
    "arr2d[0][2]\n",
    "\"\"\"\n",
    "3\n",
    "\"\"\"\n",
    "\n",
    "# 使用「,」號\n",
    "arr2d[0, 2]\n",
    "\"\"\"\n",
    "3\n",
    "\"\"\""
   ]
  },
  {
   "cell_type": "code",
   "execution_count": 73,
   "metadata": {},
   "outputs": [
    {
     "data": {
      "text/plain": [
       "'\\narray([7, 8, 9])\\n'"
      ]
     },
     "execution_count": 73,
     "metadata": {},
     "output_type": "execute_result"
    }
   ],
   "source": [
    "# 3維陣列\n",
    "# 2*2*3\n",
    "\n",
    "arr3d = np.array([[[1, 2, 3], [4, 5, 6]], [[7, 8, 9], [10, 11, 12]]])\n",
    "arr3d\n",
    "\"\"\"\n",
    "array([[[ 1,  2,  3],\n",
    "        [ 4,  5,  6]],\n",
    "\n",
    "       [[ 7,  8,  9],\n",
    "        [10, 11, 12]]])\n",
    "\"\"\"\n",
    "\n",
    "arr3d[0]\n",
    "\"\"\"\n",
    "array([[1, 2, 3],\n",
    "       [4, 5, 6]])\n",
    "\"\"\"\n",
    "\n",
    "old_values = arr3d[0].copy()\n",
    "arr3d[0] = 42\n",
    "arr3d[0]\n",
    "\"\"\"\n",
    "array([[42, 42, 42],\n",
    "       [42, 42, 42]])\n",
    "\"\"\"\n",
    "\n",
    "arr3d[0] = old_values\n",
    "# arr3d[0]  # array([[1, 2, 3], [4, 5, 6]])\n",
    "arr3d\n",
    "\"\"\"\n",
    "array([[[ 1,  2,  3],\n",
    "        [ 4,  5,  6]],\n",
    "\n",
    "       [[ 7,  8,  9],\n",
    "        [10, 11, 12]]])\n",
    "\"\"\"\n",
    "\n",
    "arr3d[1, 0]\n",
    "\"\"\"\n",
    "array([7, 8, 9])\n",
    "\"\"\""
   ]
  },
  {
   "cell_type": "code",
   "execution_count": 74,
   "metadata": {},
   "outputs": [
    {
     "data": {
      "text/plain": [
       "'\\narray([[1, 0, 0],\\n       [4, 0, 0],\\n       [7, 8, 9]])\\n'"
      ]
     },
     "execution_count": 74,
     "metadata": {},
     "output_type": "execute_result"
    }
   ],
   "source": [
    "# 陣列切割\n",
    "arr = np.arange(10)\n",
    "arr[1:6]  # 取出索引1到索引5(不包含索引6)\n",
    "\"\"\"\n",
    "array([1, 2, 3, 4, 5])\n",
    "\"\"\"\n",
    "\n",
    "arr2d = np.array([[1, 2, 3], [4, 5, 6], [7, 8, 9]])\n",
    "arr2d[:2]  # 取出索引0到索引1(不包含索引2)\n",
    "\"\"\"\n",
    "array([[1, 2, 3],\n",
    "       [4, 5, 6]])\n",
    "\"\"\"\n",
    "\n",
    "arr2d[:2, 1:]  # 列, 欄  # 取出列:索引0到索引1, 欄:索引1到最後\n",
    "\"\"\"\n",
    "array([[2, 3],\n",
    "       [5, 6]])\n",
    "\"\"\"\n",
    "\n",
    "arr2d[1, :2]  # 列, 欄  # 取出列:索引1, 欄:索引0到索引1\n",
    "\"\"\"\n",
    "array([4, 5])\n",
    "\"\"\"\n",
    "\n",
    "arr2d[:2, 2]  # 列, 欄  # 取出列:索引0到索引1, 欄:索引2\n",
    "\"\"\"\n",
    "array([3, 6])\n",
    "\"\"\"\n",
    "\n",
    "arr2d[:, :1]  # 列, 欄  # 取出列:索引0到最後, 欄:索引0\n",
    "\"\"\"\n",
    "array([[1],\n",
    "       [4],\n",
    "       [7]])\n",
    "\"\"\"\n",
    "\n",
    "arr2d[:2, 1:] = 0  # 列, 欄  # 列:索引0到索引1, 欄:索引1到最後設定為0, 其餘不動\n",
    "arr2d\n",
    "\"\"\"\n",
    "array([[1, 0, 0],\n",
    "       [4, 0, 0],\n",
    "       [7, 8, 9]])\n",
    "\"\"\""
   ]
  },
  {
   "cell_type": "markdown",
   "metadata": {},
   "source": [
    "##### 陣列指定位置取值\n",
    "1. 區隔選取[::C]\n",
    "    - 以1維陣列來說明 x[a:b:c]\n",
    "    - a:選取資料的起始索引\n",
    "    - b:選取資料的結束索引 +1\n",
    "    - c:選取資料間隔，以索引值可以被此值整除的元素，不指定表示1\n",
    "2. 倒敘 [::-1]\n",
    "    - 只是單純的把順序反過來\n",
    "\n",
    "##### 陣列指定位置-給予一個整數\n",
    "1. 關於指定位置 [row,column]\n",
    "2. 假設給予一個整數為 N\n",
    "    - 如果是給固定的 N，那就代表 row 或 column 等於 N。\n",
    "    - 如果是 N:，那就代表 row 或 column 大於等於 N 的區域。\n",
    "    - 如果是:N，那就代表 row 或 column 小於 N 的區域。\n",
    "    - 如果是:，那就代表 row 或 column 是任意欄位。"
   ]
  },
  {
   "cell_type": "code",
   "execution_count": 75,
   "metadata": {},
   "outputs": [
    {
     "data": {
      "text/plain": [
       "'\\narray([[0, 2, 3],\\n       [9, 6, 7],\\n       [8, 4, 6]])\\n'"
      ]
     },
     "execution_count": 75,
     "metadata": {},
     "output_type": "execute_result"
    }
   ],
   "source": [
    "# 陣列指定位置取值\n",
    "\n",
    "import numpy as np\n",
    "a = np.array([[1, 2, 3], [3, 6, 9], [2, 4, 6]])\n",
    "a\n",
    "\"\"\"\n",
    "array([[1, 2, 3],\n",
    "       [3, 6, 9],\n",
    "       [2, 4, 6]])\n",
    "\"\"\"\n",
    "\n",
    "a[0]\n",
    "\"\"\"\n",
    "array([1, 2, 3])\n",
    "\"\"\"\n",
    "\n",
    "a[1, 2]\n",
    "\"\"\"\n",
    "9\n",
    "\"\"\"\n",
    "\n",
    "a[1, 1:3]\n",
    "\"\"\"\n",
    "array([6, 9])\n",
    "\"\"\"\n",
    "\n",
    "a[:, 1]\n",
    "\"\"\"\n",
    "array([2, 6, 4])\n",
    "\"\"\"\n",
    "\n",
    "a[1, 2] = 7\n",
    "a\n",
    "\"\"\"\n",
    "array([[1, 2, 3],\n",
    "       [3, 6, 7],\n",
    "       [2, 4, 6]])\n",
    "\"\"\"\n",
    "\n",
    "a[:, 0] = [0, 9, 8]\n",
    "a\n",
    "\"\"\"\n",
    "array([[0, 2, 3],\n",
    "       [9, 6, 7],\n",
    "       [8, 4, 6]])\n",
    "\"\"\""
   ]
  },
  {
   "cell_type": "code",
   "execution_count": 76,
   "metadata": {},
   "outputs": [
    {
     "data": {
      "text/plain": [
       "'\\narray([ 1, 12, 23, 34, 45])\\n'"
      ]
     },
     "execution_count": 76,
     "metadata": {},
     "output_type": "execute_result"
    }
   ],
   "source": [
    "# 陣列指定位置取值\n",
    "\n",
    "import numpy as np\n",
    "a = np.array(\n",
    "    [\n",
    "        [0, 1, 2, 3, 4, 5],\n",
    "        [10, 11, 12, 13, 14, 15],\n",
    "        [20, 21, 22, 23, 24, 25],\n",
    "        [30, 31, 32, 33, 34, 35],\n",
    "        [40, 41, 42, 43, 44, 45],\n",
    "        [50, 51, 52, 53, 54, 55],\n",
    "    ]\n",
    ")\n",
    "\n",
    "b = a[0, 3:5]\n",
    "b\n",
    "\"\"\"\n",
    "array([3, 4])\n",
    "\"\"\"\n",
    "\n",
    "b.shape  # 傳回tuple,元素數量表示維度,元素數值表示每一維長度,一維陣列則傳回元素數值。\n",
    "\"\"\"\n",
    "(2,)\n",
    "\"\"\"\n",
    "\n",
    "b = a[4:, 4:]\n",
    "b\n",
    "\"\"\"\n",
    "array([[44, 45],\n",
    "       [54, 55]])\n",
    "\"\"\"\n",
    "\n",
    "b.shape\n",
    "\"\"\"\n",
    "(2, 2)\n",
    "\"\"\"\n",
    "\n",
    "b = a[:3, :3]\n",
    "b\n",
    "\"\"\"\n",
    "array([[ 0,  1,  2],\n",
    "       [10, 11, 12],\n",
    "       [20, 21, 22]])\n",
    "\"\"\"\n",
    "\n",
    "b.shape\n",
    "\"\"\"\n",
    "(3, 3)\n",
    "\"\"\"\n",
    "\n",
    "b = a[:, 2]\n",
    "b\n",
    "\"\"\"\n",
    "array([ 2, 12, 22, 32, 42, 52])\n",
    "\"\"\"\n",
    "\n",
    "b.shape  # 傳回tuple\n",
    "\"\"\"\n",
    "(6,)\n",
    "\"\"\"\n",
    "\n",
    "a[(0, 1, 2, 3, 4), (1, 2, 3, 4, 5)]  # 列,行\n",
    "\"\"\"\n",
    "array([ 1, 12, 23, 34, 45])\n",
    "\"\"\""
   ]
  },
  {
   "cell_type": "code",
   "execution_count": 77,
   "metadata": {},
   "outputs": [
    {
     "data": {
      "text/plain": [
       "'\\n(3, 3)\\n'"
      ]
     },
     "execution_count": 77,
     "metadata": {},
     "output_type": "execute_result"
    }
   ],
   "source": [
    "# 陣列指定位置取值\n",
    "\n",
    "import numpy as np\n",
    "a = np.array(\n",
    "    [\n",
    "        [0, 1, 2, 3, 4, 5],\n",
    "        [10, 11, 12, 13, 14, 15],\n",
    "        [20, 21, 22, 23, 24, 25],\n",
    "        [30, 31, 32, 33, 34, 35],\n",
    "        [40, 41, 42, 43, 44, 45],\n",
    "        [50, 51, 52, 53, 54, 55],\n",
    "    ]\n",
    ")\n",
    "\n",
    "b = a[(0, 1, 2, 3, 4), (1, 2, 3, 4, 5)]\n",
    "b\n",
    "\"\"\"\n",
    "array([ 1, 12, 23, 34, 45])\n",
    "\"\"\"\n",
    "\n",
    "b.shape\n",
    "\"\"\"\n",
    "(5,)\n",
    "\"\"\"\n",
    "\n",
    "b = a[3:, [0, 2, 5]]  # 取出列:索引3到最後, 行:索引0,索引2,索引5(每一列)\n",
    "b\n",
    "\"\"\"\n",
    "array([[30, 32, 35],\n",
    "       [40, 42, 45],\n",
    "       [50, 52, 55]])\n",
    "\"\"\"\n",
    "\n",
    "b.shape\n",
    "\"\"\"\n",
    "(3, 3)\n",
    "\"\"\""
   ]
  },
  {
   "cell_type": "markdown",
   "metadata": {},
   "source": [
    "##### 補充\n",
    "![](./np%20array.png)"
   ]
  },
  {
   "cell_type": "code",
   "execution_count": 78,
   "metadata": {},
   "outputs": [
    {
     "data": {
      "text/plain": [
       "'\\narray([[1., 1.],\\n       [1., 1.],\\n       [1., 1.],\\n       [1., 1.],\\n       [1., 1.]])\\n'"
      ]
     },
     "execution_count": 78,
     "metadata": {},
     "output_type": "execute_result"
    }
   ],
   "source": [
    "# 陣列初始化與重新規劃\n",
    "\n",
    "import numpy as np\n",
    "x = np.empty((2, 4))  # 建立指定大小的空陣列(值未初始化,可能包含任意值)  # 建立二維空陣列\n",
    "x\n",
    "\"\"\"\n",
    "array([[0.00000000e+000, 0.00000000e+000, 0.00000000e+000,\n",
    "        0.00000000e+000],\n",
    "       [0.00000000e+000, 5.09875747e-321, 8.45604119e-307,\n",
    "        7.23168526e-308]])\n",
    "\"\"\"\n",
    "\n",
    "x = np.zeros((3, 4))  # 建立每個元素數值為0的陣列\n",
    "x\n",
    "\"\"\"\n",
    "array([[0., 0., 0., 0.],\n",
    "       [0., 0., 0., 0.],\n",
    "       [0., 0., 0., 0.]])\n",
    "\"\"\"\n",
    "\n",
    "c = np.ones((5, 2))  # 建立每個元素數值為1的陣列\n",
    "c\n",
    "\"\"\"\n",
    "array([[1., 1.],\n",
    "       [1., 1.],\n",
    "       [1., 1.],\n",
    "       [1., 1.],\n",
    "       [1., 1.]])\n",
    "\"\"\""
   ]
  },
  {
   "cell_type": "code",
   "execution_count": 79,
   "metadata": {},
   "outputs": [
    {
     "data": {
      "text/plain": [
       "'\\narray([[1, 0, 0, 0],\\n       [0, 2, 0, 0],\\n       [0, 0, 3, 0],\\n       [0, 0, 0, 4]])\\n'"
      ]
     },
     "execution_count": 79,
     "metadata": {},
     "output_type": "execute_result"
    }
   ],
   "source": [
    "# 陣列初始化與重新規劃\n",
    "\n",
    "import numpy as np\n",
    "x = np.eye(3)  # 建立對角線元素值為1,其餘為0的陣列\n",
    "x\n",
    "\"\"\"\n",
    "array([[1., 0., 0.],\n",
    "       [0., 1., 0.],\n",
    "       [0., 0., 1.]])\n",
    "\"\"\"\n",
    "\n",
    "x = np.diag([1, 2, 3, 4])  # 設定對角線元素的值,其他元素值為0的陣列\n",
    "x\n",
    "\"\"\"\n",
    "array([[1, 0, 0, 0],\n",
    "       [0, 2, 0, 0],\n",
    "       [0, 0, 3, 0],\n",
    "       [0, 0, 0, 4]])\n",
    "\"\"\""
   ]
  },
  {
   "cell_type": "code",
   "execution_count": 80,
   "metadata": {},
   "outputs": [
    {
     "data": {
      "text/plain": [
       "'\\narray([[0, 1],\\n       [2, 3],\\n       [4, 5],\\n       [6, 7]])\\n'"
      ]
     },
     "execution_count": 80,
     "metadata": {},
     "output_type": "execute_result"
    }
   ],
   "source": [
    "# 陣列初始化與重新規劃\n",
    "\n",
    "import numpy as np\n",
    "x = np.linspace(1, 10, 6).reshape(\n",
    "    (3, 2)\n",
    ")  # linspace -> 建立兩數值間,指定數量的等差連續資料陣列, reshape -> 改變數組形狀  # linspace(起始,結束,數量,endpoint:True包含結束(預設)|False不包含,retstep:True產生資料顯示間距|False不顯示(預設),dtype:資料型態,可以指定|None根據輸入推斷)\n",
    "x\n",
    "\"\"\"\n",
    "array([[ 1. ,  2.8],\n",
    "       [ 4.6,  6.4],\n",
    "       [ 8.2, 10. ]])\n",
    "\"\"\"\n",
    "\n",
    "x = np.linspace(1, 10, 6).reshape((2, 3))\n",
    "x\n",
    "\"\"\"\n",
    "array([[ 1. ,  2.8,  4.6],\n",
    "       [ 6.4,  8.2, 10. ]])\n",
    "\"\"\"\n",
    "\n",
    "x = np.arange(8).reshape((2, 4))\n",
    "x\n",
    "\"\"\"\n",
    "array([[0, 1, 2, 3],\n",
    "       [4, 5, 6, 7]])\n",
    "\"\"\"\n",
    "\n",
    "x = np.arange(8).reshape((4, 2))\n",
    "x\n",
    "\"\"\"\n",
    "array([[0, 1],\n",
    "       [2, 3],\n",
    "       [4, 5],\n",
    "       [6, 7]])\n",
    "\"\"\""
   ]
  },
  {
   "cell_type": "code",
   "execution_count": 81,
   "metadata": {},
   "outputs": [
    {
     "name": "stdout",
     "output_type": "stream",
     "text": [
      "r1=> [25.  25.5 26.  26.5 27.  27.5 28.  28.5 29.  29.5]\n"
     ]
    }
   ],
   "source": [
    "\"\"\"\n",
    "請問以下的程式執行後,例印出來的最後一個值是多少?(2)\n",
    "import numpy as np\n",
    "r1 = np.arange(25, 30, .5) \n",
    "print(\"r1=>\",r1)\n",
    "(1) 30\n",
    "(2) 29.5\n",
    "(3) 25\n",
    "(4) 27\n",
    "\"\"\"\n",
    "\n",
    "import numpy as np\n",
    "r1 = np.arange(25, 30, .5)  # 建立兩個數值間,指定間距的等差連續資料的陣列  # arange(起始,結束,間距(選填),dtype資料型態(選填))\n",
    "print(\"r1=>\",r1)"
   ]
  },
  {
   "cell_type": "code",
   "execution_count": 82,
   "metadata": {},
   "outputs": [
    {
     "name": "stdout",
     "output_type": "stream",
     "text": [
      "r1=> [3.   3.25 3.5  3.75 4.   4.25 4.5  4.75 5.  ]\n"
     ]
    }
   ],
   "source": [
    "\"\"\"\n",
    "請問以下的程式執行後,例印出來的最後一個值是多少?(4)\n",
    "import numpy as np\n",
    "lin = np.linspace(3, 5, 9) \n",
    "print(\"r1=>\",lin)\n",
    "(1) 9\n",
    "(2) 8.5\n",
    "(3) 8\n",
    "(4) 5\n",
    "\"\"\"\n",
    "\n",
    "import numpy as np\n",
    "lin = np.linspace(3, 5, 9)  # linspace(起始,結束,數量)\n",
    "print(\"r1=>\",lin)"
   ]
  },
  {
   "cell_type": "code",
   "execution_count": 83,
   "metadata": {},
   "outputs": [
    {
     "data": {
      "text/plain": [
       "'\\narray([5, 1, 1, 9, 1])\\n'"
      ]
     },
     "execution_count": 83,
     "metadata": {},
     "output_type": "execute_result"
    }
   ],
   "source": [
    "# 陣列初始化與重新規劃\n",
    "\n",
    "import numpy as np\n",
    "a = np.array([6, 7, 8, 9])\n",
    "a\n",
    "\"\"\"\n",
    "array([6, 7, 8, 9])\n",
    "\"\"\"\n",
    "\n",
    "b = np.arange(4)  # 建立兩個數值間,指定間距的等差連續資料的陣列  # arange(起始(預設0),結束,間距(預設1),dtype資料型態(選填))\n",
    "b\n",
    "\"\"\"\n",
    "array([0, 1, 2, 3])\n",
    "\"\"\"\n",
    "\n",
    "c = a - b\n",
    "c\n",
    "\"\"\"\n",
    "array([6, 6, 6, 6])\n",
    "\"\"\"\n",
    "\n",
    "d = b**2\n",
    "d\n",
    "\"\"\"\n",
    "array([0, 1, 4, 9])\n",
    "\"\"\"\n",
    "\n",
    "f = np.array([5, -1, 3, 9, 0])\n",
    "f[f <= 3] = 1  # 將小於等於3的元素都設定為1\n",
    "f\n",
    "\"\"\"\n",
    "array([5, 1, 1, 9, 1])\n",
    "\"\"\""
   ]
  },
  {
   "cell_type": "code",
   "execution_count": 84,
   "metadata": {},
   "outputs": [
    {
     "name": "stdout",
     "output_type": "stream",
     "text": [
      "[ 8  9 10 11]\n"
     ]
    }
   ],
   "source": [
    "\"\"\"\n",
    "請問以下的程式執行後,列印的值是那一個?(3)\n",
    "import numpy as np\n",
    "a = np.array( [6, 7, 8, 9] ) \n",
    "a += 2\n",
    "print(a)\n",
    "(1) [2 8 9 10 11]\n",
    "(2) [8 9 10 11 2]\n",
    "(3) [8 9 10 11]\n",
    "(4) [6 7 8 9 6 7 8 9]\n",
    "\"\"\"\n",
    "\n",
    "import numpy as np\n",
    "\n",
    "a = np.array([6, 7, 8, 9])\n",
    "a += 2\n",
    "print(a)"
   ]
  },
  {
   "cell_type": "markdown",
   "metadata": {},
   "source": [
    "##### 列,欄對調"
   ]
  },
  {
   "cell_type": "code",
   "execution_count": 85,
   "metadata": {},
   "outputs": [
    {
     "data": {
      "text/plain": [
       "'\\narray([[ 0,  5, 10],\\n       [ 1,  6, 11],\\n       [ 2,  7, 12],\\n       [ 3,  8, 13],\\n       [ 4,  9, 14]])\\n'"
      ]
     },
     "execution_count": 85,
     "metadata": {},
     "output_type": "execute_result"
    }
   ],
   "source": [
    "# 使用.T\n",
    "\n",
    "arr = np.arange(15).reshape((3, 5))\n",
    "arr\n",
    "\"\"\"\n",
    "array([[ 0,  1,  2,  3,  4],\n",
    "       [ 5,  6,  7,  8,  9],\n",
    "       [10, 11, 12, 13, 14]])\n",
    "\"\"\"\n",
    "\n",
    "arr.T  # (5, 3)\n",
    "\"\"\"\n",
    "array([[ 0,  5, 10],\n",
    "       [ 1,  6, 11],\n",
    "       [ 2,  7, 12],\n",
    "       [ 3,  8, 13],\n",
    "       [ 4,  9, 14]])\n",
    "\"\"\""
   ]
  },
  {
   "cell_type": "markdown",
   "metadata": {},
   "source": [
    "##### Boolean的索引"
   ]
  },
  {
   "cell_type": "code",
   "execution_count": 88,
   "metadata": {},
   "outputs": [
    {
     "data": {
      "text/plain": [
       "array([ True, False,  True,  True,  True, False, False])"
      ]
     },
     "execution_count": 88,
     "metadata": {},
     "output_type": "execute_result"
    }
   ],
   "source": [
    "names = np.array([\"Bob\", \"Joe\", \"Will\", \"Bob\", \"Will\", \"Joe\", \"Joe\"])\n",
    "data = np.random.randn(7, 4)  # 建立陣列,元素由常態分布亂數生成的值(執行會有不同結果)\n",
    "names\n",
    "\"\"\"\n",
    "array(['Bob', 'Joe', 'Will', 'Bob', 'Will', 'Joe', 'Joe'], dtype='<U4')\n",
    "\"\"\"\n",
    "\n",
    "data\n",
    "\"\"\"\n",
    "array([[-1.60657706, -1.1956437 ,  0.9975239 , -0.44961328],\n",
    "       [-0.08148823, -1.72756749,  0.7549518 , -2.18675546],\n",
    "       [ 0.5487892 , -0.90741172,  0.21308406, -0.98257009],\n",
    "       [ 0.22114213,  0.9378648 , -1.21522707, -0.28554256],\n",
    "       [ 1.68107848, -0.06847471,  0.10527923,  0.6431025 ],\n",
    "       [ 0.48878137,  1.76977953,  0.9279239 ,  0.2523993 ],\n",
    "       [-0.22354078,  0.70798432,  0.99282518,  0.11312375]])\n",
    "\"\"\"\n",
    "\n",
    "names == \"Bob\"\n",
    "\"\"\"\n",
    "array([ True, False, False,  True, False, False, False])\n",
    "\"\"\"\n",
    "\n",
    "names.shape\n",
    "\"\"\"\n",
    "(7,)\n",
    "\"\"\"\n",
    "\n",
    "data[names == \"Bob\"]  # 輸出滿足names == \"Bob\"的列的值\n",
    "\"\"\"\n",
    "array([[-1.60657706, -1.1956437 ,  0.9975239 , -0.44961328],\n",
    "       [ 0.22114213,  0.9378648 , -1.21522707, -0.28554256]])\n",
    "\"\"\"\n",
    "\n",
    "data[names == \"Bob\", 2:]\n",
    "\"\"\"\n",
    "array([[ 0.9975239 , -0.44961328],\n",
    "       [-1.21522707, -0.28554256]])\n",
    "\"\"\"\n",
    "\n",
    "data[names == \"Bob\", 3]\n",
    "\"\"\"\n",
    "array([-0.44961328, -0.28554256])\n",
    "\"\"\"\n",
    "\n",
    "names != \"Bob\"\n",
    "\"\"\"\n",
    "array([False,  True,  True, False,  True,  True,  True])\n",
    "\"\"\"\n",
    "\n",
    "mask = (names == \"Bob\") | (names == \"Will\")\n",
    "mask\n",
    "\"\"\"\n",
    "array([ True, False,  True,  True,  True, False, False])\n",
    "\"\"\"\n",
    "\n",
    "data[mask]\n",
    "\"\"\"\n",
    "array([[-1.60657706, -1.1956437 ,  0.9975239 , -0.44961328],\n",
    "       [ 0.5487892 , -0.90741172,  0.21308406, -0.98257009],\n",
    "       [ 0.22114213,  0.9378648 , -1.21522707, -0.28554256],\n",
    "       [ 1.68107848, -0.06847471,  0.10527923,  0.6431025 ]])\n",
    "\"\"\"\n",
    "\n",
    "data[data < 0] = 0\n",
    "data\n",
    "\"\"\"\n",
    "array([[0.        , 0.        , 0.9975239 , 0.        ],\n",
    "       [0.        , 0.        , 0.7549518 , 0.        ],\n",
    "       [0.5487892 , 0.        , 0.21308406, 0.        ],\n",
    "       [0.22114213, 0.9378648 , 0.        , 0.        ],\n",
    "       [1.68107848, 0.        , 0.10527923, 0.6431025 ],\n",
    "       [0.48878137, 1.76977953, 0.9279239 , 0.2523993 ],\n",
    "       [0.        , 0.70798432, 0.99282518, 0.11312375]])\n",
    "\"\"\"\n",
    "\n",
    "data[names != \"Joe\"] = 7\n",
    "data\n",
    "\"\"\"\n",
    "array([[7.        , 7.        , 7.        , 7.        ],\n",
    "       [0.        , 0.        , 0.7549518 , 0.        ],\n",
    "       [7.        , 7.        , 7.        , 7.        ],\n",
    "       [7.        , 7.        , 7.        , 7.        ],\n",
    "       [7.        , 7.        , 7.        , 7.        ],\n",
    "       [0.48878137, 1.76977953, 0.9279239 , 0.2523993 ],\n",
    "       [0.        , 0.70798432, 0.99282518, 0.11312375]])\n",
    "\"\"\""
   ]
  },
  {
   "cell_type": "markdown",
   "metadata": {},
   "source": [
    "##### 全域函式(Universal Functions)"
   ]
  },
  {
   "cell_type": "code",
   "execution_count": 98,
   "metadata": {},
   "outputs": [
    {
     "data": {
      "text/plain": [
       "array([1.00000000e+00, 2.71828183e+00, 7.38905610e+00, 2.00855369e+01,\n",
       "       5.45981500e+01, 1.48413159e+02, 4.03428793e+02, 1.09663316e+03,\n",
       "       2.98095799e+03, 8.10308393e+03])"
      ]
     },
     "execution_count": 98,
     "metadata": {},
     "output_type": "execute_result"
    }
   ],
   "source": [
    "# universal functions\n",
    "# np.sqrt()\n",
    "# np.exp()\n",
    "\n",
    "arr = np.arange(10)  # 產生一維陣列(0-9)\n",
    "arr\n",
    "\"\"\"\n",
    "array([0, 1, 2, 3, 4, 5, 6, 7, 8, 9])\n",
    "\"\"\"\n",
    "\n",
    "np.sqrt(arr)  # 傳回每個元素的平方根\n",
    "\"\"\"\n",
    "array([0.        , 1.        , 1.41421356, 1.73205081, 2.        ,\n",
    "       2.23606798, 2.44948974, 2.64575131, 2.82842712, 3.        ])\n",
    "\"\"\"\n",
    "\n",
    "np.exp(arr)  # 傳回每個元素的指數值e^arr\n",
    "\"\"\"\n",
    "array([1.00000000e+00, 2.71828183e+00, 7.38905610e+00, 2.00855369e+01,\n",
    "       5.45981500e+01, 1.48413159e+02, 4.03428793e+02, 1.09663316e+03,\n",
    "       2.98095799e+03, 8.10308393e+03])\n",
    "\"\"\""
   ]
  },
  {
   "cell_type": "code",
   "execution_count": 102,
   "metadata": {},
   "outputs": [
    {
     "data": {
      "text/plain": [
       "array([-0.30734183,  0.75254064,  0.55884759,  0.37144463, -0.76304475,\n",
       "       -0.26034928, -0.40754081, -1.99267609])"
      ]
     },
     "execution_count": 102,
     "metadata": {},
     "output_type": "execute_result"
    }
   ],
   "source": [
    "# np.maximum\n",
    "\n",
    "x = np.random.randn(8)\n",
    "y = np.random.randn(8)\n",
    "x\n",
    "\"\"\"\n",
    "array([-0.30734183,  0.75254064,  0.55884759,  0.37144463, -0.76304475,\n",
    "       -0.26034928, -0.40754081, -1.99267609])\n",
    "\"\"\"\n",
    "\n",
    "y\n",
    "\"\"\"\n",
    "array([-3.01711517,  0.22364193, -0.00573674,  0.01989086, -0.74422693,\n",
    "        1.78695316, -0.26969209, -1.01365406])\n",
    "\"\"\"\n",
    "\n",
    "np.maximum(x, y)  # 找出最大值\n",
    "\"\"\"\n",
    "array([-0.30734183,  0.75254064,  0.55884759,  0.37144463, -0.74422693,\n",
    "        1.78695316, -0.26969209, -1.01365406])\n",
    "\"\"\""
   ]
  },
  {
   "cell_type": "code",
   "execution_count": 112,
   "metadata": {},
   "outputs": [
    {
     "data": {
      "text/plain": [
       "array([ 8.31125719, -2.97229991, -5.49715352, -7.27639853,  1.98450029,\n",
       "        2.01708851,  1.51949634])"
      ]
     },
     "execution_count": 112,
     "metadata": {},
     "output_type": "execute_result"
    }
   ],
   "source": [
    "# np.modf()\n",
    "\n",
    "arr = np.random.randn(7) * 5  # 產生7個亂數,將所有亂數*5\n",
    "arr\n",
    "\"\"\"\n",
    "array([ 8.31125719, -2.97229991, -5.49715352, -7.27639853,  1.98450029,\n",
    "        2.01708851,  1.51949634])\n",
    "\"\"\"\n",
    "\n",
    "remainder, whole_part = np.modf(arr)  # .modf()會傳回一個包含兩個陣列的元祖,第一個是每個元素的小數部分,第二個陣列是每個元素的整數部分\n",
    "remainder\n",
    "\"\"\"\n",
    "array([ 0.31125719, -0.97229991, -0.49715352, -0.27639853,  0.98450029,\n",
    "        0.01708851,  0.51949634])\n",
    "\"\"\"\n",
    "\n",
    "whole_part\n",
    "\"\"\"\n",
    "array([ 8., -2., -5., -7.,  1.,  2.,  1.])\n",
    "\"\"\""
   ]
  },
  {
   "cell_type": "markdown",
   "metadata": {},
   "source": [
    "##### 陣列的判斷式\n",
    "- np.where()"
   ]
  },
  {
   "cell_type": "code",
   "execution_count": 116,
   "metadata": {},
   "outputs": [
    {
     "data": {
      "text/plain": [
       "array([1.1, 2.2, 1.3, 1.4, 2.5])"
      ]
     },
     "execution_count": 116,
     "metadata": {},
     "output_type": "execute_result"
    }
   ],
   "source": [
    "# np.where() 相等於python -> x if condition else y\n",
    "\n",
    "xarr = np.array([1.1, 1.2, 1.3, 1.4, 1.5])\n",
    "yarr = np.array([2.1, 2.2, 2.3, 2.4, 2.5])\n",
    "\n",
    "cond = np.array([True, False, True, True, False])\n",
    "\n",
    "# python comprehension(串列綜合表達式)\n",
    "result = [(x if c else y) for x, y, c in zip(xarr, yarr, cond)]  # x if c else y -> 如果條件c為True則執行x,為flase執行y  for x, y, c in -> 從zip的結果中取出每一組對應位置的元素,分別賦值給x(xarr), y(yarr), c(cond)  zip(xarr, yarr, cond) -> 將三個陣列對應位置元素一一打包一起\n",
    "result\n",
    "\"\"\"\n",
    "[1.1, 2.2, 1.3, 1.4, 2.5]\n",
    "\"\"\"\n",
    "\n",
    "result = np.where(cond, xarr, yarr)  # condition條件,x滿足條件時傳回的值,y不滿足條件時傳回的值\n",
    "result\n",
    "\"\"\"\n",
    "array([1.1, 2.2, 1.3, 1.4, 2.5])\n",
    "\"\"\""
   ]
  },
  {
   "cell_type": "code",
   "execution_count": 121,
   "metadata": {},
   "outputs": [
    {
     "data": {
      "text/plain": [
       "array([[ 1.47157056,  0.39698292,  0.82847465, -0.52309032],\n",
       "       [ 0.58949976, -1.81944798, -1.69369836, -0.98540211],\n",
       "       [ 1.70125753, -0.47540191,  0.47697719, -0.38354053],\n",
       "       [ 1.78293503,  0.46758852,  0.68395479, -2.07971373]])"
      ]
     },
     "execution_count": 121,
     "metadata": {},
     "output_type": "execute_result"
    }
   ],
   "source": [
    "# np.where()\n",
    "\n",
    "arr = np.random.randn(4, 4)\n",
    "arr\n",
    "\"\"\"\n",
    "array([[ 1.47157056,  0.39698292,  0.82847465, -0.52309032],\n",
    "       [ 0.58949976, -1.81944798, -1.69369836, -0.98540211],\n",
    "       [ 1.70125753, -0.47540191,  0.47697719, -0.38354053],\n",
    "       [ 1.78293503,  0.46758852,  0.68395479, -2.07971373]])\n",
    "\"\"\"\n",
    "\n",
    "arr > 0\n",
    "\"\"\"\n",
    "array([[ True,  True,  True, False],\n",
    "       [ True, False, False, False],\n",
    "       [ True, False,  True, False],\n",
    "       [ True,  True,  True, False]])\n",
    "\"\"\"\n",
    "\n",
    "np.where(arr > 0, 2, -2)\n",
    "\"\"\"\n",
    "array([[ 2,  2,  2, -2],\n",
    "       [ 2, -2, -2, -2],\n",
    "       [ 2, -2,  2, -2],\n",
    "       [ 2,  2,  2, -2]])\n",
    "\"\"\"\n",
    "\n",
    "np.where(arr > 0, 2, arr)\n",
    "\"\"\"\n",
    "array([[ 2.        ,  2.        ,  2.        , -0.52309032],\n",
    "       [ 2.        , -1.81944798, -1.69369836, -0.98540211],\n",
    "       [ 2.        , -0.47540191,  2.        , -0.38354053],\n",
    "       [ 2.        ,  2.        ,  2.        , -2.07971373]])\n",
    "\"\"\""
   ]
  },
  {
   "cell_type": "markdown",
   "metadata": {},
   "source": [
    "##### 統計方法\n",
    "1. 總和,最大與最小\n",
    "2. 中位數與平均\n",
    "\n",
    "##### 總和,最大與最小\n",
    "1. np.sum( ) 代表某一個陣列內容的總和,也可以指定這個陣列的哪一軸(axis)內容總和\n",
    "2. np.min( ) 代表某一個陣列內容的最小值,也可以指定這個陣列的哪一軸(axis)內容的最小值\n",
    "3. np.max( ) 代表某一個陣列內容的最大值,也可以指定這個陣列的哪一軸(axis)內容的最大值\n",
    "4. amin 與 min 是相同功能的方法\n",
    "5. amax 與 max 是相同功能的方法"
   ]
  },
  {
   "cell_type": "code",
   "execution_count": null,
   "metadata": {},
   "outputs": [],
   "source": []
  }
 ],
 "metadata": {
  "kernelspec": {
   "display_name": ".venv",
   "language": "python",
   "name": "python3"
  },
  "language_info": {
   "codemirror_mode": {
    "name": "ipython",
    "version": 3
   },
   "file_extension": ".py",
   "mimetype": "text/x-python",
   "name": "python",
   "nbconvert_exporter": "python",
   "pygments_lexer": "ipython3",
   "version": "3.10.8"
  }
 },
 "nbformat": 4,
 "nbformat_minor": 2
}

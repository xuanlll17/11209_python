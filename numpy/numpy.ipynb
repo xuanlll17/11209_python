{
 "cells": [
  {
   "cell_type": "markdown",
   "metadata": {},
   "source": [
    "# Numpy\n",
    "1. 功能\n",
    "    - 快速多維陣列操作\n",
    "    - 科學功能函數庫\n",
    "    - 協助繪圖工具繪圖\n",
    "2. 提供以向量化形式的快速 N-d 陣列類型供操作\n",
    "3. 核心功能是陣列物件類別\n",
    "4. 陣列類似list,但陣列裡的元素必是相同類型\n",
    "5. list不能直接使用算術運算工具(+,-,*,/,...)\n",
    "6. 提供更有效率的計算與多維運算工具"
   ]
  },
  {
   "cell_type": "code",
   "execution_count": 1,
   "metadata": {},
   "outputs": [],
   "source": [
    "import numpy as np\n",
    "my_arr = np.arange(1000000)\n",
    "my_list = list(range(1000000))"
   ]
  },
  {
   "cell_type": "code",
   "execution_count": 2,
   "metadata": {},
   "outputs": [
    {
     "name": "stdout",
     "output_type": "stream",
     "text": [
      "CPU times: total: 0 ns\n",
      "Wall time: 12.2 ms\n"
     ]
    }
   ],
   "source": [
    "%time for _ in range(10): my_arr2 = my_arr * 2"
   ]
  },
  {
   "cell_type": "code",
   "execution_count": 3,
   "metadata": {},
   "outputs": [
    {
     "name": "stdout",
     "output_type": "stream",
     "text": [
      "CPU times: total: 422 ms\n",
      "Wall time: 483 ms\n"
     ]
    }
   ],
   "source": [
    "%time for _ in range(10): my_list2 = [x * 2 for x in my_list]"
   ]
  },
  {
   "cell_type": "markdown",
   "metadata": {},
   "source": [
    "list -> 一般陣列"
   ]
  },
  {
   "cell_type": "code",
   "execution_count": 4,
   "metadata": {},
   "outputs": [
    {
     "name": "stdout",
     "output_type": "stream",
     "text": [
      "[5, 7]\n",
      "[1, 3, 5, 7, 9]\n",
      "[6, 8]\n",
      "[1, 3, 5, 7, 9, 3, 5, 6, 7, 9]\n",
      "<class 'list'> <class 'list'> <class 'list'> <class 'list'>\n"
     ]
    }
   ],
   "source": [
    "a = [1, 3, 5, 7, 9]\n",
    "print(a[2:4])  # 輸出a[2]-a[3]\n",
    "\n",
    "b = [[1, 3, 5, 7, 9], [2, 4, 6, 8, 10]]\n",
    "print(b[0])\n",
    "print(b[1][2:4])\n",
    "\n",
    "c = [1, 3, 5, 7, 9]\n",
    "d = [3, 5, 6, 7, 9]\n",
    "f = c+d\n",
    "print(f)\n",
    "print(type(a), type(b), type(c), type(d))"
   ]
  },
  {
   "cell_type": "markdown",
   "metadata": {},
   "source": [
    "# Numpy陣列\n",
    "### 一維陣列\n",
    "![一維陣列](./1d.png)\n",
    "### 二維陣列\n",
    "![二維陣列](./2d.png)\n",
    "### 三維陣列\n",
    "![三維陣列](./3d.png)"
   ]
  },
  {
   "cell_type": "markdown",
   "metadata": {},
   "source": [
    "##### list -> ndarray\n",
    "1. [1, 2, 3]是一維陣列, index:3\n",
    "2. [[1, 0, 0], [0, 1, 2]]是二維陣列, 第一維index:2, 第二維index:3\n",
    "3. Numpy陣列被稱為ndarray\n",
    "4. 透過array方法將list轉為ndarray"
   ]
  },
  {
   "cell_type": "code",
   "execution_count": 5,
   "metadata": {},
   "outputs": [
    {
     "name": "stdout",
     "output_type": "stream",
     "text": [
      "[ 4  8 11 14 18]\n",
      "------------------\n",
      "[-2 -2 -1  0  0]\n",
      "------------------\n",
      "<class 'numpy.ndarray'>\n"
     ]
    }
   ],
   "source": [
    "a = np.array([1, 3, 5, 7, 9])\n",
    "b = np.array([3, 5, 6, 7, 9])\n",
    "c=a+b\n",
    "print(c)\n",
    "print(\"------------------\")\n",
    "c=a-b\n",
    "print(c)\n",
    "print(\"------------------\")\n",
    "print(type(c))"
   ]
  },
  {
   "cell_type": "markdown",
   "metadata": {},
   "source": [
    "## Numpy建立與計算\n",
    "- Numpy的ndarray放的都是相同的資料類型\n",
    "- ndarray是多維度陣列,提供以陣列為導向的快速算術運算和有彈性的廣播(Broadcast\n",
    ")能力\n",
    "    - 廣播(Broadcast)\n",
    "        - 單一數字 \n",
    "            - 將原本陣列所有元素根據運算式加減乘除廣播的數字，產生新的陣列\n",
    "        ![broadcast1](./broadcast1.png)\n",
    "        - 陣列\n",
    "            - 將一陣列廣播到另一陣列，透過運算式計算後廣播，但須注意同一維度的數量必須相等或等於1，不然廣播會錯誤\n",
    "            - 如果相同尺寸陣列，廣播就將同位置元素互相計算，得到最終結果\n",
    "        ![broadcast2](./broadcast2.png)\n",
    "- ndarray提供在整個陣列的數學運算不需使用python的迴圈功能\n",
    "- 線代,亂數,傅立葉轉換\n",
    "- 提供由c,c++,FORTRAN的資料庫\n",
    "### 陣列初始與規劃\n",
    "1. 陣列初始化\n",
    "2. 陣列重新規劃\n",
    "3. 計算與取代\n",
    "### 指定與重設\n",
    "1. 一個整數指定\n",
    "2. tuple或list指定\n",
    "3. 重設陣列\n",
    "### 數值計算與處理\n",
    "1. 數值計算\n",
    "2. 總和最大與最小\n",
    "3. 中位數與平均\n",
    "### NP陣列基本屬性\n",
    "1. ndarray.ndim  - 維度數量\n",
    "2. ndarray.shape - 顯示出陣列在每個維度上的整數值\n",
    "3. ndarray.size  - 陣列內元素的總數\n",
    "4. ndarray.dtype - 來描述陣列中元素類型的對象 "
   ]
  },
  {
   "cell_type": "markdown",
   "metadata": {},
   "source": [
    "Broadcast"
   ]
  },
  {
   "cell_type": "code",
   "execution_count": 6,
   "metadata": {},
   "outputs": [
    {
     "name": "stdout",
     "output_type": "stream",
     "text": [
      "[11 12 13 14]\n",
      "[-9 -8 -7 -6]\n",
      "[10 20 30 40]\n",
      "[1 2 3 4]\n",
      "\n",
      "[[3 4 5]\n",
      " [6 7 8]]\n",
      "[[-1  0  1]\n",
      " [ 2  3  4]]\n",
      "[[ 2  4  6]\n",
      " [ 8 10 12]]\n",
      "[[1 0 1]\n",
      " [0 1 0]]\n"
     ]
    }
   ],
   "source": [
    "a = np.array([1, 2, 3, 4])\n",
    "b = np.sum(a)\n",
    "print(a + b)  # [11 12 13 14]\n",
    "print(a - b)  # [-9 -8 -7 -6]\n",
    "print(a * b)  # [10 20 30 40]\n",
    "print(a % b, end='\\n\\n')  # [1 2 3 4]\n",
    "\n",
    "c = np.array([[1, 2, 3], [4, 5, 6]])\n",
    "d = 2\n",
    "print(c + d)  # [[3 4 5] [6 7 8]]\n",
    "print(c - d)  # [[-1  0  1] [ 2  3  4]]\n",
    "print(c * d)  # [[ 2  4  6] [ 8 10 12]]\n",
    "print(c % d)  # [[1 0 1] [0 1 0]]"
   ]
  },
  {
   "cell_type": "code",
   "execution_count": 7,
   "metadata": {},
   "outputs": [
    {
     "name": "stdout",
     "output_type": "stream",
     "text": [
      "[[2 3 4]\n",
      " [3 4 5]]\n",
      "[[ 0 -1 -2]\n",
      " [ 1  0 -1]]\n",
      "[[1 2 3]\n",
      " [2 4 6]]\n",
      "[[0 1 1]\n",
      " [0 0 2]]\n",
      "\n",
      "[[2 2 2]\n",
      " [4 4 4]\n",
      " [6 6 6]]\n",
      "[[0 0 0]\n",
      " [0 0 0]\n",
      " [0 0 0]]\n",
      "[[1 1 1]\n",
      " [4 4 4]\n",
      " [9 9 9]]\n",
      "[[0 0 0]\n",
      " [0 0 0]\n",
      " [0 0 0]]\n"
     ]
    }
   ],
   "source": [
    "a = np.array([[1, 1, 1], [2, 2, 2]])\n",
    "b = np.array([1, 2, 3])\n",
    "print(a+b)  # [[2 3 4] [3 4 5]]\n",
    "print(a-b)  # [[ 0 -1 -2] [ 1  0 -1]]\n",
    "print(a*b)  # [[1 2 3] [2 4 6]]\n",
    "print(a%b,end='\\n\\n')  # [[0 1 1] [0 0 2]]\n",
    "\n",
    "c = np.array([[1, 1, 1], [2, 2, 2], [3, 3, 3]])\n",
    "d = np.array([[1], [2], [3]])\n",
    "print(c+d)  # [[2 2 2] [4 4 4] [6 6 6]]\n",
    "print(c-d)  # [[0 0 0] [0 0 0] [0 0 0]]\n",
    "print(c*d)  # [[1 1 1] [4 4 4] [9 9 9]]\n",
    "print(c%d)  # [[0 0 0] [0 0 0] [0 0 0]]"
   ]
  },
  {
   "cell_type": "markdown",
   "metadata": {},
   "source": [
    "ndArray"
   ]
  },
  {
   "cell_type": "code",
   "execution_count": 8,
   "metadata": {},
   "outputs": [
    {
     "name": "stdout",
     "output_type": "stream",
     "text": [
      "chinese:[93, 69, 100, 91, 69, 99, 81, 86, 70, 83, 85, 83, 70, 72, 100, 74, 60, 72, 79, 64, 79, 77, 95, 68, 84, 89, 85, 73, 72, 63, 76, 69, 79, 76, 95, 77, 73, 73, 61, 83, 80, 98, 80, 90, 62, 63, 96, 72, 93, 89]\n",
      "english:[72, 93, 64, 78, 81, 72, 97, 71, 91, 98, 99, 86, 79, 98, 63, 84, 90, 77, 68, 64, 95, 89, 75, 78, 73, 83, 97, 69, 94, 86, 73, 61, 69, 63, 73, 62, 77, 97, 63, 62, 80, 91, 80, 62, 65, 95, 80, 76, 69, 80]\n"
     ]
    }
   ],
   "source": [
    "# 建立50位學生的中文和英文的分數\n",
    "import random\n",
    "chinese = [random.randint(60, 100) for _ in range(50)]\n",
    "english = [random.randint(60, 100) for _ in range(50)]\n",
    "\n",
    "print(f'chinese:{chinese}')\n",
    "print(f'english:{english}')"
   ]
  },
  {
   "cell_type": "code",
   "execution_count": 9,
   "metadata": {},
   "outputs": [
    {
     "name": "stdout",
     "output_type": "stream",
     "text": [
      "[165, 162, 164, 169, 150, 171, 178, 157, 161, 181, 184, 169, 149, 170, 163, 158, 150, 149, 147, 128, 174, 166, 170, 146, 157, 172, 182, 142, 166, 149, 149, 130, 148, 139, 168, 139, 150, 170, 124, 145, 160, 189, 160, 152, 127, 158, 176, 148, 162, 169]\n"
     ]
    },
    {
     "data": {
      "text/plain": [
       "[165,\n",
       " 162,\n",
       " 164,\n",
       " 169,\n",
       " 150,\n",
       " 171,\n",
       " 178,\n",
       " 157,\n",
       " 161,\n",
       " 181,\n",
       " 184,\n",
       " 169,\n",
       " 149,\n",
       " 170,\n",
       " 163,\n",
       " 158,\n",
       " 150,\n",
       " 149,\n",
       " 147,\n",
       " 128,\n",
       " 174,\n",
       " 166,\n",
       " 170,\n",
       " 146,\n",
       " 157,\n",
       " 172,\n",
       " 182,\n",
       " 142,\n",
       " 166,\n",
       " 149,\n",
       " 149,\n",
       " 130,\n",
       " 148,\n",
       " 139,\n",
       " 168,\n",
       " 139,\n",
       " 150,\n",
       " 170,\n",
       " 124,\n",
       " 145,\n",
       " 160,\n",
       " 189,\n",
       " 160,\n",
       " 152,\n",
       " 127,\n",
       " 158,\n",
       " 176,\n",
       " 148,\n",
       " 162,\n",
       " 169]"
      ]
     },
     "execution_count": 9,
     "metadata": {},
     "output_type": "execute_result"
    }
   ],
   "source": [
    "# 中文和英文的總和\n",
    "result = []\n",
    "for i in range(50):\n",
    "    total = chinese[i] + english[i]  # ex:chinese[1]+english[1]\n",
    "    result.append(total)  # total加到list裡面\n",
    "print(result)\n",
    "\n",
    "#利用comprehension來建立中文和英文的總和\n",
    "result = [chinese[i]+english[i] for i in range(50)]\n",
    "result"
   ]
  },
  {
   "cell_type": "code",
   "execution_count": 10,
   "metadata": {},
   "outputs": [
    {
     "name": "stdout",
     "output_type": "stream",
     "text": [
      "<class 'numpy.ndarray'>\n",
      "[ 93  69 100  91  69  99  81  86  70  83  85  83  70  72 100  74  60  72\n",
      "  79  64  79  77  95  68  84  89  85  73  72  63  76  69  79  76  95  77\n",
      "  73  73  61  83  80  98  80  90  62  63  96  72  93  89]\n",
      "<class 'numpy.ndarray'>\n",
      "[72 93 64 78 81 72 97 71 91 98 99 86 79 98 63 84 90 77 68 64 95 89 75 78\n",
      " 73 83 97 69 94 86 73 61 69 63 73 62 77 97 63 62 80 91 80 62 65 95 80 76\n",
      " 69 80]\n",
      "[165 162 164 169 150 171 178 157 161 181 184 169 149 170 163 158 150 149\n",
      " 147 128 174 166 170 146 157 172 182 142 166 149 149 130 148 139 168 139\n",
      " 150 170 124 145 160 189 160 152 127 158 176 148 162 169]\n"
     ]
    }
   ],
   "source": [
    "# numpy可以陣列和陣列做運算\n",
    "ndChinese = np.array(chinese)\n",
    "print(ndChinese.__class__)\n",
    "print(ndChinese)\n",
    "ndEnglish = np.array(english)\n",
    "print(ndEnglish.__class__)\n",
    "print(ndEnglish)\n",
    "print(ndChinese+ndEnglish)"
   ]
  },
  {
   "cell_type": "markdown",
   "metadata": {},
   "source": [
    "使用array function 建立ndarray"
   ]
  },
  {
   "cell_type": "code",
   "execution_count": 11,
   "metadata": {},
   "outputs": [
    {
     "name": "stdout",
     "output_type": "stream",
     "text": [
      "2\n",
      "(2, 3)\n",
      "6\n"
     ]
    },
    {
     "data": {
      "text/plain": [
       "dtype('int32')"
      ]
     },
     "execution_count": 11,
     "metadata": {},
     "output_type": "execute_result"
    }
   ],
   "source": [
    "# 不要使用from numpy import *,容易和其他module衝突,例如(max,min)\n",
    "# np.array(任何的串列資料)\n",
    "\n",
    "l = [[1, 2, 3], [2, 3, 4]]\n",
    "a = np.array(l)\n",
    "a  #array([[1, 2, 3],[2, 3, 4]])\n",
    "\n",
    "print(a.ndim)   # 維度\n",
    "print(a.shape)  # 形狀\n",
    "print(a.size)   # 總元素數量\n",
    "a.dtype         # ndarray的資料型別"
   ]
  },
  {
   "cell_type": "code",
   "execution_count": 12,
   "metadata": {},
   "outputs": [
    {
     "data": {
      "text/plain": [
       "array([[ 1.03428459, -1.35928271,  0.30355129],\n",
       "       [ 0.58890195,  0.06882235,  0.27797736]])"
      ]
     },
     "execution_count": 12,
     "metadata": {},
     "output_type": "execute_result"
    }
   ],
   "source": [
    "# 產生亂數陣列\n",
    "data = np.random.randn(2, 3)  # 產生一2x3陣列  # randn產生符合常態分佈的亂數\n",
    "data"
   ]
  },
  {
   "cell_type": "code",
   "execution_count": 13,
   "metadata": {},
   "outputs": [
    {
     "data": {
      "text/plain": [
       "array([[ 10.34284593, -13.5928271 ,   3.03551295],\n",
       "       [  5.88901945,   0.68822349,   2.77977361]])"
      ]
     },
     "execution_count": 13,
     "metadata": {},
     "output_type": "execute_result"
    }
   ],
   "source": [
    "# 數學運算\n",
    "data * 10"
   ]
  },
  {
   "cell_type": "code",
   "execution_count": 14,
   "metadata": {},
   "outputs": [
    {
     "data": {
      "text/plain": [
       "array([[ 2.06856919, -2.71856542,  0.60710259],\n",
       "       [ 1.17780389,  0.1376447 ,  0.55595472]])"
      ]
     },
     "execution_count": 14,
     "metadata": {},
     "output_type": "execute_result"
    }
   ],
   "source": [
    "data += data  # 每個值自己加自己\n",
    "data"
   ]
  },
  {
   "cell_type": "code",
   "execution_count": 15,
   "metadata": {},
   "outputs": [
    {
     "data": {
      "text/plain": [
       "(2, 3)"
      ]
     },
     "execution_count": 15,
     "metadata": {},
     "output_type": "execute_result"
    }
   ],
   "source": [
    "# 每個陣列都有shape,使用tuple來表示每個維度的大小\n",
    "data.shape"
   ]
  },
  {
   "cell_type": "code",
   "execution_count": 16,
   "metadata": {},
   "outputs": [
    {
     "data": {
      "text/plain": [
       "dtype('float64')"
      ]
     },
     "execution_count": 16,
     "metadata": {},
     "output_type": "execute_result"
    }
   ],
   "source": [
    "# 使用dtype屬性來顯示目前陣列內的資料型態(相同型態)\n",
    "data.dtype"
   ]
  },
  {
   "cell_type": "code",
   "execution_count": 17,
   "metadata": {},
   "outputs": [
    {
     "data": {
      "text/plain": [
       "array([6. , 7.5, 8. , 0. , 1. ])"
      ]
     },
     "execution_count": 17,
     "metadata": {},
     "output_type": "execute_result"
    }
   ],
   "source": [
    "# 建立一維ndarray\n",
    "data1 = [6, 7.5, 8, 0, 1]\n",
    "arr1 = np.array(data1)\n",
    "arr1"
   ]
  },
  {
   "cell_type": "code",
   "execution_count": 18,
   "metadata": {},
   "outputs": [
    {
     "data": {
      "text/plain": [
       "array([[1, 2, 3, 4],\n",
       "       [5, 6, 7, 8]])"
      ]
     },
     "execution_count": 18,
     "metadata": {},
     "output_type": "execute_result"
    }
   ],
   "source": [
    "# 建立二維ndarray\n",
    "data2 = [[1, 2, 3, 4], [5, 6, 7, 8]]\n",
    "arr2 = np.array(data2)\n",
    "arr2"
   ]
  },
  {
   "cell_type": "code",
   "execution_count": 19,
   "metadata": {},
   "outputs": [
    {
     "data": {
      "text/plain": [
       "2"
      ]
     },
     "execution_count": 19,
     "metadata": {},
     "output_type": "execute_result"
    }
   ],
   "source": [
    "# ndim屬性查詢維度\n",
    "arr2.ndim"
   ]
  },
  {
   "cell_type": "code",
   "execution_count": 20,
   "metadata": {},
   "outputs": [
    {
     "data": {
      "text/plain": [
       "(2, 4)"
      ]
     },
     "execution_count": 20,
     "metadata": {},
     "output_type": "execute_result"
    }
   ],
   "source": [
    "# shape查詢每個維度大小\n",
    "arr2.shape"
   ]
  },
  {
   "cell_type": "code",
   "execution_count": 21,
   "metadata": {},
   "outputs": [
    {
     "data": {
      "text/plain": [
       "dtype('float64')"
      ]
     },
     "execution_count": 21,
     "metadata": {},
     "output_type": "execute_result"
    }
   ],
   "source": [
    "arr1.dtype"
   ]
  },
  {
   "cell_type": "code",
   "execution_count": 22,
   "metadata": {},
   "outputs": [
    {
     "data": {
      "text/plain": [
       "dtype('int32')"
      ]
     },
     "execution_count": 22,
     "metadata": {},
     "output_type": "execute_result"
    }
   ],
   "source": [
    "arr2.dtype"
   ]
  },
  {
   "cell_type": "code",
   "execution_count": 23,
   "metadata": {},
   "outputs": [
    {
     "data": {
      "text/plain": [
       "array([[[1.25032141e-311, 3.16202013e-322],\n",
       "        [0.00000000e+000, 0.00000000e+000],\n",
       "        [1.06099790e-312, 4.08870425e-037]],\n",
       "\n",
       "       [[8.85637465e+165, 6.81694886e-038],\n",
       "        [4.95421750e-062, 1.05225694e-046],\n",
       "        [1.53128559e-047, 1.79246464e+160]]])"
      ]
     },
     "execution_count": 23,
     "metadata": {},
     "output_type": "execute_result"
    }
   ],
   "source": [
    "# 使用ones(),zeros(),empty(),arange()function建立ndarray\n",
    "np.zeros(10)  # 建立一維矩陣,內容為10個0\n",
    "\"\"\"\n",
    "array([0., 0., 0., 0., 0., 0., 0., 0., 0., 0.])\n",
    "\"\"\"\n",
    "np.zeros((3, 6))\n",
    "\"\"\"\n",
    "array([[0., 0., 0., 0., 0., 0.],\n",
    "       [0., 0., 0., 0., 0., 0.],\n",
    "       [0., 0., 0., 0., 0., 0.]])\n",
    "\"\"\"\n",
    "np.empty((2, 3, 2))  # value都是garbage  # value為隨機值(未初始化,可能為任意值)\n"
   ]
  },
  {
   "cell_type": "code",
   "execution_count": 24,
   "metadata": {},
   "outputs": [
    {
     "data": {
      "text/plain": [
       "array([ 0,  1,  2,  3,  4,  5,  6,  7,  8,  9, 10, 11, 12, 13, 14])"
      ]
     },
     "execution_count": 24,
     "metadata": {},
     "output_type": "execute_result"
    }
   ],
   "source": [
    "# 使用arange()function建立,類似於python range()\n",
    "np.arange(15)  # 0-14"
   ]
  },
  {
   "cell_type": "markdown",
   "metadata": {},
   "source": [
    "ndarray的資料型別  \n",
    "| 型別 | 型別碼 |\n",
    "|---------|---------|\n",
    "| int8,unit8 | i1,u1 |\n",
    "| int32,uint32 | i3,u3 |\n",
    "| int64,uint64 | i4,u4 |\n",
    "| float16 | f2 |\n",
    "| float32 | f4 or f |\n",
    "| float64 | f8 or d |\n",
    "| float128 | f16 or g |\n",
    "| complex64 | c8 |\n",
    "| complex128 | c16 |\n",
    "| complex256 | c32 |\n",
    "| bool | ? |\n",
    "| object | O |\n",
    "| string_ | S |\n",
    "| unicode) | U |"
   ]
  },
  {
   "cell_type": "code",
   "execution_count": 25,
   "metadata": {},
   "outputs": [
    {
     "data": {
      "text/plain": [
       "dtype('float64')"
      ]
     },
     "execution_count": 25,
     "metadata": {},
     "output_type": "execute_result"
    }
   ],
   "source": [
    "# 建立自訂資料類型的ndarrays\n",
    "arr1 = np.array([1, 2, 3], dtype=np.float64)\n",
    "arr2 = np.array([1, 2, 3], dtype=np.int32)\n",
    "arr1.dtype"
   ]
  },
  {
   "cell_type": "code",
   "execution_count": 26,
   "metadata": {},
   "outputs": [
    {
     "data": {
      "text/plain": [
       "dtype('int32')"
      ]
     },
     "execution_count": 26,
     "metadata": {},
     "output_type": "execute_result"
    }
   ],
   "source": [
    "arr2.dtype"
   ]
  },
  {
   "cell_type": "code",
   "execution_count": 27,
   "metadata": {},
   "outputs": [
    {
     "data": {
      "text/plain": [
       "dtype('int32')"
      ]
     },
     "execution_count": 27,
     "metadata": {},
     "output_type": "execute_result"
    }
   ],
   "source": [
    "# 使用astype() 轉變資料類型\n",
    "# 使用astype(), 將會建立一個新的array()\n",
    "\n",
    "arr = np.array([1, 2, 3, 4, 5])\n",
    "arr.dtype"
   ]
  },
  {
   "cell_type": "code",
   "execution_count": 28,
   "metadata": {},
   "outputs": [
    {
     "data": {
      "text/plain": [
       "dtype('float64')"
      ]
     },
     "execution_count": 28,
     "metadata": {},
     "output_type": "execute_result"
    }
   ],
   "source": [
    "float_arr = arr.astype(np.float64)\n",
    "float_arr.dtype"
   ]
  },
  {
   "cell_type": "code",
   "execution_count": 29,
   "metadata": {},
   "outputs": [
    {
     "data": {
      "text/plain": [
       "array([ 3.7, -1.2, -2.6,  0.5, 12.9, 10.1])"
      ]
     },
     "execution_count": 29,
     "metadata": {},
     "output_type": "execute_result"
    }
   ],
   "source": [
    "# 如果將幅點數轉換為整數, 則小數將被刪除\n",
    "arr = np.array([3.7, -1.2, -2.6, 0.5, 12.9, 10.1])\n",
    "arr"
   ]
  },
  {
   "cell_type": "code",
   "execution_count": 30,
   "metadata": {},
   "outputs": [
    {
     "data": {
      "text/plain": [
       "array([ 3, -1, -2,  0, 12, 10])"
      ]
     },
     "execution_count": 30,
     "metadata": {},
     "output_type": "execute_result"
    }
   ],
   "source": [
    "arr.astype(np.int32)"
   ]
  },
  {
   "cell_type": "code",
   "execution_count": 31,
   "metadata": {},
   "outputs": [
    {
     "data": {
      "text/plain": [
       "array([ 1.25, -9.6 , 42.  ])"
      ]
     },
     "execution_count": 31,
     "metadata": {},
     "output_type": "execute_result"
    }
   ],
   "source": [
    "# string轉為number\n",
    "numeric_strings = np.array(['1.25', '-9.6', '42'],dtype=np.string_)\n",
    "numeric_strings.astype(float)"
   ]
  },
  {
   "cell_type": "markdown",
   "metadata": {},
   "source": [
    "##### 使用數學運算子的數學運算\n",
    "1 陣列重要的原因在於,數學運算不需使用for loop迴圈"
   ]
  },
  {
   "cell_type": "code",
   "execution_count": 32,
   "metadata": {},
   "outputs": [
    {
     "data": {
      "text/plain": [
       "array([[1., 2., 3.],\n",
       "       [4., 5., 6.]])"
      ]
     },
     "execution_count": 32,
     "metadata": {},
     "output_type": "execute_result"
    }
   ],
   "source": [
    "# 相同size的運算\n",
    "arr = np.array([[1., 2., 3.], [4., 5., 6.]])\n",
    "arr"
   ]
  },
  {
   "cell_type": "code",
   "execution_count": 33,
   "metadata": {},
   "outputs": [
    {
     "data": {
      "text/plain": [
       "array([[ 1.,  4.,  9.],\n",
       "       [16., 25., 36.]])"
      ]
     },
     "execution_count": 33,
     "metadata": {},
     "output_type": "execute_result"
    }
   ],
   "source": [
    "arr * arr"
   ]
  },
  {
   "cell_type": "code",
   "execution_count": 34,
   "metadata": {},
   "outputs": [
    {
     "data": {
      "text/plain": [
       "array([[0., 0., 0.],\n",
       "       [0., 0., 0.]])"
      ]
     },
     "execution_count": 34,
     "metadata": {},
     "output_type": "execute_result"
    }
   ],
   "source": [
    "arr - arr"
   ]
  },
  {
   "cell_type": "code",
   "execution_count": 35,
   "metadata": {},
   "outputs": [
    {
     "data": {
      "text/plain": [
       "array([[1.        , 0.5       , 0.33333333],\n",
       "       [0.25      , 0.2       , 0.16666667]])"
      ]
     },
     "execution_count": 35,
     "metadata": {},
     "output_type": "execute_result"
    }
   ],
   "source": [
    "# 和純值的運算\n",
    "arr = np.array([[1., 2., 3.],[4., 5., 6.]])\n",
    "1/arr"
   ]
  },
  {
   "cell_type": "code",
   "execution_count": 36,
   "metadata": {},
   "outputs": [
    {
     "data": {
      "text/plain": [
       "array([[1.        , 1.41421356, 1.73205081],\n",
       "       [2.        , 2.23606798, 2.44948974]])"
      ]
     },
     "execution_count": 36,
     "metadata": {},
     "output_type": "execute_result"
    }
   ],
   "source": [
    "arr ** 0.5"
   ]
  },
  {
   "cell_type": "code",
   "execution_count": 37,
   "metadata": {},
   "outputs": [
    {
     "data": {
      "text/plain": [
       "array([[ 0.,  4.,  1.],\n",
       "       [ 7.,  2., 12.]])"
      ]
     },
     "execution_count": 37,
     "metadata": {},
     "output_type": "execute_result"
    }
   ],
   "source": [
    "# 使用比較運算子,比較2個array\n",
    "# 使用相同shape做比對\n",
    "\n",
    "import numpy as np\n",
    "arr2 = np.array([[0., 4., 1.],[7., 2., 12.]])\n",
    "arr2"
   ]
  },
  {
   "cell_type": "code",
   "execution_count": 38,
   "metadata": {},
   "outputs": [
    {
     "data": {
      "text/plain": [
       "array([[False,  True, False],\n",
       "       [ True, False,  True]])"
      ]
     },
     "execution_count": 38,
     "metadata": {},
     "output_type": "execute_result"
    }
   ],
   "source": [
    "arr2 > arr"
   ]
  },
  {
   "cell_type": "markdown",
   "metadata": {},
   "source": [
    "##### 使用ndarray方法做數值計算\n",
    "1. 數值計算函數內放入參與計算的兩個陣列。\n",
    "2. 進行計算的陣列第一維數量必須是相同。\n",
    "3. add()方法代表「加」，也可以使用「+」。\n",
    "4. subtract()方法代表「減」，也可以使用「-」。\n",
    "5. multiply()方法代表「乘」，也可以使用「*」。\n",
    "6. divide()方法代表「除」，也可以使用「/」。"
   ]
  },
  {
   "cell_type": "code",
   "execution_count": 39,
   "metadata": {},
   "outputs": [
    {
     "data": {
      "text/plain": [
       "array([[11, 12, 13],\n",
       "       [14, 15, 16],\n",
       "       [17, 18, 19]])"
      ]
     },
     "execution_count": 39,
     "metadata": {},
     "output_type": "execute_result"
    }
   ],
   "source": [
    "# 不同size的運算稱為broadcasting\n",
    "# add(), subtract(), multiply\n",
    "\n",
    "import numpy as np\n",
    "a = np.array([[1, 2, 3], [4, 5, 6], [7, 8, 9]])\n",
    "b = np.array([10, 10, 10])\n",
    "c = np.add(a,b)\n",
    "c"
   ]
  },
  {
   "cell_type": "code",
   "execution_count": 40,
   "metadata": {},
   "outputs": [
    {
     "data": {
      "text/plain": [
       "array([[-9, -8, -7],\n",
       "       [-6, -5, -4],\n",
       "       [-3, -2, -1]])"
      ]
     },
     "execution_count": 40,
     "metadata": {},
     "output_type": "execute_result"
    }
   ],
   "source": [
    "d = np.subtract(a,b)  # a-b = d  # 計算a,b之間的差異\n",
    "d"
   ]
  },
  {
   "cell_type": "code",
   "execution_count": 41,
   "metadata": {},
   "outputs": [
    {
     "data": {
      "text/plain": [
       "array([[10, 20, 30],\n",
       "       [40, 50, 60],\n",
       "       [70, 80, 90]])"
      ]
     },
     "execution_count": 41,
     "metadata": {},
     "output_type": "execute_result"
    }
   ],
   "source": [
    "f = np.multiply(a,b)  # a*b = f  # 將a,b元素相乘\n",
    "f"
   ]
  },
  {
   "cell_type": "code",
   "execution_count": 42,
   "metadata": {},
   "outputs": [
    {
     "data": {
      "text/plain": [
       "array([[0.1, 0.2, 0.3],\n",
       "       [0.4, 0.5, 0.6],\n",
       "       [0.7, 0.8, 0.9]])"
      ]
     },
     "execution_count": 42,
     "metadata": {},
     "output_type": "execute_result"
    }
   ],
   "source": [
    "g = np.divide(a,b)  # a/b = g  # 將a中各元素除以b對應元素\n",
    "g"
   ]
  },
  {
   "cell_type": "code",
   "execution_count": 43,
   "metadata": {},
   "outputs": [
    {
     "data": {
      "text/plain": [
       "array([[11, 12, 13],\n",
       "       [14, 15, 16],\n",
       "       [17, 18, 19]])"
      ]
     },
     "execution_count": 43,
     "metadata": {},
     "output_type": "execute_result"
    }
   ],
   "source": [
    "# 使用運算子+, -, *, /\n",
    "\n",
    "import numpy as np\n",
    "a = np.array([[1, 2, 3], [4, 5, 6], [7, 8, 9]])\n",
    "b = np.array([10, 10, 10])\n",
    "a+b"
   ]
  },
  {
   "cell_type": "code",
   "execution_count": 44,
   "metadata": {},
   "outputs": [
    {
     "data": {
      "text/plain": [
       "array([[-9, -8, -7],\n",
       "       [-6, -5, -4],\n",
       "       [-3, -2, -1]])"
      ]
     },
     "execution_count": 44,
     "metadata": {},
     "output_type": "execute_result"
    }
   ],
   "source": [
    "a-b"
   ]
  },
  {
   "cell_type": "code",
   "execution_count": 45,
   "metadata": {},
   "outputs": [
    {
     "data": {
      "text/plain": [
       "array([[10, 20, 30],\n",
       "       [40, 50, 60],\n",
       "       [70, 80, 90]])"
      ]
     },
     "execution_count": 45,
     "metadata": {},
     "output_type": "execute_result"
    }
   ],
   "source": [
    "a*b"
   ]
  },
  {
   "cell_type": "code",
   "execution_count": 46,
   "metadata": {},
   "outputs": [
    {
     "data": {
      "text/plain": [
       "array([[0.1, 0.2, 0.3],\n",
       "       [0.4, 0.5, 0.6],\n",
       "       [0.7, 0.8, 0.9]])"
      ]
     },
     "execution_count": 46,
     "metadata": {},
     "output_type": "execute_result"
    }
   ],
   "source": [
    "a/b"
   ]
  },
  {
   "cell_type": "markdown",
   "metadata": {},
   "source": [
    "##### 數值計算\n",
    "1. np.power(a,n)代表a陣列的n次方。\n",
    "2. a陣列的n次方也可以使用a**n方式表示。\n",
    "3. N可以是陣列，但兩陣列第一維數量必須是相同。\n",
    "4. np.Reciprocal()代表倒數的計算，倒數是指a*b=1，輸入a後求b。\n"
   ]
  },
  {
   "cell_type": "code",
   "execution_count": 47,
   "metadata": {},
   "outputs": [
    {
     "data": {
      "text/plain": [
       "array([4, 5, 6])"
      ]
     },
     "execution_count": 47,
     "metadata": {},
     "output_type": "execute_result"
    }
   ],
   "source": [
    "# power(),**\n",
    "\n",
    "import numpy as np\n",
    "a = np.array([4, 5, 6])\n",
    "a"
   ]
  },
  {
   "cell_type": "code",
   "execution_count": 48,
   "metadata": {},
   "outputs": [
    {
     "data": {
      "text/plain": [
       "array([16, 25, 36], dtype=int32)"
      ]
     },
     "execution_count": 48,
     "metadata": {},
     "output_type": "execute_result"
    }
   ],
   "source": [
    "np.power(a, 2)"
   ]
  },
  {
   "cell_type": "code",
   "execution_count": 49,
   "metadata": {},
   "outputs": [
    {
     "data": {
      "text/plain": [
       "array([  4,  25, 216])"
      ]
     },
     "execution_count": 49,
     "metadata": {},
     "output_type": "execute_result"
    }
   ],
   "source": [
    "c = np.array([1, 2, 3])\n",
    "np.power(a, c)"
   ]
  },
  {
   "cell_type": "code",
   "execution_count": 50,
   "metadata": {},
   "outputs": [
    {
     "data": {
      "text/plain": [
       "array([  4,  25, 216])"
      ]
     },
     "execution_count": 50,
     "metadata": {},
     "output_type": "execute_result"
    }
   ],
   "source": [
    "a ** c"
   ]
  },
  {
   "cell_type": "code",
   "execution_count": 51,
   "metadata": {},
   "outputs": [
    {
     "data": {
      "text/plain": [
       "array([  4.       ,   0.7518797,   1.       , -10.       ,   0.01     ])"
      ]
     },
     "execution_count": 51,
     "metadata": {},
     "output_type": "execute_result"
    }
   ],
   "source": [
    "# 運算子 / , reciprocal()\n",
    "\n",
    "import numpy as np\n",
    "a = np.array([0.25, 1.33, 1, -0.1, 100])\n",
    "1/a"
   ]
  },
  {
   "cell_type": "code",
   "execution_count": 52,
   "metadata": {},
   "outputs": [
    {
     "data": {
      "text/plain": [
       "array([  4.       ,   0.7518797,   1.       , -10.       ,   0.01     ])"
      ]
     },
     "execution_count": 52,
     "metadata": {},
     "output_type": "execute_result"
    }
   ],
   "source": [
    "b = np.reciprocal(a)  # 計算a各元素的倒數\n",
    "b"
   ]
  },
  {
   "cell_type": "code",
   "execution_count": 53,
   "metadata": {},
   "outputs": [
    {
     "data": {
      "text/plain": [
       "array([10, 20, 30])"
      ]
     },
     "execution_count": 53,
     "metadata": {},
     "output_type": "execute_result"
    }
   ],
   "source": [
    "# mod(),remainder()\n",
    "\n",
    "import numpy as np\n",
    "a = np.array([10, 20, 30])\n",
    "b = np.array([3, 5, 7])\n",
    "a"
   ]
  },
  {
   "cell_type": "markdown",
   "metadata": {},
   "source": [
    "mod/remainder 皆為求餘數，大多皆相同"
   ]
  },
  {
   "cell_type": "code",
   "execution_count": 54,
   "metadata": {},
   "outputs": [
    {
     "data": {
      "text/plain": [
       "array([1, 0, 2])"
      ]
     },
     "execution_count": 54,
     "metadata": {},
     "output_type": "execute_result"
    }
   ],
   "source": [
    "c = np.mod(a,b)  # 計算a各元素除以b中對應元素後的餘數\n",
    "c"
   ]
  },
  {
   "cell_type": "code",
   "execution_count": 55,
   "metadata": {},
   "outputs": [
    {
     "data": {
      "text/plain": [
       "array([1, 0, 2])"
      ]
     },
     "execution_count": 55,
     "metadata": {},
     "output_type": "execute_result"
    }
   ],
   "source": [
    "d = np.remainder(a,b)  # 計算餘數\n",
    "d"
   ]
  },
  {
   "cell_type": "code",
   "execution_count": 56,
   "metadata": {},
   "outputs": [
    {
     "data": {
      "text/plain": [
       "50"
      ]
     },
     "execution_count": 56,
     "metadata": {},
     "output_type": "execute_result"
    }
   ],
   "source": [
    "# numpy數值計算和圖表1\n",
    "\n",
    "import numpy as np\n",
    "import matplotlib.pyplot as plt\n",
    "\n",
    "x = np.linspace(-3, 3, 50)  #產生包含50個元素的數組，範圍由-3至3  # linspace將指定範圍內均勻撒點 linspace(開始, 結束, 數字長度, endpoint最後一個數字是否包含, restep兩數字間距, dtype資料型態int,float,double,String...)\n",
    "len(x)  # 長度"
   ]
  },
  {
   "cell_type": "code",
   "execution_count": 57,
   "metadata": {},
   "outputs": [
    {
     "data": {
      "text/plain": [
       "array([9.00000000e+00, 8.28029988e+00, 7.59058726e+00, 6.93086214e+00,\n",
       "       6.30112453e+00, 5.70137443e+00, 5.13161183e+00, 4.59183673e+00,\n",
       "       4.08204915e+00, 3.60224906e+00, 3.15243648e+00, 2.73261141e+00,\n",
       "       2.34277384e+00, 1.98292378e+00, 1.65306122e+00, 1.35318617e+00,\n",
       "       1.08329863e+00, 8.43398584e-01, 6.33486047e-01, 4.53561016e-01,\n",
       "       3.03623490e-01, 1.83673469e-01, 9.37109538e-02, 3.37359434e-02,\n",
       "       3.74843815e-03, 3.74843815e-03, 3.37359434e-02, 9.37109538e-02,\n",
       "       1.83673469e-01, 3.03623490e-01, 4.53561016e-01, 6.33486047e-01,\n",
       "       8.43398584e-01, 1.08329863e+00, 1.35318617e+00, 1.65306122e+00,\n",
       "       1.98292378e+00, 2.34277384e+00, 2.73261141e+00, 3.15243648e+00,\n",
       "       3.60224906e+00, 4.08204915e+00, 4.59183673e+00, 5.13161183e+00,\n",
       "       5.70137443e+00, 6.30112453e+00, 6.93086214e+00, 7.59058726e+00,\n",
       "       8.28029988e+00, 9.00000000e+00])"
      ]
     },
     "execution_count": 57,
     "metadata": {},
     "output_type": "execute_result"
    }
   ],
   "source": [
    "# numpy數值計算和圖表2\n",
    "\n",
    "x\n",
    "\"\"\"\n",
    "array([-3.        , -2.87755102, -2.75510204, -2.63265306, -2.51020408,\n",
    "       -2.3877551 , -2.26530612, -2.14285714, -2.02040816, -1.89795918,\n",
    "       -1.7755102 , -1.65306122, -1.53061224, -1.40816327, -1.28571429,\n",
    "       -1.16326531, -1.04081633, -0.91836735, -0.79591837, -0.67346939,\n",
    "       -0.55102041, -0.42857143, -0.30612245, -0.18367347, -0.06122449,\n",
    "        0.06122449,  0.18367347,  0.30612245,  0.42857143,  0.55102041,\n",
    "        0.67346939,  0.79591837,  0.91836735,  1.04081633,  1.16326531,\n",
    "        1.28571429,  1.40816327,  1.53061224,  1.65306122,  1.7755102 ,\n",
    "        1.89795918,  2.02040816,  2.14285714,  2.26530612,  2.3877551 ,\n",
    "        2.51020408,  2.63265306,  2.75510204,  2.87755102,  3.        ])\n",
    "\"\"\"\n",
    "y1 = 2 * x + 1\n",
    "y1\n",
    "\"\"\"\n",
    "array([-5.        , -4.75510204, -4.51020408, -4.26530612, -4.02040816,\n",
    "       -3.7755102 , -3.53061224, -3.28571429, -3.04081633, -2.79591837,\n",
    "       -2.55102041, -2.30612245, -2.06122449, -1.81632653, -1.57142857,\n",
    "       -1.32653061, -1.08163265, -0.83673469, -0.59183673, -0.34693878,\n",
    "       -0.10204082,  0.14285714,  0.3877551 ,  0.63265306,  0.87755102,\n",
    "        1.12244898,  1.36734694,  1.6122449 ,  1.85714286,  2.10204082,\n",
    "        2.34693878,  2.59183673,  2.83673469,  3.08163265,  3.32653061,\n",
    "        3.57142857,  3.81632653,  4.06122449,  4.30612245,  4.55102041,\n",
    "        4.79591837,  5.04081633,  5.28571429,  5.53061224,  5.7755102 ,\n",
    "        6.02040816,  6.26530612,  6.51020408,  6.75510204,  7.        ])\n",
    "\"\"\"\n",
    "y2 = x ** 2\n",
    "y2"
   ]
  },
  {
   "cell_type": "code",
   "execution_count": 58,
   "metadata": {},
   "outputs": [
    {
     "data": {
      "image/png": "[encoded data removed]",
      "text/plain": [
       "<Figure size 800x500 with 1 Axes>"
      ]
     },
     "metadata": {},
     "output_type": "display_data"
    }
   ],
   "source": [
    "# numpy數值計算和圖表3\n",
    "\n",
    "fig = plt.figure(figsize=(8,5))\n",
    "ax1 = fig.add_subplot(1,1,1)\n",
    "ax1.plot(x,y1,'r--')\n",
    "ax1.plot(x,y2,color=\"red\", linestyle=\"-\", linewidth=1)\n",
    "plt.xlabel('x')\n",
    "plt.ylabel('y')\n",
    "plt.title('x,y')\n",
    "plt.show()"
   ]
  },
  {
   "cell_type": "code",
   "execution_count": 59,
   "metadata": {},
   "outputs": [
    {
     "data": {
      "image/png": "[encoded data removed]",
      "text/plain": [
       "<Figure size 800x1500 with 2 Axes>"
      ]
     },
     "metadata": {},
     "output_type": "display_data"
    }
   ],
   "source": [
    "# numpy數值計算和圖表4\n",
    "\n",
    "t = np.arange(0, 5, 0.1)\n",
    "y1 = np.sin(2 * np.pi * t)\n",
    "y2 = np.cos(2 * np.pi * t)\n",
    "\n",
    "fig = plt.figure(figsize=(8,15))\n",
    "ax1 = fig.add_subplot(2, 1, 1)\n",
    "ax1.plot(t, y1, 'b-.')\n",
    "\n",
    "ax2 = fig.add_subplot(2, 1, 2)\n",
    "ax2.plot(t, y2, 'r--')\n",
    "plt.show()"
   ]
  },
  {
   "cell_type": "code",
   "execution_count": 60,
   "metadata": {},
   "outputs": [
    {
     "data": {
      "image/png": "[encoded data removed]",
      "text/plain": [
       "<Figure size 800x500 with 1 Axes>"
      ]
     },
     "metadata": {},
     "output_type": "display_data"
    }
   ],
   "source": [
    "# numpy數值計算和圖表5\n",
    "\n",
    "fig = plt.figure(figsize=(8, 5))\n",
    "ax1 = fig.add_subplot(1, 1, 1)\n",
    "ax1.plot([1, 2, 3, 4], [1, 4, 9, 16], 'ro')\n",
    "plt.text(1, 0.5, 'First', color='red', fontsize=15)\n",
    "plt.text(2, 4.5, 'Second')\n",
    "plt.text(3, 8.5, 'Third')\n",
    "plt.text(4, 12.5, 'Four')\n",
    "plt.text(5, 15, 'Five')\n",
    "plt.text(1.2, 12, 'numpy', fontsize=20, bbox={'facecolor':'yellow','alpha':0.2})\n",
    "plt.show()"
   ]
  },
  {
   "cell_type": "code",
   "execution_count": 61,
   "metadata": {},
   "outputs": [
    {
     "data": {
      "image/png": "[encoded data removed]",
      "text/plain": [
       "<Figure size 800x500 with 1 Axes>"
      ]
     },
     "metadata": {},
     "output_type": "display_data"
    }
   ],
   "source": [
    "# numpy數值計算和圖表6\n",
    "\n",
    "index = ['apple', 'banana', 'orange', 'tomato', 'guava']\n",
    "values = np.array([5, 7, 3, 4, 6]) * 1000\n",
    "fig = plt.figure(figsize=(8, 5))\n",
    "ax1 = fig.add_subplot(1, 1, 1)  # 添加子圖\n",
    "ax1.bar(index, values)\n",
    "plt.show()"
   ]
  },
  {
   "cell_type": "code",
   "execution_count": 62,
   "metadata": {},
   "outputs": [
    {
     "data": {
      "image/png": "[encoded data removed]",
      "text/plain": [
       "<Figure size 640x480 with 1 Axes>"
      ]
     },
     "metadata": {},
     "output_type": "display_data"
    }
   ],
   "source": [
    "import matplotlib.pyplot as plt\n",
    "import numpy as np\n",
    "\n",
    "index = [\"apple\", \"banana\", \"orange\", \"tomato\", \"guava\"]\n",
    "values = np.array([5, 7, 3, 4, 6]) * 1000\n",
    "plt.bar(index, values)\n",
    "plt.show()"
   ]
  },
  {
   "cell_type": "code",
   "execution_count": 63,
   "metadata": {},
   "outputs": [
    {
     "data": {
      "image/png": "[encoded data removed]",
      "text/plain": [
       "<Figure size 800x500 with 1 Axes>"
      ]
     },
     "metadata": {},
     "output_type": "display_data"
    }
   ],
   "source": [
    "# numpy數值計算和圖表7\n",
    "\n",
    "index = np.arange(5)\n",
    "values = np.array([5, 7, 3, 4, 6]) * 1000\n",
    "fig = plt.figure(figsize=(8, 5))\n",
    "ax1 = fig.add_subplot(1, 1, 1)  # 列, 行, index  #add_subplot(上下切幾塊，左右切幾塊，左上到右下第幾塊)\n",
    "ax1.bar(index, values)\n",
    "# 設定x軸標籤\n",
    "plt.xticks(index, [\"apple\", \"banana\", \"orange\", \"tomato\", \"guava\"])\n",
    "# 設定坐標軸範圍, x軸範圍為 [-1, 5], y軸範圍為 [0, 8000]\n",
    "plt.axis([-1, 5, 0, 8000])\n",
    "for i in index:\n",
    "    plt.text(i - 0.2, values[i] + 200, values[i])\n",
    "    # x(水平位置), y(垂直位置), 內容\n",
    "plt.show()"
   ]
  },
  {
   "cell_type": "markdown",
   "metadata": {},
   "source": [
    "##### 除法計算與小數處理\n",
    "1. python是使用round(), 4捨5入\n",
    "2. np.around() numpy的4捨5入\n",
    "3. np.around(array,decimals)方法代表您要將幅點數資料整數位取四捨五入到第幾個位置，小數位取最接近的偶數，這個方法內需要兩個參數:\n",
    "    - array:進行分析的陣列。\n",
    "    - decimals小數位數:\n",
    "        - 預設為0。\n",
    "        - 如果為正數，代表小數位數有幾個位子。\n",
    "        - 如果為負數，代表小數點左邊的正整數將依序四捨五入進位。"
   ]
  },
  {
   "cell_type": "code",
   "execution_count": 64,
   "metadata": {},
   "outputs": [
    {
     "data": {
      "text/plain": [
       "'\\narray([  0.,   0., 100.,   0.,   0.])\\n'"
      ]
     },
     "execution_count": 64,
     "metadata": {},
     "output_type": "execute_result"
    }
   ],
   "source": [
    "# 除法計算與小數處理\n",
    "\n",
    "import numpy as np\n",
    "\n",
    "a = np.array([1.0, 5.45, 123, 0.567, 25.532])\n",
    "a\n",
    "\"\"\"\n",
    "array([  1.   ,   5.45 , 123.   ,   0.567,  25.532])\n",
    "\"\"\"\n",
    "\n",
    "np.around(a)  # 將a中元素四捨五入到整數\n",
    "\"\"\"\n",
    "array([  1.,   5., 123.,   1.,  26.])\n",
    "\"\"\"\n",
    "\n",
    "np.around(a, decimals=1)  # 將a中元素四捨五入到小數點後一位\n",
    "\"\"\"\n",
    "array([  1. ,   5.4, 123. ,   0.6,  25.5])\n",
    "\"\"\"\n",
    "\n",
    "np.around(a, decimals=-1)  # 將a中元素四捨五入到十位 (看後一位)\n",
    "\"\"\"\n",
    "array([  0.,  10., 120.,   0.,  30.])\n",
    "\"\"\"\n",
    "\n",
    "np.around(a, decimals=-2)  # 將a中元素四捨五入到百位 (看後一位)\n",
    "\"\"\"\n",
    "array([  0.,   0., 100.,   0.,   0.])\n",
    "\"\"\""
   ]
  },
  {
   "cell_type": "markdown",
   "metadata": {},
   "source": [
    "##### 計算機浮點數問題\n",
    "1. 對於正好在舍入小數值之間的值，NumPy舍入到最接近的偶數值。 因此，1.5和 2.5捨入後為2.0，-0.5和0.5捨入後為到0.0等。由於IEEE浮點標準中的小數部分 的不精確表示以及當以10的冪進行縮放時產生的誤差。"
   ]
  },
  {
   "cell_type": "code",
   "execution_count": 65,
   "metadata": {},
   "outputs": [
    {
     "data": {
      "text/plain": [
       "array([-0.,  0.])"
      ]
     },
     "execution_count": 65,
     "metadata": {},
     "output_type": "execute_result"
    }
   ],
   "source": [
    "# np.around 函數數值計算\n",
    "\n",
    "import numpy as np\n",
    "np.around([1.5, 2.5], decimals=0)  # 捨入到最接近的偶數值\n",
    "\"\"\"\n",
    "array([2., 2.])\n",
    "\"\"\"\n",
    "\n",
    "np.around([-0.5, 0.5], decimals=0)  # 0.5,-0.5會被捨去,0.6和-0.6不會進位"
   ]
  },
  {
   "cell_type": "markdown",
   "metadata": {},
   "source": [
    "##### 除法計算與小數處理\n",
    "1. np.floor( ) 方法代表回傳「小於」輸入參數的最大整數。\n",
    "2. np.ceil( ) 方法代表回傳「大於」輸入參數的最小整數。"
   ]
  },
  {
   "cell_type": "code",
   "execution_count": 66,
   "metadata": {},
   "outputs": [
    {
     "data": {
      "text/plain": [
       "'\\narray([-1.,  2., -0.,  1., 10.])\\n'"
      ]
     },
     "execution_count": 66,
     "metadata": {},
     "output_type": "execute_result"
    }
   ],
   "source": [
    "# 除法計算與小數處理\n",
    "\n",
    "import numpy as np\n",
    "\n",
    "a = np.array([-1.7, 1.5, -0.2, 0.6, 10])\n",
    "a\n",
    "\"\"\"\n",
    "array([-1.7,  1.5, -0.2,  0.6, 10. ])\n",
    "\"\"\"\n",
    "\n",
    "# 整數值不論向上向下取整都會是其本身，因為已經是整數不須額外取整\n",
    "np.floor(a)  # 向下取整\n",
    "\"\"\"\n",
    "array([-2.,  1., -1.,  0., 10.])\n",
    "\"\"\"\n",
    "\n",
    "np.ceil(a)  # 向上取整\n",
    "\"\"\"\n",
    "array([-1.,  2., -0.,  1., 10.])\n",
    "\"\"\""
   ]
  },
  {
   "cell_type": "markdown",
   "metadata": {},
   "source": [
    "##### 指定與重設\n",
    "1. 一個整數指定\n",
    "2. tuple或list指定\n",
    "3. 重設陣列\n",
    "\n",
    "##### 重設新陣列\n",
    "1. resize 這個動作會依據原本的陣列再設定指定大小的新陣列。\n",
    "2. resize 動作的參數如下:\n",
    "    - numpy.resize(arr1, shape1)\n",
    "    - arr1:原本的陣列\n",
    "    - shape1:新規劃的大小\n",
    "3. 如果規劃的新陣列比較大，將會重新複製原有陣列的資料，填滿新的儲存格。\n",
    "4. resize這個動作建立新的陣列，而reshape則是依據原有的重新規劃，仍會受到原有陣列影響。\n",
    "\n",
    "##### 陣列初始化與重新規劃\n",
    "- ndarray的size和shape的思維  \n",
    "```\n",
    "    >>> a = np.arange(12)  \n",
    "    >>> a  \n",
    "    array([ 0,  1,  2,  3,  4,  5,  6,  7,  8,  9, 10, 11])  \n",
    "    >>> a.size  \n",
    "    12\n",
    "```\n",
    "![array](./c1.png)\n",
    "\n",
    "```\n",
    "    >>> a.shape\n",
    "    (12,)\n",
    "```\n",
    "![shape](./c2.png)\n",
    "\n",
    "```\n",
    "    >>> b = a.reshape((3, 4))\n",
    "```\n",
    "![reshape](./c3.png)\n",
    "\n",
    "```\n",
    "    >>> b[2,1]\n",
    "    9\n",
    "\n",
    "    >>> c = a.reshape((3, 4), order='F')\n",
    "```\n",
    "![reshape(,order)](./c4.png)\n",
    "\n",
    "```\n",
    "    >>> c[2,1]\n",
    "    5\n",
    "\n",
    "    >>> d = a.reshape((12, 1))\n",
    "```\n",
    "![reshape](./c5.png)\n",
    "\n",
    "```\n",
    "    >>> d[10, 0]\n",
    "    10\n",
    "\n",
    "    >>> e = a.reshape((1, 2, 1, 6, 1))\n",
    "```\n",
    "![reshape()](./c6.png)\n",
    "\n",
    "```\n",
    "    >>> e[0, 1, 0, 0, 0]\n",
    "    6\n",
    "```"
   ]
  },
  {
   "cell_type": "markdown",
   "metadata": {},
   "source": [
    "##### 針對初始化這部分提供了多種方式:\n",
    "- 不做初始化 - 例如:np.empty((2,4))\n",
    "- 全部規劃為 0 - 例如:np.zeros((3,4))\n",
    "- 全部規劃為 1 - 例如: np.ones((5,2))\n",
    "- 全部規劃/填滿為某數，例如 6 - 例如: np.full((3,3),6)\n",
    "- 建立對角矩陣，對角皆為 1，其他為 0 - 例如: np.eye(3)\n",
    "- 建立對角矩陣，對角為 1,2,3,4，其他為 0 - 例如: np.diag([1,2,3,4])\n",
    "- reshape((x,y)) 這個指令就可以將現有的陣列重新規劃為 x 乘以 y 的陣列。\n",
    "- np.arange(起始值, 結束值, 固定間隔):也是產生一維陣列，和 np.array( ) 的差別在於 arange 擁有較大的彈性，而且元素數值是自 動化產生。\n",
    "- np.linspace(起始值, 結束值, 起始與結束的區間內要產生幾個元素 ): 只要給定陣列的區間(起始值、結束值)，就可以要求在這個區間內產 生幾個元素。\n",
    "- arange(a,b,c) - 不包含 b 由 a 開始 以固定間隔 c 來取值\n",
    "- linspace(a,b,c,) - 包含 b 由 a 開始 切割成 c 個資料\n",
    "- linspace(a,b,c,endpoint=False) - 不包含 b 由 a 開始 切割成 c 個資料"
   ]
  },
  {
   "cell_type": "code",
   "execution_count": 67,
   "metadata": {},
   "outputs": [
    {
     "name": "stdout",
     "output_type": "stream",
     "text": [
      "(12,)\n",
      "(2, 6)\n",
      "(4, 3)\n",
      "(2, 3, 2)\n"
     ]
    },
    {
     "data": {
      "text/plain": [
       "'\\n(2, 3, 2)\\n8\\n'"
      ]
     },
     "execution_count": 67,
     "metadata": {},
     "output_type": "execute_result"
    }
   ],
   "source": [
    "# 畫圖\n",
    "# reshape()\n",
    "# reshape(shape) -> 重新組織數組元素以改變形狀的函數,但不會改變原始數組的數據,如果新形狀無法容納原始數組所有元素,會引發錯誤\n",
    "import numpy as np\n",
    "\n",
    "# list\n",
    "list1 = list(range(12))  # 產生一包含0到11的整數列表\n",
    "# list1 # [0, 1, 2, 3, 4, 5, 6, 7, 8, 9, 10, 11]\n",
    "list1[8]\n",
    "\"\"\"\n",
    "8\n",
    "\"\"\"\n",
    "\n",
    "# ndArray\n",
    "ndArray12_ = np.array(list1)  # 將list -> ndarray\n",
    "print(ndArray12_.shape)  # 輸出數組形狀\n",
    "ndArray12_[8,]  # 與ndArray12_[8]相同,在一維情況下可簡化ndArray12_[8],多維可指定\n",
    "\"\"\"\n",
    "(12,)  # 表示是一個包含12元素的一維數組\n",
    "8\n",
    "\"\"\"\n",
    "\n",
    "# ndArray\n",
    "ndArray2_6 = ndArray12_.reshape((2, 6))  # 將一維數組reshape為二維數組(2x6)\n",
    "# ndArray2_6  # array([[ 0,  1,  2,  3,  4,  5], [ 6,  7,  8,  9, 10, 11]])\n",
    "print(ndArray2_6.shape)\n",
    "ndArray2_6[1, 2]\n",
    "\"\"\"\n",
    "(2, 6)\n",
    "8\n",
    "\"\"\"\n",
    "\n",
    "# ndArray\n",
    "ndArray4_3 = ndArray12_.reshape((4, 3))  # 將一維數組reshape為二維數組(4x3)\n",
    "# ndArray4_3  # array([[ 0,  1,  2], [ 3,  4,  5], [ 6,  7,  8], [ 9, 10, 11]])\n",
    "print(ndArray4_3.shape)\n",
    "ndArray4_3[2, 2]\n",
    "\"\"\"\n",
    "(4, 3)\n",
    "8\n",
    "\"\"\"\n",
    "\n",
    "# ndArray\n",
    "ndArray2_3_2 = ndArray12_.reshape((2, 3, 2))  # 將一維數組reshape為三維數組(ex:一矩陣有兩層,每層包一3x2矩陣)\n",
    "# ndArray2_3_2  # array([[[ 0,  1], [ 2,  3], [ 4,  5]], [[ 6,  7], [ 8,  9], [10, 11]]])\n",
    "print(ndArray2_3_2.shape)\n",
    "ndArray2_3_2[1, 1, 0]\n",
    "\"\"\"\n",
    "(2, 3, 2)\n",
    "8\n",
    "\"\"\""
   ]
  },
  {
   "cell_type": "code",
   "execution_count": 68,
   "metadata": {},
   "outputs": [
    {
     "data": {
      "text/plain": [
       "'\\n(2, 3)\\n'"
      ]
     },
     "execution_count": 68,
     "metadata": {},
     "output_type": "execute_result"
    }
   ],
   "source": [
    "# resize()\n",
    "# resize(a, new_shape) -> 更改數組形狀,可以改變數組大小,如果新形狀無法容納原始數組所有元素,resize將重複數組元素以適應新形狀\n",
    "import numpy as np\n",
    "a = np.array([[1, 2, 3], [4, 5, 6]])\n",
    "a\n",
    "\"\"\"\n",
    "array([[1, 2, 3],\n",
    "       [4, 5, 6]])\n",
    "\"\"\"\n",
    "\n",
    "a.shape\n",
    "\"\"\"\n",
    "(2, 3)\n",
    "\"\"\"\n",
    "\n",
    "b = np.resize(a, (3, 2))\n",
    "b\n",
    "\"\"\"\n",
    "array([[1, 2],\n",
    "       [3, 4],\n",
    "       [5, 6]])\n",
    "\"\"\"\n",
    "\n",
    "b.shape\n",
    "\"\"\"\n",
    "(3, 2)\n",
    "\"\"\"\n",
    "\n",
    "a[0, 1] = 100\n",
    "# a  # array([[  1, 100,   3], [  4,   5,   6]])\n",
    "b\n",
    "\"\"\"\n",
    "array([[1, 2],\n",
    "       [3, 4],\n",
    "       [5, 6]])\n",
    "\"\"\"\n",
    "\n",
    "b.shape\n",
    "\"\"\"\n",
    "(3, 2)\n",
    "\"\"\"\n",
    "\n",
    "a.shape\n",
    "\"\"\"\n",
    "(2, 3)\n",
    "\"\"\""
   ]
  },
  {
   "cell_type": "markdown",
   "metadata": {},
   "source": [
    "##### 基本索引和分割"
   ]
  },
  {
   "cell_type": "code",
   "execution_count": 69,
   "metadata": {},
   "outputs": [
    {
     "data": {
      "text/plain": [
       "'\\narray([ 0,  1,  2,  3,  4, 12, 12, 12,  8,  9])\\n'"
      ]
     },
     "execution_count": 69,
     "metadata": {},
     "output_type": "execute_result"
    }
   ],
   "source": [
    "# 1維陣列的index and slice\n",
    "\n",
    "arr = np.arange(10)\n",
    "arr\n",
    "\"\"\"\n",
    "array([0, 1, 2, 3, 4, 5, 6, 7, 8, 9])\n",
    "\"\"\"\n",
    "\n",
    "arr[5]\n",
    "\"\"\"\n",
    "5\n",
    "\"\"\"\n",
    "\n",
    "arr[5:8]\n",
    "\"\"\"\n",
    "array([5, 6, 7])\n",
    "\"\"\"\n",
    "\n",
    "arr[5:8] = 12\n",
    "arr\n",
    "\"\"\"\n",
    "array([ 0,  1,  2,  3,  4, 12, 12, 12,  8,  9])\n",
    "\"\"\""
   ]
  },
  {
   "cell_type": "code",
   "execution_count": 70,
   "metadata": {},
   "outputs": [
    {
     "data": {
      "text/plain": [
       "'\\narray([64, 64, 64])\\n'"
      ]
     },
     "execution_count": 70,
     "metadata": {},
     "output_type": "execute_result"
    }
   ],
   "source": [
    "# array slice are views\n",
    "\n",
    "arr = np.arange(10)\n",
    "arr_slice = arr[5:8]\n",
    "arr_slice\n",
    "\"\"\"\n",
    "array([5, 6, 7])\n",
    "\"\"\"\n",
    "\n",
    "arr_slice[1] = 12345\n",
    "arr\n",
    "\"\"\"\n",
    "array([    0,     1,     2,     3,     4,     5, 12345,     7,     8,\n",
    " 9])\n",
    "\"\"\"\n",
    "\n",
    "arr_slice[:] = 64\n",
    "arr\n",
    "\"\"\"\n",
    "array([ 0,  1,  2,  3,  4, 64, 64, 64,  8,  9])\n",
    "\"\"\"\n",
    "\n",
    "# 明確指定copy一份\n",
    "arr[5:8].copy()\n",
    "\"\"\"\n",
    "array([64, 64, 64])\n",
    "\"\"\""
   ]
  },
  {
   "cell_type": "markdown",
   "metadata": {},
   "source": [
    "![](./b1.png)\n",
    "![](./b2.png)"
   ]
  },
  {
   "cell_type": "code",
   "execution_count": 71,
   "metadata": {},
   "outputs": [
    {
     "data": {
      "text/plain": [
       "'\\n3\\n'"
      ]
     },
     "execution_count": 71,
     "metadata": {},
     "output_type": "execute_result"
    }
   ],
   "source": [
    "# 2維陣列index 和 slice\n",
    "arr2d = np.array([[1, 2, 3], [4, 5, 6], [7, 8, 9]])\n",
    "arr2d[2]\n",
    "\"\"\"\n",
    "array([7, 8, 9])\n",
    "\"\"\"\n",
    "\n",
    "# 第一維為列,第二維為欄\n",
    "arr2d[0][2]\n",
    "\"\"\"\n",
    "3\n",
    "\"\"\"\n",
    "\n",
    "# 使用「,」號\n",
    "arr2d[0, 2]\n",
    "\"\"\"\n",
    "3\n",
    "\"\"\""
   ]
  },
  {
   "cell_type": "code",
   "execution_count": 72,
   "metadata": {},
   "outputs": [
    {
     "data": {
      "text/plain": [
       "'\\narray([7, 8, 9])\\n'"
      ]
     },
     "execution_count": 72,
     "metadata": {},
     "output_type": "execute_result"
    }
   ],
   "source": [
    "# 3維陣列\n",
    "# 2*2*3\n",
    "\n",
    "arr3d = np.array([[[1, 2, 3], [4, 5, 6]], [[7, 8, 9], [10, 11, 12]]])\n",
    "arr3d\n",
    "\"\"\"\n",
    "array([[[ 1,  2,  3],\n",
    "        [ 4,  5,  6]],\n",
    "\n",
    "       [[ 7,  8,  9],\n",
    "        [10, 11, 12]]])\n",
    "\"\"\"\n",
    "\n",
    "arr3d[0]\n",
    "\"\"\"\n",
    "array([[1, 2, 3],\n",
    "       [4, 5, 6]])\n",
    "\"\"\"\n",
    "\n",
    "old_values = arr3d[0].copy()\n",
    "arr3d[0] = 42\n",
    "arr3d[0]\n",
    "\"\"\"\n",
    "array([[42, 42, 42],\n",
    "       [42, 42, 42]])\n",
    "\"\"\"\n",
    "\n",
    "arr3d[0] = old_values\n",
    "# arr3d[0]  # array([[1, 2, 3], [4, 5, 6]])\n",
    "arr3d\n",
    "\"\"\"\n",
    "array([[[ 1,  2,  3],\n",
    "        [ 4,  5,  6]],\n",
    "\n",
    "       [[ 7,  8,  9],\n",
    "        [10, 11, 12]]])\n",
    "\"\"\"\n",
    "\n",
    "arr3d[1, 0]\n",
    "\"\"\"\n",
    "array([7, 8, 9])\n",
    "\"\"\""
   ]
  },
  {
   "cell_type": "code",
   "execution_count": 73,
   "metadata": {},
   "outputs": [
    {
     "data": {
      "text/plain": [
       "'\\narray([[1, 0, 0],\\n       [4, 0, 0],\\n       [7, 8, 9]])\\n'"
      ]
     },
     "execution_count": 73,
     "metadata": {},
     "output_type": "execute_result"
    }
   ],
   "source": [
    "# 陣列切割\n",
    "arr = np.arange(10)\n",
    "arr[1:6]  # 取出索引1到索引5(不包含索引6)\n",
    "\"\"\"\n",
    "array([1, 2, 3, 4, 5])\n",
    "\"\"\"\n",
    "\n",
    "arr2d = np.array([[1, 2, 3], [4, 5, 6], [7, 8, 9]])\n",
    "arr2d[:2]  # 取出索引0到索引1(不包含索引2)\n",
    "\"\"\"\n",
    "array([[1, 2, 3],\n",
    "       [4, 5, 6]])\n",
    "\"\"\"\n",
    "\n",
    "arr2d[:2, 1:]  # 列, 欄  # 取出列:索引0到索引1, 欄:索引1到最後\n",
    "\"\"\"\n",
    "array([[2, 3],\n",
    "       [5, 6]])\n",
    "\"\"\"\n",
    "\n",
    "arr2d[1, :2]  # 列, 欄  # 取出列:索引1, 欄:索引0到索引1\n",
    "\"\"\"\n",
    "array([4, 5])\n",
    "\"\"\"\n",
    "\n",
    "arr2d[:2, 2]  # 列, 欄  # 取出列:索引0到索引1, 欄:索引2\n",
    "\"\"\"\n",
    "array([3, 6])\n",
    "\"\"\"\n",
    "\n",
    "arr2d[:, :1]  # 列, 欄  # 取出列:索引0到最後, 欄:索引0\n",
    "\"\"\"\n",
    "array([[1],\n",
    "       [4],\n",
    "       [7]])\n",
    "\"\"\"\n",
    "\n",
    "arr2d[:2, 1:] = 0  # 列, 欄  # 列:索引0到索引1, 欄:索引1到最後設定為0, 其餘不動\n",
    "arr2d\n",
    "\"\"\"\n",
    "array([[1, 0, 0],\n",
    "       [4, 0, 0],\n",
    "       [7, 8, 9]])\n",
    "\"\"\""
   ]
  },
  {
   "cell_type": "markdown",
   "metadata": {},
   "source": [
    "##### 陣列指定位置取值\n",
    "1. 區隔選取[::C]\n",
    "    - 以1維陣列來說明 x[a:b:c]\n",
    "    - a:選取資料的起始索引\n",
    "    - b:選取資料的結束索引 +1\n",
    "    - c:選取資料間隔，以索引值可以被此值整除的元素，不指定表示1\n",
    "2. 倒敘 [::-1]\n",
    "    - 只是單純的把順序反過來\n",
    "\n",
    "##### 陣列指定位置-給予一個整數\n",
    "1. 關於指定位置 [row,column]\n",
    "2. 假設給予一個整數為 N\n",
    "    - 如果是給固定的 N，那就代表 row 或 column 等於 N。\n",
    "    - 如果是 N:，那就代表 row 或 column 大於等於 N 的區域。\n",
    "    - 如果是:N，那就代表 row 或 column 小於 N 的區域。\n",
    "    - 如果是:，那就代表 row 或 column 是任意欄位。"
   ]
  },
  {
   "cell_type": "code",
   "execution_count": 74,
   "metadata": {},
   "outputs": [
    {
     "data": {
      "text/plain": [
       "'\\narray([[0, 2, 3],\\n       [9, 6, 7],\\n       [8, 4, 6]])\\n'"
      ]
     },
     "execution_count": 74,
     "metadata": {},
     "output_type": "execute_result"
    }
   ],
   "source": [
    "# 陣列指定位置取值\n",
    "\n",
    "import numpy as np\n",
    "a = np.array([[1, 2, 3], [3, 6, 9], [2, 4, 6]])\n",
    "a\n",
    "\"\"\"\n",
    "array([[1, 2, 3],\n",
    "       [3, 6, 9],\n",
    "       [2, 4, 6]])\n",
    "\"\"\"\n",
    "\n",
    "a[0]\n",
    "\"\"\"\n",
    "array([1, 2, 3])\n",
    "\"\"\"\n",
    "\n",
    "a[1, 2]\n",
    "\"\"\"\n",
    "9\n",
    "\"\"\"\n",
    "\n",
    "a[1, 1:3]\n",
    "\"\"\"\n",
    "array([6, 9])\n",
    "\"\"\"\n",
    "\n",
    "a[:, 1]\n",
    "\"\"\"\n",
    "array([2, 6, 4])\n",
    "\"\"\"\n",
    "\n",
    "a[1, 2] = 7\n",
    "a\n",
    "\"\"\"\n",
    "array([[1, 2, 3],\n",
    "       [3, 6, 7],\n",
    "       [2, 4, 6]])\n",
    "\"\"\"\n",
    "\n",
    "a[:, 0] = [0, 9, 8]\n",
    "a\n",
    "\"\"\"\n",
    "array([[0, 2, 3],\n",
    "       [9, 6, 7],\n",
    "       [8, 4, 6]])\n",
    "\"\"\""
   ]
  },
  {
   "cell_type": "code",
   "execution_count": 75,
   "metadata": {},
   "outputs": [
    {
     "data": {
      "text/plain": [
       "'\\narray([ 1, 12, 23, 34, 45])\\n'"
      ]
     },
     "execution_count": 75,
     "metadata": {},
     "output_type": "execute_result"
    }
   ],
   "source": [
    "# 陣列指定位置取值\n",
    "\n",
    "import numpy as np\n",
    "a = np.array(\n",
    "    [\n",
    "        [0, 1, 2, 3, 4, 5],\n",
    "        [10, 11, 12, 13, 14, 15],\n",
    "        [20, 21, 22, 23, 24, 25],\n",
    "        [30, 31, 32, 33, 34, 35],\n",
    "        [40, 41, 42, 43, 44, 45],\n",
    "        [50, 51, 52, 53, 54, 55],\n",
    "    ]\n",
    ")\n",
    "\n",
    "b = a[0, 3:5]\n",
    "b\n",
    "\"\"\"\n",
    "array([3, 4])\n",
    "\"\"\"\n",
    "\n",
    "b.shape  # 傳回tuple,元素數量表示維度,元素數值表示每一維長度,一維陣列則傳回元素數值。\n",
    "\"\"\"\n",
    "(2,)\n",
    "\"\"\"\n",
    "\n",
    "b = a[4:, 4:]\n",
    "b\n",
    "\"\"\"\n",
    "array([[44, 45],\n",
    "       [54, 55]])\n",
    "\"\"\"\n",
    "\n",
    "b.shape\n",
    "\"\"\"\n",
    "(2, 2)\n",
    "\"\"\"\n",
    "\n",
    "b = a[:3, :3]\n",
    "b\n",
    "\"\"\"\n",
    "array([[ 0,  1,  2],\n",
    "       [10, 11, 12],\n",
    "       [20, 21, 22]])\n",
    "\"\"\"\n",
    "\n",
    "b.shape\n",
    "\"\"\"\n",
    "(3, 3)\n",
    "\"\"\"\n",
    "\n",
    "b = a[:, 2]\n",
    "b\n",
    "\"\"\"\n",
    "array([ 2, 12, 22, 32, 42, 52])\n",
    "\"\"\"\n",
    "\n",
    "b.shape  # 傳回tuple\n",
    "\"\"\"\n",
    "(6,)\n",
    "\"\"\"\n",
    "\n",
    "a[(0, 1, 2, 3, 4), (1, 2, 3, 4, 5)]  # 列,行\n",
    "\"\"\"\n",
    "array([ 1, 12, 23, 34, 45])\n",
    "\"\"\""
   ]
  },
  {
   "cell_type": "code",
   "execution_count": 76,
   "metadata": {},
   "outputs": [
    {
     "data": {
      "text/plain": [
       "'\\n(3, 3)\\n'"
      ]
     },
     "execution_count": 76,
     "metadata": {},
     "output_type": "execute_result"
    }
   ],
   "source": [
    "# 陣列指定位置取值\n",
    "\n",
    "import numpy as np\n",
    "a = np.array(\n",
    "    [\n",
    "        [0, 1, 2, 3, 4, 5],\n",
    "        [10, 11, 12, 13, 14, 15],\n",
    "        [20, 21, 22, 23, 24, 25],\n",
    "        [30, 31, 32, 33, 34, 35],\n",
    "        [40, 41, 42, 43, 44, 45],\n",
    "        [50, 51, 52, 53, 54, 55],\n",
    "    ]\n",
    ")\n",
    "\n",
    "b = a[(0, 1, 2, 3, 4), (1, 2, 3, 4, 5)]\n",
    "b\n",
    "\"\"\"\n",
    "array([ 1, 12, 23, 34, 45])\n",
    "\"\"\"\n",
    "\n",
    "b.shape\n",
    "\"\"\"\n",
    "(5,)\n",
    "\"\"\"\n",
    "\n",
    "b = a[3:, [0, 2, 5]]  # 取出列:索引3到最後, 行:索引0,索引2,索引5(每一列)\n",
    "b\n",
    "\"\"\"\n",
    "array([[30, 32, 35],\n",
    "       [40, 42, 45],\n",
    "       [50, 52, 55]])\n",
    "\"\"\"\n",
    "\n",
    "b.shape\n",
    "\"\"\"\n",
    "(3, 3)\n",
    "\"\"\""
   ]
  },
  {
   "cell_type": "markdown",
   "metadata": {},
   "source": [
    "##### 補充\n",
    "![](./np%20array.png)"
   ]
  },
  {
   "cell_type": "code",
   "execution_count": 77,
   "metadata": {},
   "outputs": [
    {
     "data": {
      "text/plain": [
       "'\\narray([[1., 1.],\\n       [1., 1.],\\n       [1., 1.],\\n       [1., 1.],\\n       [1., 1.]])\\n'"
      ]
     },
     "execution_count": 77,
     "metadata": {},
     "output_type": "execute_result"
    }
   ],
   "source": [
    "# 陣列初始化與重新規劃\n",
    "\n",
    "import numpy as np\n",
    "x = np.empty((2, 4))  # 建立指定大小的空陣列(值未初始化,可能包含任意值)  # 建立二維空陣列\n",
    "x\n",
    "\"\"\"\n",
    "array([[0.00000000e+000, 0.00000000e+000, 0.00000000e+000,\n",
    "        0.00000000e+000],\n",
    "       [0.00000000e+000, 5.09875747e-321, 8.45604119e-307,\n",
    "        7.23168526e-308]])\n",
    "\"\"\"\n",
    "\n",
    "x = np.zeros((3, 4))  # 建立每個元素數值為0的陣列\n",
    "x\n",
    "\"\"\"\n",
    "array([[0., 0., 0., 0.],\n",
    "       [0., 0., 0., 0.],\n",
    "       [0., 0., 0., 0.]])\n",
    "\"\"\"\n",
    "\n",
    "c = np.ones((5, 2))  # 建立每個元素數值為1的陣列\n",
    "c\n",
    "\"\"\"\n",
    "array([[1., 1.],\n",
    "       [1., 1.],\n",
    "       [1., 1.],\n",
    "       [1., 1.],\n",
    "       [1., 1.]])\n",
    "\"\"\""
   ]
  },
  {
   "cell_type": "code",
   "execution_count": 78,
   "metadata": {},
   "outputs": [
    {
     "data": {
      "text/plain": [
       "'\\narray([[1, 0, 0, 0],\\n       [0, 2, 0, 0],\\n       [0, 0, 3, 0],\\n       [0, 0, 0, 4]])\\n'"
      ]
     },
     "execution_count": 78,
     "metadata": {},
     "output_type": "execute_result"
    }
   ],
   "source": [
    "# 陣列初始化與重新規劃\n",
    "\n",
    "import numpy as np\n",
    "x = np.eye(3)  # 建立對角線元素值為1,其餘為0的陣列\n",
    "x\n",
    "\"\"\"\n",
    "array([[1., 0., 0.],\n",
    "       [0., 1., 0.],\n",
    "       [0., 0., 1.]])\n",
    "\"\"\"\n",
    "\n",
    "x = np.diag([1, 2, 3, 4])  # 設定對角線元素的值,其他元素值為0的陣列\n",
    "x\n",
    "\"\"\"\n",
    "array([[1, 0, 0, 0],\n",
    "       [0, 2, 0, 0],\n",
    "       [0, 0, 3, 0],\n",
    "       [0, 0, 0, 4]])\n",
    "\"\"\""
   ]
  },
  {
   "cell_type": "code",
   "execution_count": 79,
   "metadata": {},
   "outputs": [
    {
     "data": {
      "text/plain": [
       "'\\narray([[0, 1],\\n       [2, 3],\\n       [4, 5],\\n       [6, 7]])\\n'"
      ]
     },
     "execution_count": 79,
     "metadata": {},
     "output_type": "execute_result"
    }
   ],
   "source": [
    "# 陣列初始化與重新規劃\n",
    "\n",
    "import numpy as np\n",
    "x = np.linspace(1, 10, 6).reshape(\n",
    "    (3, 2)\n",
    ")  # linspace -> 建立兩數值間,指定數量的等差連續資料陣列, reshape -> 改變數組形狀  # linspace(起始,結束,數量,endpoint:True包含結束(預設)|False不包含,retstep:True產生資料顯示間距|False不顯示(預設),dtype:資料型態,可以指定|None根據輸入推斷)\n",
    "x\n",
    "\"\"\"\n",
    "array([[ 1. ,  2.8],\n",
    "       [ 4.6,  6.4],\n",
    "       [ 8.2, 10. ]])\n",
    "\"\"\"\n",
    "\n",
    "x = np.linspace(1, 10, 6).reshape((2, 3))\n",
    "x\n",
    "\"\"\"\n",
    "array([[ 1. ,  2.8,  4.6],\n",
    "       [ 6.4,  8.2, 10. ]])\n",
    "\"\"\"\n",
    "\n",
    "x = np.arange(8).reshape((2, 4))\n",
    "x\n",
    "\"\"\"\n",
    "array([[0, 1, 2, 3],\n",
    "       [4, 5, 6, 7]])\n",
    "\"\"\"\n",
    "\n",
    "x = np.arange(8).reshape((4, 2))\n",
    "x\n",
    "\"\"\"\n",
    "array([[0, 1],\n",
    "       [2, 3],\n",
    "       [4, 5],\n",
    "       [6, 7]])\n",
    "\"\"\""
   ]
  },
  {
   "cell_type": "code",
   "execution_count": 80,
   "metadata": {},
   "outputs": [
    {
     "name": "stdout",
     "output_type": "stream",
     "text": [
      "r1=> [25.  25.5 26.  26.5 27.  27.5 28.  28.5 29.  29.5]\n"
     ]
    }
   ],
   "source": [
    "\"\"\"\n",
    "請問以下的程式執行後,例印出來的最後一個值是多少?(2)\n",
    "import numpy as np\n",
    "r1 = np.arange(25, 30, .5) \n",
    "print(\"r1=>\",r1)\n",
    "(1) 30\n",
    "(2) 29.5\n",
    "(3) 25\n",
    "(4) 27\n",
    "\"\"\"\n",
    "\n",
    "import numpy as np\n",
    "r1 = np.arange(25, 30, .5)  # 建立兩個數值間,指定間距的等差連續資料的陣列  # arange(起始,結束,間距(選填),dtype資料型態(選填))\n",
    "print(\"r1=>\",r1)"
   ]
  },
  {
   "cell_type": "code",
   "execution_count": 81,
   "metadata": {},
   "outputs": [
    {
     "name": "stdout",
     "output_type": "stream",
     "text": [
      "r1=> [3.   3.25 3.5  3.75 4.   4.25 4.5  4.75 5.  ]\n"
     ]
    }
   ],
   "source": [
    "\"\"\"\n",
    "請問以下的程式執行後,例印出來的最後一個值是多少?(4)\n",
    "import numpy as np\n",
    "lin = np.linspace(3, 5, 9) \n",
    "print(\"r1=>\",lin)\n",
    "(1) 9\n",
    "(2) 8.5\n",
    "(3) 8\n",
    "(4) 5\n",
    "\"\"\"\n",
    "\n",
    "import numpy as np\n",
    "lin = np.linspace(3, 5, 9)  # linspace(起始,結束,數量)\n",
    "print(\"r1=>\",lin)"
   ]
  },
  {
   "cell_type": "code",
   "execution_count": 82,
   "metadata": {},
   "outputs": [
    {
     "data": {
      "text/plain": [
       "'\\narray([5, 1, 1, 9, 1])\\n'"
      ]
     },
     "execution_count": 82,
     "metadata": {},
     "output_type": "execute_result"
    }
   ],
   "source": [
    "# 陣列初始化與重新規劃\n",
    "\n",
    "import numpy as np\n",
    "a = np.array([6, 7, 8, 9])\n",
    "a\n",
    "\"\"\"\n",
    "array([6, 7, 8, 9])\n",
    "\"\"\"\n",
    "\n",
    "b = np.arange(4)  # 建立兩個數值間,指定間距的等差連續資料的陣列  # arange(起始(預設0),結束,間距(預設1),dtype資料型態(選填))\n",
    "b\n",
    "\"\"\"\n",
    "array([0, 1, 2, 3])\n",
    "\"\"\"\n",
    "\n",
    "c = a - b\n",
    "c\n",
    "\"\"\"\n",
    "array([6, 6, 6, 6])\n",
    "\"\"\"\n",
    "\n",
    "d = b**2\n",
    "d\n",
    "\"\"\"\n",
    "array([0, 1, 4, 9])\n",
    "\"\"\"\n",
    "\n",
    "f = np.array([5, -1, 3, 9, 0])\n",
    "f[f <= 3] = 1  # 將小於等於3的元素都設定為1\n",
    "f\n",
    "\"\"\"\n",
    "array([5, 1, 1, 9, 1])\n",
    "\"\"\""
   ]
  },
  {
   "cell_type": "code",
   "execution_count": 83,
   "metadata": {},
   "outputs": [
    {
     "name": "stdout",
     "output_type": "stream",
     "text": [
      "[ 8  9 10 11]\n"
     ]
    }
   ],
   "source": [
    "\"\"\"\n",
    "請問以下的程式執行後,列印的值是那一個?(3)\n",
    "import numpy as np\n",
    "a = np.array( [6, 7, 8, 9] ) \n",
    "a += 2\n",
    "print(a)\n",
    "(1) [2 8 9 10 11]\n",
    "(2) [8 9 10 11 2]\n",
    "(3) [8 9 10 11]\n",
    "(4) [6 7 8 9 6 7 8 9]\n",
    "\"\"\"\n",
    "\n",
    "import numpy as np\n",
    "\n",
    "a = np.array([6, 7, 8, 9])\n",
    "a += 2\n",
    "print(a)"
   ]
  },
  {
   "cell_type": "markdown",
   "metadata": {},
   "source": [
    "##### 列,欄對調"
   ]
  },
  {
   "cell_type": "code",
   "execution_count": 84,
   "metadata": {},
   "outputs": [
    {
     "data": {
      "text/plain": [
       "'\\narray([[ 0,  5, 10],\\n       [ 1,  6, 11],\\n       [ 2,  7, 12],\\n       [ 3,  8, 13],\\n       [ 4,  9, 14]])\\n'"
      ]
     },
     "execution_count": 84,
     "metadata": {},
     "output_type": "execute_result"
    }
   ],
   "source": [
    "# 使用.T\n",
    "\n",
    "arr = np.arange(15).reshape((3, 5))\n",
    "arr\n",
    "\"\"\"\n",
    "array([[ 0,  1,  2,  3,  4],\n",
    "       [ 5,  6,  7,  8,  9],\n",
    "       [10, 11, 12, 13, 14]])\n",
    "\"\"\"\n",
    "\n",
    "arr.T  # (5, 3)\n",
    "\"\"\"\n",
    "array([[ 0,  5, 10],\n",
    "       [ 1,  6, 11],\n",
    "       [ 2,  7, 12],\n",
    "       [ 3,  8, 13],\n",
    "       [ 4,  9, 14]])\n",
    "\"\"\""
   ]
  },
  {
   "cell_type": "markdown",
   "metadata": {},
   "source": [
    "##### Boolean的索引"
   ]
  },
  {
   "cell_type": "code",
   "execution_count": 85,
   "metadata": {},
   "outputs": [
    {
     "data": {
      "text/plain": [
       "'\\narray([[7.        , 7.        , 7.        , 7.        ],\\n       [0.        , 0.        , 0.7549518 , 0.        ],\\n       [7.        , 7.        , 7.        , 7.        ],\\n       [7.        , 7.        , 7.        , 7.        ],\\n       [7.        , 7.        , 7.        , 7.        ],\\n       [0.48878137, 1.76977953, 0.9279239 , 0.2523993 ],\\n       [0.        , 0.70798432, 0.99282518, 0.11312375]])\\n'"
      ]
     },
     "execution_count": 85,
     "metadata": {},
     "output_type": "execute_result"
    }
   ],
   "source": [
    "names = np.array([\"Bob\", \"Joe\", \"Will\", \"Bob\", \"Will\", \"Joe\", \"Joe\"])\n",
    "data = np.random.randn(7, 4)  # 建立陣列,元素由常態分布亂數生成的值(執行會有不同結果)\n",
    "names\n",
    "\"\"\"\n",
    "array(['Bob', 'Joe', 'Will', 'Bob', 'Will', 'Joe', 'Joe'], dtype='<U4')\n",
    "\"\"\"\n",
    "\n",
    "data\n",
    "\"\"\"\n",
    "array([[-1.60657706, -1.1956437 ,  0.9975239 , -0.44961328],\n",
    "       [-0.08148823, -1.72756749,  0.7549518 , -2.18675546],\n",
    "       [ 0.5487892 , -0.90741172,  0.21308406, -0.98257009],\n",
    "       [ 0.22114213,  0.9378648 , -1.21522707, -0.28554256],\n",
    "       [ 1.68107848, -0.06847471,  0.10527923,  0.6431025 ],\n",
    "       [ 0.48878137,  1.76977953,  0.9279239 ,  0.2523993 ],\n",
    "       [-0.22354078,  0.70798432,  0.99282518,  0.11312375]])\n",
    "\"\"\"\n",
    "\n",
    "names == \"Bob\"\n",
    "\"\"\"\n",
    "array([ True, False, False,  True, False, False, False])\n",
    "\"\"\"\n",
    "\n",
    "names.shape\n",
    "\"\"\"\n",
    "(7,)\n",
    "\"\"\"\n",
    "\n",
    "data[names == \"Bob\"]  # 輸出滿足names == \"Bob\"的列的值\n",
    "\"\"\"\n",
    "array([[-1.60657706, -1.1956437 ,  0.9975239 , -0.44961328],\n",
    "       [ 0.22114213,  0.9378648 , -1.21522707, -0.28554256]])\n",
    "\"\"\"\n",
    "\n",
    "data[names == \"Bob\", 2:]\n",
    "\"\"\"\n",
    "array([[ 0.9975239 , -0.44961328],\n",
    "       [-1.21522707, -0.28554256]])\n",
    "\"\"\"\n",
    "\n",
    "data[names == \"Bob\", 3]\n",
    "\"\"\"\n",
    "array([-0.44961328, -0.28554256])\n",
    "\"\"\"\n",
    "\n",
    "names != \"Bob\"\n",
    "\"\"\"\n",
    "array([False,  True,  True, False,  True,  True,  True])\n",
    "\"\"\"\n",
    "\n",
    "mask = (names == \"Bob\") | (names == \"Will\")\n",
    "mask\n",
    "\"\"\"\n",
    "array([ True, False,  True,  True,  True, False, False])\n",
    "\"\"\"\n",
    "\n",
    "data[mask]\n",
    "\"\"\"\n",
    "array([[-1.60657706, -1.1956437 ,  0.9975239 , -0.44961328],\n",
    "       [ 0.5487892 , -0.90741172,  0.21308406, -0.98257009],\n",
    "       [ 0.22114213,  0.9378648 , -1.21522707, -0.28554256],\n",
    "       [ 1.68107848, -0.06847471,  0.10527923,  0.6431025 ]])\n",
    "\"\"\"\n",
    "\n",
    "data[data < 0] = 0\n",
    "data\n",
    "\"\"\"\n",
    "array([[0.        , 0.        , 0.9975239 , 0.        ],\n",
    "       [0.        , 0.        , 0.7549518 , 0.        ],\n",
    "       [0.5487892 , 0.        , 0.21308406, 0.        ],\n",
    "       [0.22114213, 0.9378648 , 0.        , 0.        ],\n",
    "       [1.68107848, 0.        , 0.10527923, 0.6431025 ],\n",
    "       [0.48878137, 1.76977953, 0.9279239 , 0.2523993 ],\n",
    "       [0.        , 0.70798432, 0.99282518, 0.11312375]])\n",
    "\"\"\"\n",
    "\n",
    "data[names != \"Joe\"] = 7\n",
    "data\n",
    "\"\"\"\n",
    "array([[7.        , 7.        , 7.        , 7.        ],\n",
    "       [0.        , 0.        , 0.7549518 , 0.        ],\n",
    "       [7.        , 7.        , 7.        , 7.        ],\n",
    "       [7.        , 7.        , 7.        , 7.        ],\n",
    "       [7.        , 7.        , 7.        , 7.        ],\n",
    "       [0.48878137, 1.76977953, 0.9279239 , 0.2523993 ],\n",
    "       [0.        , 0.70798432, 0.99282518, 0.11312375]])\n",
    "\"\"\""
   ]
  },
  {
   "cell_type": "markdown",
   "metadata": {},
   "source": [
    "##### 全域函式(Universal Functions)"
   ]
  },
  {
   "cell_type": "code",
   "execution_count": 86,
   "metadata": {},
   "outputs": [
    {
     "data": {
      "text/plain": [
       "'\\narray([1.00000000e+00, 2.71828183e+00, 7.38905610e+00, 2.00855369e+01,\\n       5.45981500e+01, 1.48413159e+02, 4.03428793e+02, 1.09663316e+03,\\n       2.98095799e+03, 8.10308393e+03])\\n'"
      ]
     },
     "execution_count": 86,
     "metadata": {},
     "output_type": "execute_result"
    }
   ],
   "source": [
    "# universal functions\n",
    "# np.sqrt()\n",
    "# np.exp()\n",
    "\n",
    "arr = np.arange(10)  # 產生一維陣列(0-9)\n",
    "arr\n",
    "\"\"\"\n",
    "array([0, 1, 2, 3, 4, 5, 6, 7, 8, 9])\n",
    "\"\"\"\n",
    "\n",
    "np.sqrt(arr)  # 傳回每個元素的平方根\n",
    "\"\"\"\n",
    "array([0.        , 1.        , 1.41421356, 1.73205081, 2.        ,\n",
    "       2.23606798, 2.44948974, 2.64575131, 2.82842712, 3.        ])\n",
    "\"\"\"\n",
    "\n",
    "np.exp(arr)  # 傳回每個元素的指數值e^arr\n",
    "\"\"\"\n",
    "array([1.00000000e+00, 2.71828183e+00, 7.38905610e+00, 2.00855369e+01,\n",
    "       5.45981500e+01, 1.48413159e+02, 4.03428793e+02, 1.09663316e+03,\n",
    "       2.98095799e+03, 8.10308393e+03])\n",
    "\"\"\""
   ]
  },
  {
   "cell_type": "code",
   "execution_count": 87,
   "metadata": {},
   "outputs": [
    {
     "data": {
      "text/plain": [
       "'\\narray([-0.30734183,  0.75254064,  0.55884759,  0.37144463, -0.74422693,\\n        1.78695316, -0.26969209, -1.01365406])\\n'"
      ]
     },
     "execution_count": 87,
     "metadata": {},
     "output_type": "execute_result"
    }
   ],
   "source": [
    "# np.maximum\n",
    "\n",
    "x = np.random.randn(8)\n",
    "y = np.random.randn(8)\n",
    "x\n",
    "\"\"\"\n",
    "array([-0.30734183,  0.75254064,  0.55884759,  0.37144463, -0.76304475,\n",
    "       -0.26034928, -0.40754081, -1.99267609])\n",
    "\"\"\"\n",
    "\n",
    "y\n",
    "\"\"\"\n",
    "array([-3.01711517,  0.22364193, -0.00573674,  0.01989086, -0.74422693,\n",
    "        1.78695316, -0.26969209, -1.01365406])\n",
    "\"\"\"\n",
    "\n",
    "np.maximum(x, y)  # 找出最大值\n",
    "\"\"\"\n",
    "array([-0.30734183,  0.75254064,  0.55884759,  0.37144463, -0.74422693,\n",
    "        1.78695316, -0.26969209, -1.01365406])\n",
    "\"\"\""
   ]
  },
  {
   "cell_type": "code",
   "execution_count": 88,
   "metadata": {},
   "outputs": [
    {
     "data": {
      "text/plain": [
       "'\\narray([ 8., -2., -5., -7.,  1.,  2.,  1.])\\n'"
      ]
     },
     "execution_count": 88,
     "metadata": {},
     "output_type": "execute_result"
    }
   ],
   "source": [
    "# np.modf()\n",
    "\n",
    "arr = np.random.randn(7) * 5  # 產生7個亂數,將所有亂數*5\n",
    "arr\n",
    "\"\"\"\n",
    "array([ 8.31125719, -2.97229991, -5.49715352, -7.27639853,  1.98450029,\n",
    "        2.01708851,  1.51949634])\n",
    "\"\"\"\n",
    "\n",
    "remainder, whole_part = np.modf(arr)  # .modf()會傳回一個包含兩個陣列的元祖,第一個是每個元素的小數部分,第二個陣列是每個元素的整數部分\n",
    "remainder\n",
    "\"\"\"\n",
    "array([ 0.31125719, -0.97229991, -0.49715352, -0.27639853,  0.98450029,\n",
    "        0.01708851,  0.51949634])\n",
    "\"\"\"\n",
    "\n",
    "whole_part\n",
    "\"\"\"\n",
    "array([ 8., -2., -5., -7.,  1.,  2.,  1.])\n",
    "\"\"\""
   ]
  },
  {
   "cell_type": "markdown",
   "metadata": {},
   "source": [
    "##### 陣列的判斷式\n",
    "- np.where()"
   ]
  },
  {
   "cell_type": "code",
   "execution_count": 89,
   "metadata": {},
   "outputs": [
    {
     "data": {
      "text/plain": [
       "'\\narray([1.1, 2.2, 1.3, 1.4, 2.5])\\n'"
      ]
     },
     "execution_count": 89,
     "metadata": {},
     "output_type": "execute_result"
    }
   ],
   "source": [
    "# np.where() 相等於python -> x if condition else y\n",
    "\n",
    "xarr = np.array([1.1, 1.2, 1.3, 1.4, 1.5])\n",
    "yarr = np.array([2.1, 2.2, 2.3, 2.4, 2.5])\n",
    "\n",
    "cond = np.array([True, False, True, True, False])\n",
    "\n",
    "# python comprehension(串列綜合表達式)\n",
    "result = [(x if c else y) for x, y, c in zip(xarr, yarr, cond)]  # x if c else y -> 如果條件c為True則執行x,為flase執行y  for x, y, c in -> 從zip的結果中取出每一組對應位置的元素,分別賦值給x(xarr), y(yarr), c(cond)  zip(xarr, yarr, cond) -> 將三個陣列對應位置元素一一打包一起\n",
    "result\n",
    "\"\"\"\n",
    "[1.1, 2.2, 1.3, 1.4, 2.5]\n",
    "\"\"\"\n",
    "\n",
    "result = np.where(cond, xarr, yarr)  # condition條件,x滿足條件時傳回的值,y不滿足條件時傳回的值\n",
    "result\n",
    "\"\"\"\n",
    "array([1.1, 2.2, 1.3, 1.4, 2.5])\n",
    "\"\"\""
   ]
  },
  {
   "cell_type": "code",
   "execution_count": 90,
   "metadata": {},
   "outputs": [
    {
     "data": {
      "text/plain": [
       "'\\narray([[ 2.        ,  2.        ,  2.        , -0.52309032],\\n       [ 2.        , -1.81944798, -1.69369836, -0.98540211],\\n       [ 2.        , -0.47540191,  2.        , -0.38354053],\\n       [ 2.        ,  2.        ,  2.        , -2.07971373]])\\n'"
      ]
     },
     "execution_count": 90,
     "metadata": {},
     "output_type": "execute_result"
    }
   ],
   "source": [
    "# np.where()\n",
    "\n",
    "arr = np.random.randn(4, 4)\n",
    "arr\n",
    "\"\"\"\n",
    "array([[ 1.47157056,  0.39698292,  0.82847465, -0.52309032],\n",
    "       [ 0.58949976, -1.81944798, -1.69369836, -0.98540211],\n",
    "       [ 1.70125753, -0.47540191,  0.47697719, -0.38354053],\n",
    "       [ 1.78293503,  0.46758852,  0.68395479, -2.07971373]])\n",
    "\"\"\"\n",
    "\n",
    "arr > 0\n",
    "\"\"\"\n",
    "array([[ True,  True,  True, False],\n",
    "       [ True, False, False, False],\n",
    "       [ True, False,  True, False],\n",
    "       [ True,  True,  True, False]])\n",
    "\"\"\"\n",
    "\n",
    "np.where(arr > 0, 2, -2)\n",
    "\"\"\"\n",
    "array([[ 2,  2,  2, -2],\n",
    "       [ 2, -2, -2, -2],\n",
    "       [ 2, -2,  2, -2],\n",
    "       [ 2,  2,  2, -2]])\n",
    "\"\"\"\n",
    "\n",
    "np.where(arr > 0, 2, arr)\n",
    "\"\"\"\n",
    "array([[ 2.        ,  2.        ,  2.        , -0.52309032],\n",
    "       [ 2.        , -1.81944798, -1.69369836, -0.98540211],\n",
    "       [ 2.        , -0.47540191,  2.        , -0.38354053],\n",
    "       [ 2.        ,  2.        ,  2.        , -2.07971373]])\n",
    "\"\"\""
   ]
  },
  {
   "cell_type": "markdown",
   "metadata": {},
   "source": [
    "##### 統計方法\n",
    "1. 總和,最大與最小\n",
    "2. 中位數與平均\n",
    "\n",
    "##### 總和,最大與最小\n",
    "1. np.sum( ) 代表某一個陣列內容的總和,也可以指定這個陣列的哪一軸(axis)內容總和\n",
    "2. np.min( ) 代表某一個陣列內容的最小值,也可以指定這個陣列的哪一軸(axis)內容的最小值\n",
    "3. np.max( ) 代表某一個陣列內容的最大值,也可以指定這個陣列的哪一軸(axis)內容的最大值\n",
    "4. amin 與 min 是相同功能的方法\n",
    "5. amax 與 max 是相同功能的方法"
   ]
  },
  {
   "cell_type": "code",
   "execution_count": 91,
   "metadata": {},
   "outputs": [
    {
     "name": "stdout",
     "output_type": "stream",
     "text": [
      "(10, 5)\n"
     ]
    },
    {
     "data": {
      "text/plain": [
       "'\\n56.4\\n'"
      ]
     },
     "execution_count": 91,
     "metadata": {},
     "output_type": "execute_result"
    }
   ],
   "source": [
    "# mean(), sum(), std()\n",
    "# 10個同學, 每個同學5個分數\n",
    "\n",
    "import numpy as np\n",
    "arr = np.random.randint(50, 101, size=(10, 5))\n",
    "print(arr.shape)\n",
    "arr\n",
    "\"\"\"\n",
    "(10, 5)\n",
    "array([[64, 51, 59, 50, 58],\n",
    "       [79, 72, 87, 50, 63],\n",
    "       [62, 61, 84, 53, 61],\n",
    "       [52, 59, 59, 63, 75],\n",
    "       [57, 86, 99, 74, 76],\n",
    "       [74, 55, 75, 90, 59],\n",
    "       [64, 98, 99, 99, 50],\n",
    "       [51, 63, 73, 97, 57],\n",
    "       [88, 53, 52, 64, 63],\n",
    "       [83, 94, 82, 74, 90]])\n",
    "\"\"\"\n",
    "\n",
    "# 加總sum()\n",
    "arr.sum()\n",
    "\"\"\"\n",
    "3501\n",
    "\"\"\"\n",
    "\n",
    "# 平均mean()\n",
    "arr.mean()\n",
    "\"\"\"\n",
    "70.02\n",
    "\"\"\"\n",
    "\n",
    "# 標準差\n",
    "arr.std()\n",
    "\"\"\"\n",
    "15.418806698314885\n",
    "\"\"\"\n",
    "\n",
    "# 每個學生的總分\n",
    "arr.sum(axis=1)\n",
    "\"\"\"\n",
    "array([282, 351, 321, 308, 392, 353, 410, 341, 320, 423])\n",
    "\"\"\"\n",
    "\n",
    "# 每個學生的平均\n",
    "studentAVG = arr.mean(axis=1)\n",
    "studentAVG\n",
    "\"\"\"\n",
    "array([56.4, 70.2, 64.2, 61.6, 78.4, 70.6, 82. , 68.2, 64. , 84.6])\n",
    "\"\"\"\n",
    "\n",
    "# 全班最高平均\n",
    "studentAVG.max()\n",
    "\"\"\"\n",
    "84.6\n",
    "\"\"\"\n",
    "\n",
    "# 全班最低平均\n",
    "studentAVG.min()\n",
    "\"\"\"\n",
    "56.4\n",
    "\"\"\""
   ]
  },
  {
   "cell_type": "code",
   "execution_count": 92,
   "metadata": {},
   "outputs": [
    {
     "name": "stdout",
     "output_type": "stream",
     "text": [
      "[ 456  896  278  832  940 1265  689]\n"
     ]
    },
    {
     "data": {
      "text/plain": [
       "'\\narray([ 456, 1352, 1630, 2462, 3402, 4667, 5356])\\n'"
      ]
     },
     "execution_count": 92,
     "metadata": {},
     "output_type": "execute_result"
    }
   ],
   "source": [
    "# cumsum()累計\n",
    "# 一星期的收入\n",
    "\n",
    "import numpy as np\n",
    "incomeOfWeek = [456, 896, 278, 832, 940, 1265, 689]\n",
    "weekArr = np.array(incomeOfWeek)\n",
    "print(weekArr)\n",
    "\"\"\"\n",
    "[ 456  896  278  832  940 1265  689]\n",
    "\"\"\"\n",
    "# 每日累計的金額是多少\n",
    "weekArr.cumsum()\n",
    "\"\"\"\n",
    "array([ 456, 1352, 1630, 2462, 3402, 4667, 5356])\n",
    "\"\"\""
   ]
  },
  {
   "cell_type": "code",
   "execution_count": 93,
   "metadata": {},
   "outputs": [
    {
     "data": {
      "text/plain": [
       "'\\narray([[  0,   0,   0],  # [0, 0*1, 0*1*2]\\n       [  3,  12,  60],  # [3, 3*4, 3*4*5]\\n       [  6,  42, 336]])  # [6, 6*7, 6*7*8]\\n'"
      ]
     },
     "execution_count": 93,
     "metadata": {},
     "output_type": "execute_result"
    }
   ],
   "source": [
    "# cumsum()累計\n",
    "\n",
    "arr = np.array([0, 1, 2, 3, 4, 5, 6, 7])\n",
    "arr.cumsum()  # 輸出每個元素是原始數組中該位置和之前所有元素的累積和\n",
    "\"\"\"\n",
    "array([ 0,  1,  3,  6, 10, 15, 21, 28])\n",
    "\"\"\"\n",
    "\n",
    "arr = np.array([[0, 1, 2], [3, 4, 5], [6, 7, 8]])\n",
    "arr\n",
    "\"\"\"\n",
    "array([[0, 1, 2],\n",
    "       [3, 4, 5],\n",
    "       [6, 7, 8]])\n",
    "\"\"\"\n",
    "\n",
    "# 傳回同樣shape\n",
    "arr.cumsum(axis=0)  # axis = 0 -> 沿著垂直方向(欄)進行累加,第一列沒有其他元素在上面,所以都是自己\n",
    "\"\"\"\n",
    "array([[ 0,  1,  2],  # 原始第一列\n",
    "       [ 3,  5,  7],  # 原始第一列加第二列  [0+3, 1+4, 2+5]\n",
    "       [ 9, 12, 15]])  # 原始第一列加第二列加第三列  [0+3+6, 1+4+7, 2+5+8]\n",
    "\"\"\"\n",
    "\n",
    "# 累乘\n",
    "arr.cumprod(axis=1)  # axis = 1 -> 沿著水平方向(列)進行累乘\n",
    "\"\"\"\n",
    "array([[  0,   0,   0],  # [0, 0*1, 0*1*2]\n",
    "       [  3,  12,  60],  # [3, 3*4, 3*4*5]\n",
    "       [  6,  42, 336]])  # [6, 6*7, 6*7*8]\n",
    "\"\"\""
   ]
  },
  {
   "cell_type": "code",
   "execution_count": 94,
   "metadata": {},
   "outputs": [
    {
     "data": {
      "text/plain": [
       "'\\narray([4729,  844, 8590, 7309, 8806, 3590, 7483, 9542, 3367, 6185, 1798,\\n       6089, 2834, 1709, 6069, 1600,  743, 5753, 8450, 6244, 5110, 6518,\\n        190, 5369, 6239, 4270, 3747, 9645, 3445, 1325])\\n'"
      ]
     },
     "execution_count": 94,
     "metadata": {},
     "output_type": "execute_result"
    }
   ],
   "source": [
    "# 1家分店30天的營收\n",
    "\n",
    "oneStore = np.random.randint(100, 10000, size=(30,))  # (30,)一維陣列\n",
    "oneStore\n",
    "\"\"\"\n",
    "array([4729,  844, 8590, 7309, 8806, 3590, 7483, 9542, 3367, 6185, 1798,\n",
    "       6089, 2834, 1709, 6069, 1600,  743, 5753, 8450, 6244, 5110, 6518,\n",
    "        190, 5369, 6239, 4270, 3747, 9645, 3445, 1325])\n",
    "\"\"\""
   ]
  },
  {
   "cell_type": "code",
   "execution_count": 95,
   "metadata": {},
   "outputs": [
    {
     "data": {
      "text/plain": [
       "'\\narray([  4729,   5573,  14163,  21472,  30278,  33868,  41351,  50893,\\n        54260,  60445,  62243,  68332,  71166,  72875,  78944,  80544,\\n        81287,  87040,  95490, 101734, 106844, 113362, 113552, 118921,\\n       125160, 129430, 133177, 142822, 146267, 147592])\\n'"
      ]
     },
     "execution_count": 95,
     "metadata": {},
     "output_type": "execute_result"
    }
   ],
   "source": [
    "# 累計每天這家店的營收\n",
    "# cumsum()\n",
    "\n",
    "oneStoreCum = oneStore.cumsum()\n",
    "oneStoreCum\n",
    "\"\"\"\n",
    "array([  4729,   5573,  14163,  21472,  30278,  33868,  41351,  50893,\n",
    "        54260,  60445,  62243,  68332,  71166,  72875,  78944,  80544,\n",
    "        81287,  87040,  95490, 101734, 106844, 113362, 113552, 118921,\n",
    "       125160, 129430, 133177, 142822, 146267, 147592])\n",
    "\"\"\""
   ]
  },
  {
   "cell_type": "code",
   "execution_count": 96,
   "metadata": {},
   "outputs": [
    {
     "data": {
      "image/png": "[encoded data removed]",
      "text/plain": [
       "<Figure size 1000x500 with 1 Axes>"
      ]
     },
     "metadata": {},
     "output_type": "display_data"
    }
   ],
   "source": [
    "import matplotlib.pyplot as plt\n",
    "\n",
    "fig = plt.figure(figsize=(10, 5))  # 建立一個大小為(10, 5)的畫布\n",
    "ax1 = fig.add_subplot(1, 1, 1)  # 在畫布上添加一個子圖,(nrows子圖總列數, ncols子圖總欄數, index要添加的子圖的位置,按列由左至右、由上到下的順序)\n",
    "ax1.plot(range(1, 31), oneStoreCum, 'r-')  # 畫折線圖,x軸為range(1, 31), y軸為oneStoreCum, 線的顏色為紅色\n",
    "plt.title('one Store shop cumsum')\n",
    "plt.xlabel('day')\n",
    "plt.ylabel('money')\n",
    "plt.show()"
   ]
  },
  {
   "cell_type": "code",
   "execution_count": 97,
   "metadata": {},
   "outputs": [
    {
     "data": {
      "image/png": "[encoded data removed]",
      "text/plain": [
       "<Figure size 1000x500 with 1 Axes>"
      ]
     },
     "metadata": {},
     "output_type": "display_data"
    }
   ],
   "source": [
    "# 單純以plt製圖,不使用subplot\n",
    "\n",
    "import matplotlib.pyplot as plt\n",
    "plt.figure(figsize=(10, 5))\n",
    "plt.plot(range(1, 31), oneStoreCum, 'r-')\n",
    "plt.title('one Store shop cumsum')\n",
    "plt.xlabel('day')\n",
    "plt.ylabel('money')\n",
    "plt.show()"
   ]
  },
  {
   "cell_type": "code",
   "execution_count": 98,
   "metadata": {},
   "outputs": [
    {
     "data": {
      "text/plain": [
       "array([[9620, 7115, 7175, 2049,  916, 7575, 6182, 1095, 8094, 3768, 2574,\n",
       "        6312, 6046, 6343, 3570, 5631, 6624, 7191, 1598, 7986, 7576, 6083,\n",
       "        5387, 7629, 5772, 1832, 5898, 7348, 3165, 3588],\n",
       "       [3650, 2674, 4758,  517, 8183, 7962,  254,  779, 8028, 9968, 1534,\n",
       "        4552, 5235, 5757, 5406,  250, 8475,  751, 5005, 7921, 9056, 2695,\n",
       "        7420, 3739,  860,  639,  362, 7738, 6367, 5692],\n",
       "       [8210, 7675,  419, 4318,  960, 5570,  685, 9617, 9177, 1090, 5518,\n",
       "        6839, 8360, 5125, 9085, 1149, 6020, 8392, 5555, 9721, 1396, 8293,\n",
       "        8411, 7368, 6751, 1741, 3052, 1374, 8643, 4237],\n",
       "       [1108, 2712, 7061,  850, 6346, 2022, 9517, 3582, 8744, 8529, 3088,\n",
       "        8296,  721, 2122, 6987, 5025, 4574, 1838, 8410, 2809, 2350, 8574,\n",
       "        2612, 6286, 5666, 9637, 3989, 7595, 6330, 5612],\n",
       "       [6452, 4793, 3235, 6654, 7011, 8957, 1300, 4509, 8195, 7922, 3423,\n",
       "        2347, 5996, 4361, 8638, 5544,  535, 8040, 8521, 8674, 7145, 5172,\n",
       "        2558, 7078, 1187, 5955, 5839, 6218, 9940, 8216]])"
      ]
     },
     "execution_count": 98,
     "metadata": {},
     "output_type": "execute_result"
    }
   ],
   "source": [
    "# 5家分店30天的營收\n",
    "\n",
    "fiveStore = np.random.randint(100, 10000, size=(5, 30))  # 100-9999, size = (列,欄)\n",
    "fiveStore"
   ]
  },
  {
   "cell_type": "code",
   "execution_count": 99,
   "metadata": {},
   "outputs": [
    {
     "data": {
      "text/plain": [
       "array([[  9620,  16735,  23910,  25959,  26875,  34450,  40632,  41727,\n",
       "         49821,  53589,  56163,  62475,  68521,  74864,  78434,  84065,\n",
       "         90689,  97880,  99478, 107464, 115040, 121123, 126510, 134139,\n",
       "        139911, 141743, 147641, 154989, 158154, 161742],\n",
       "       [  3650,   6324,  11082,  11599,  19782,  27744,  27998,  28777,\n",
       "         36805,  46773,  48307,  52859,  58094,  63851,  69257,  69507,\n",
       "         77982,  78733,  83738,  91659, 100715, 103410, 110830, 114569,\n",
       "        115429, 116068, 116430, 124168, 130535, 136227],\n",
       "       [  8210,  15885,  16304,  20622,  21582,  27152,  27837,  37454,\n",
       "         46631,  47721,  53239,  60078,  68438,  73563,  82648,  83797,\n",
       "         89817,  98209, 103764, 113485, 114881, 123174, 131585, 138953,\n",
       "        145704, 147445, 150497, 151871, 160514, 164751],\n",
       "       [  1108,   3820,  10881,  11731,  18077,  20099,  29616,  33198,\n",
       "         41942,  50471,  53559,  61855,  62576,  64698,  71685,  76710,\n",
       "         81284,  83122,  91532,  94341,  96691, 105265, 107877, 114163,\n",
       "        119829, 129466, 133455, 141050, 147380, 152992],\n",
       "       [  6452,  11245,  14480,  21134,  28145,  37102,  38402,  42911,\n",
       "         51106,  59028,  62451,  64798,  70794,  75155,  83793,  89337,\n",
       "         89872,  97912, 106433, 115107, 122252, 127424, 129982, 137060,\n",
       "        138247, 144202, 150041, 156259, 166199, 174415]])"
      ]
     },
     "execution_count": 99,
     "metadata": {},
     "output_type": "execute_result"
    }
   ],
   "source": [
    "# 累計每天5家店的營收\n",
    "\n",
    "fiveStoreCum = fiveStore.cumsum(axis=1)  # 沿著水平累加\n",
    "fiveStoreCum"
   ]
  },
  {
   "cell_type": "code",
   "execution_count": 100,
   "metadata": {},
   "outputs": [
    {
     "data": {
      "image/png": "[encoded data removed]",
      "text/plain": [
       "<Figure size 1000x500 with 1 Axes>"
      ]
     },
     "metadata": {},
     "output_type": "display_data"
    }
   ],
   "source": [
    "import matplotlib.pyplot as plt\n",
    "\n",
    "fig = plt.figure(figsize = (10, 5))\n",
    "ax1 = fig.add_subplot(1, 1, 1)\n",
    "ax1.plot(range(1, 31), fiveStoreCum[0,], 'r-')  # fiveStoreCum[0,] -> 取得陣列中第一列(處理多維陣列時),(fiveStoreCum[0]也可以)\n",
    "ax1.plot(range(1, 31), fiveStoreCum[1,], 'y-')\n",
    "ax1.plot(range(1, 31), fiveStoreCum[2,], 'g-')\n",
    "ax1.plot(range(1, 31), fiveStoreCum[3,], 'm-')\n",
    "ax1.plot(range(1, 31), fiveStoreCum[4,], 'c-')\n",
    "\n",
    "plt.title('5 Store shop cumsum')\n",
    "plt.xlabel('day')\n",
    "plt.ylabel('money')\n",
    "plt.show()"
   ]
  },
  {
   "cell_type": "code",
   "execution_count": 101,
   "metadata": {},
   "outputs": [
    {
     "data": {
      "text/plain": [
       "'\\narray([ 75, 225])  # [0+30+45, 60+75+90]\\n'"
      ]
     },
     "execution_count": 101,
     "metadata": {},
     "output_type": "execute_result"
    }
   ],
   "source": [
    "# 總和最大與最小\n",
    "\n",
    "import numpy as np\n",
    "a = np.array([[0, 30, 45], [60, 75, 90]])\n",
    "a\n",
    "\"\"\"\n",
    "array([[ 0, 30, 45],\n",
    "       [60, 75, 90]])\n",
    "\"\"\"\n",
    "\n",
    "# 傳回值\n",
    "np.sum(a)  # 對整個陣列進行總和計算\n",
    "\"\"\"\n",
    "300  # 0+30+45+60+75+90\n",
    "\"\"\"\n",
    "\n",
    "# 傳回一個軸\n",
    "# axis -> 指定要進行總和計算的軸,而該軸將被壓縮(collapse) => 降維,保持二維可以使用keepdims=True(a, axis, keepdims=True | False(不保持))\n",
    "np.sum(a, axis=0)  # 對每一欄進行總和計算,輸出一個具有原始陣列欄數的一維陣列\n",
    "\"\"\"\n",
    "array([ 60, 105, 135])  # [0+60, 30+75, 45+90]\n",
    "\"\"\"\n",
    "\n",
    "np.sum(a, axis=1)  # 對每一列進行總和計算,輸出一個具有原始陣列列數的一維陣列\n",
    "\"\"\"\n",
    "array([ 75, 225])  # [0+30+45, 60+75+90]\n",
    "\"\"\""
   ]
  },
  {
   "cell_type": "code",
   "execution_count": 102,
   "metadata": {},
   "outputs": [
    {
     "data": {
      "text/plain": [
       "'\\narray([45, 90])\\n'"
      ]
     },
     "execution_count": 102,
     "metadata": {},
     "output_type": "execute_result"
    }
   ],
   "source": [
    "# 總和最大與最小\n",
    "\n",
    "import numpy as np\n",
    "a = np.array([[0, 30, 45], [60, 75, 90]])\n",
    "a\n",
    "\"\"\"\n",
    "array([[ 0, 30, 45],\n",
    "       [60, 75, 90]])\n",
    "\"\"\"\n",
    "\n",
    "# 傳回值\n",
    "np.max(a)\n",
    "\"\"\"\n",
    "90\n",
    "\"\"\"\n",
    "\n",
    "# 傳回一個軸\n",
    "np.max(a, axis=0)\n",
    "\"\"\"\n",
    "array([60, 75, 90])\n",
    "\"\"\"\n",
    "\n",
    "np.max(a, axis=1)\n",
    "\"\"\"\n",
    "array([45, 90])\n",
    "\"\"\""
   ]
  },
  {
   "cell_type": "markdown",
   "metadata": {},
   "source": [
    "##### 中位數與平均\n",
    "1. median() 方法可取出陣列或陣列中指定的軸之中位數\n",
    "2. 把所有值高低排序後找出正中間的一個作為中位數。如果資料數量為偶數，則中位數取最中間的兩個數值的平均數\n",
    "3. 參數:\n",
    "    - array:陣列\n",
    "    - axis:軸\n",
    "4. mean() 方法可取出陣列或陣列中指定的軸之平均數\n",
    "5. 平均值就是把陣列或指定軸的所有資料除以數量後的數值\n",
    "6. 參數:\n",
    "    - array:陣列\n",
    "    - axis:軸\n",
    "7. average() 方法與mean() 方法相似，但可以加入權重進行計算\n",
    "8. 計算公式為 ((資料*權重)相加)/(權重相加)\n",
    "9. 參數:\n",
    "    - array:陣列\n",
    "    - axis:軸\n",
    "    - weights:權重，若沒有則設定為 1\n",
    "    - returned:若設定為 true，代表返回計算結果與權重相加總合，若沒有設定或設定 false 則只有計算結果\n",
    "10. 沒有指定權重時與一般平均值相同\n",
    "11. 加權平均值是由每個資料乘以權重以反映加上重要性因素後產生的平均值\n",
    "12. average( ) 使用時所沒有指定軸，則陣列將被平坦化\n",
    "13. 假設有個陣列資料為 [1, 2, 3, 4]，相應的權重 [40, 30, 20, 10]，加權平均數是這樣:\n",
    "    - (140+230+320+410)/(40+30+20+10)"
   ]
  },
  {
   "cell_type": "code",
   "execution_count": 103,
   "metadata": {},
   "outputs": [
    {
     "data": {
      "text/plain": [
       "'\\narray([30., 75.])  # 每一列的中位數,即[0, 30, 45], [60, 75, 90]\\n'"
      ]
     },
     "execution_count": 103,
     "metadata": {},
     "output_type": "execute_result"
    }
   ],
   "source": [
    "# 中位數與平均\n",
    "# axis = 0 計算列\n",
    "# axis = 1 計算欄\n",
    "\n",
    "import numpy as np\n",
    "a = np.array([[0, 30, 45], [60, 75, 90]])\n",
    "a\n",
    "\"\"\"\n",
    "array([[ 0, 30, 45],\n",
    "       [60, 75, 90]])\n",
    "\"\"\"\n",
    "\n",
    "# 計算整個陣列的中位數(偶數 -> 取最中間兩個數值的平均數)\n",
    "np.median(a)\n",
    "\"\"\"\n",
    "52.5  # 中位數是排序後的中間值,即[0, 30, 45, 60, 75, 90]((45+60)/2)\n",
    "\"\"\"\n",
    "\n",
    "np.median(a, axis=0)  # 沿著垂直方向計算中位數(偶數 -> 取最中間兩個數值的平均數)\n",
    "\"\"\"\n",
    "array([30. , 52.5, 67.5])  # 每一欄的中位數,即[0, 60], [30, 75], [45, 90]((0+60)/2, (30+75)/2, (45+90)/2)\n",
    "\"\"\"\n",
    "\n",
    "np.median(a, axis=1)  # 沿著水平方向計算中位數(奇數 -> 找正中間的值)\n",
    "\"\"\"\n",
    "array([30., 75.])  # 每一列的中位數,即[0, 30, 45], [60, 75, 90]\n",
    "\"\"\""
   ]
  },
  {
   "cell_type": "code",
   "execution_count": 104,
   "metadata": {},
   "outputs": [
    {
     "data": {
      "text/plain": [
       "'\\narray([25., 75.])  # 每一列的平均值,即[0, 30, 45], [60, 75, 90]((0+30+45)/3, (60+75+90)/3)\\n'"
      ]
     },
     "execution_count": 104,
     "metadata": {},
     "output_type": "execute_result"
    }
   ],
   "source": [
    "# 中位數與平均\n",
    "\n",
    "import numpy as np\n",
    "a = np.array([[0, 30, 45], [60, 75, 90]])\n",
    "a\n",
    "\"\"\"\n",
    "array([[ 0, 30, 45],\n",
    "       [60, 75, 90]])\n",
    "\"\"\"\n",
    "\n",
    "# 計算整個陣列的平均值\n",
    "np.mean(a)\n",
    "\"\"\"\n",
    "50.0  # 平均值是所有元素的總和除以元素的總數,即(0+30+45+60+75+90)/6\n",
    "\"\"\"\n",
    "\n",
    "np.mean(a, axis=0)  # 沿著垂直方向計算平均值\n",
    "\"\"\"\n",
    "array([30. , 52.5, 67.5])  # 每一欄的平均值,即[0,60], [30,75], [45, 90]((0+60)/2, (30+75)/2, (45+90)/2)\n",
    "\"\"\"\n",
    "\n",
    "np.mean(a, axis=1)  # 沿著水平方向計算平均值\n",
    "\"\"\"\n",
    "array([25., 75.])  # 每一列的平均值,即[0, 30, 45], [60, 75, 90]((0+30+45)/3, (60+75+90)/3)\n",
    "\"\"\""
   ]
  },
  {
   "cell_type": "code",
   "execution_count": 105,
   "metadata": {},
   "outputs": [
    {
     "data": {
      "text/plain": [
       "'\\n(2.0, 10.0)  # 加權平均值是2.0,權重的總和是10.0\\n'"
      ]
     },
     "execution_count": 105,
     "metadata": {},
     "output_type": "execute_result"
    }
   ],
   "source": [
    "# 中位數與平均\n",
    "# np.average() -> np.average(a, axis指定計算平均值的軸, weights每個元素對應的權重, returned=True(同時傳回平均值和權重的總和)|False, keepdims指定是否保留計算的維度=True(輸出與輸入陣列維度相同)|False(壓縮)(預設))\n",
    "\n",
    "import numpy as np\n",
    "a = np.array([1, 2, 3, 4])\n",
    "# 計算不帶權重的平均值\n",
    "np.average(a)\n",
    "\"\"\"\n",
    "2.5  # (1+2+3+4)/4\n",
    "\"\"\"\n",
    "\n",
    "wts = np.array([4, 3, 2, 1])\n",
    "# 使用權重計算平均值\n",
    "np.average(a, weights=wts)\n",
    "\"\"\"\n",
    "2.0  # (1*4 + 2*3 + 3*2 + 4*1)/(4+3+2+1)\n",
    "\"\"\"\n",
    "\n",
    "np.average([1, 2, 3, 4], weights=[4, 3, 2, 1], returned=True)  # 同時傳回加權平均值和權重的總和\n",
    "\"\"\"\n",
    "(2.0, 10.0)  # 加權平均值是2.0,權重的總和是10.0\n",
    "\"\"\""
   ]
  },
  {
   "cell_type": "markdown",
   "metadata": {},
   "source": [
    "##### 模擬每天的運動量\n",
    "- 每天最小的運動量是0,每天最大的運動量是1,增量值是0.1\n",
    "- 計算1000天的運動量的累計值"
   ]
  },
  {
   "cell_type": "markdown",
   "metadata": {},
   "source": [
    "##### 補充\n",
    "- random.randrange(start, stop, step)\n",
    "    - 起始(包含,預設0),結束(不包含),間距(預設1)\n",
    "    - 用於產生一個範圍內的整數,並可以指定間距 \n",
    "- random.randint(a, b)\n",
    "    - 起始(包含),結束(包含)\n",
    "    - 傳回一個在指定範圍內的亂數\n",
    "- np.random.randn()\n",
    "    - 用於產生符合常態分佈的亂數\n",
    "- np.random.randint(low, high, size, dtype)\n",
    "    - 起始(包含),結束(不包含,預設None),產生亂數的形狀(列,欄),產生亂數的資料型態(預設整數)\n",
    "    - 用於產生一個範圍內的整數,可以指定範圍、形狀和數據類型\n",
    "- np.random.rand()\n",
    "    - 用於產生均勻分布的亂數\n",
    "    - 傳回一個形狀為(1,)的一維陣列,其中包含一個在區間[0.0, 1.0]內均勻分布的亂數\n",
    "    - 只產生一個亂數而不是一個陣列np.random.rand()\n",
    "    - 多個亂數np.random.rand(n),n -> 需要產生的數量"
   ]
  },
  {
   "cell_type": "code",
   "execution_count": 109,
   "metadata": {},
   "outputs": [
    {
     "name": "stdout",
     "output_type": "stream",
     "text": [
      "[0.2, 0.5, 1.1, 1.2, 1.7, 2.1, 2.8, 2.8, 3.2, 3.2, 4.0, 4.0, 4.8, 5.3, 5.7, 6.1, 6.2, 7.0, 7.0, 7.2, 8.0, 8.3, 8.6, 8.7, 9.6, 9.6, 10.5, 10.7, 11.0, 11.0, 11.9, 12.3, 12.8, 13.5, 13.9, 13.9, 13.9, 14.3, 14.5, 14.8, 15.5, 16.1, 16.6, 17.2, 17.6, 18.3, 19.1, 19.5, 19.7, 20.0, 20.8, 21.5, 21.5, 21.9, 22.1, 22.6, 23.0, 23.5, 24.1, 24.2, 24.9, 25.6, 26.3, 26.7, 26.8, 26.9, 27.1, 27.9, 28.8, 29.7, 29.8, 30.2, 30.9, 31.5, 32.2, 32.7, 33.6, 34.5, 34.6, 35.5, 36.1, 36.5, 37.0, 37.1, 37.8, 37.9, 38.7, 39.0, 39.5, 39.8, 40.6, 40.7, 41.0, 41.3, 41.5, 42.0, 42.3, 42.4, 42.8, 43.2, 44.1, 44.7, 44.7, 45.3, 45.6, 46.0, 46.0, 46.8, 47.7, 48.6, 48.8, 49.3, 49.9, 50.0, 50.5, 50.6, 50.6, 50.9, 51.2, 52.0, 52.4, 53.1, 53.7, 53.7, 53.9, 54.0, 54.3, 54.9, 55.2, 55.2, 55.3, 55.9, 56.3, 56.3, 56.7, 57.0, 57.5, 58.0, 58.2, 58.9, 59.0, 59.6, 59.8, 60.2, 60.6, 61.0, 61.8, 61.8, 61.8, 62.7, 63.0, 63.8, 64.2, 64.8, 64.9, 65.8, 66.3, 66.5, 67.3, 67.6, 68.3, 68.4, 68.5, 68.9, 69.6, 70.5, 71.0, 71.7, 72.0, 72.8, 72.9, 73.0, 73.6, 74.1, 74.1, 74.4, 74.5, 74.7, 75.4, 75.7, 75.9, 76.0, 76.1, 76.4, 76.5, 76.5, 76.5, 76.6, 77.5, 77.7, 77.8, 77.8, 78.4, 78.9, 79.4, 79.9, 80.5, 80.8, 81.3, 81.3, 82.1, 82.8, 83.3, 84.0, 84.2, 85.0, 85.9, 86.4, 86.6, 87.2, 87.6, 88.0, 88.3, 88.8, 88.9, 89.3, 89.7, 90.2, 90.8, 91.5, 92.4, 92.5, 92.7, 93.2, 93.5, 93.7, 94.0, 94.7, 94.8, 95.1, 95.5, 96.2, 96.5, 96.9, 97.3, 97.6, 97.9, 98.7, 99.1, 99.2, 99.3, 100.0, 100.0, 100.7, 101.3, 101.9, 101.9, 102.0, 102.4, 102.6, 102.7, 102.7, 103.1, 103.4, 103.6, 104.1, 104.4, 104.5, 104.8, 105.6, 105.7, 105.7, 106.3, 107.0, 107.2, 107.2, 107.8, 107.8, 108.2, 108.5, 109.2, 109.5, 110.2, 110.6, 111.5, 111.6, 112.5, 113.2, 113.4, 114.2, 114.2, 114.9, 115.2, 116.1, 117.0, 117.5, 117.9, 118.8, 119.0, 119.8, 120.5, 120.7, 121.2, 121.6, 122.3, 122.4, 122.4, 122.5, 123.3, 124.2, 124.2, 124.9, 124.9, 125.5, 125.9, 125.9, 126.6, 127.5, 127.8, 128.2, 128.4, 128.5, 129.3, 130.0, 130.8, 131.7, 132.5, 132.5, 132.5, 132.5, 133.4, 133.8, 134.4, 134.7, 135.5, 136.2, 136.7, 137.6, 137.7, 138.4, 138.7, 139.1, 139.2, 140.0, 140.9, 141.7, 141.9, 142.6, 143.5, 143.7, 143.8, 143.8, 144.4, 144.7, 145.0, 145.7, 146.6, 146.6, 147.3, 147.3, 148.2, 148.7, 148.7, 149.5, 150.2, 150.6, 151.5, 151.7, 152.6, 152.8, 152.9, 153.5, 153.8, 154.6, 154.6, 155.1, 155.5, 155.9, 156.5, 156.6, 157.5, 158.3, 159.2, 159.7, 159.9, 160.7, 160.9, 161.3, 162.2, 163.1, 163.3, 163.9, 164.1, 164.8, 165.7, 165.7, 166.0, 166.6, 166.6, 167.4, 168.3, 168.5, 169.3, 169.7, 170.0, 170.9, 171.6, 172.1, 172.2, 172.9, 173.8, 174.7, 175.3, 176.2, 176.7, 177.4, 177.4, 178.3, 179.1, 179.2, 180.0, 180.9, 181.7, 182.4, 183.1, 183.2, 183.9, 184.6, 184.7, 185.1, 185.2, 185.7, 186.0, 186.2, 186.6, 187.5, 188.1, 188.2, 189.1, 190.0, 190.1, 190.5, 190.7, 190.9, 191.2, 191.7, 191.9, 192.4, 192.4, 193.2, 194.0, 194.1, 195.0, 195.7, 196.4, 197.0, 197.9, 198.8, 199.1, 199.2, 199.9, 200.7, 200.8, 200.9, 201.6, 202.5, 203.0, 203.2, 203.2, 203.2, 204.0, 204.7, 204.8, 205.4, 205.8, 206.3, 206.4, 206.4, 207.0, 207.7, 208.5, 208.9, 209.2, 209.5, 209.6, 209.6, 209.6, 210.0, 210.0, 210.0, 210.3, 211.0, 211.5, 211.6, 211.9, 212.2, 213.1, 213.5, 214.4, 214.8, 215.4, 215.5, 215.8, 215.9, 216.6, 217.0, 217.1, 217.3, 217.8, 218.6, 219.5, 220.4, 220.9, 221.3, 221.6, 222.0, 222.5, 222.6, 223.5, 223.6, 223.8, 224.2, 224.3, 224.4, 224.8, 225.5, 225.6, 225.9, 226.5, 227.4, 227.6, 228.2, 228.7, 229.4, 229.5, 230.2, 230.8, 231.7, 232.5, 232.6, 232.9, 233.0, 233.9, 234.5, 234.6, 234.8, 235.0, 235.0, 235.0, 235.5, 235.6, 236.0, 236.7, 237.2, 237.8, 238.5, 238.8, 239.7, 240.0, 240.5, 240.5, 241.2, 241.6, 242.0, 242.4, 242.8, 242.9, 243.5, 244.2, 244.9, 245.4, 246.1, 246.7, 247.1, 247.7, 248.6, 248.9, 249.8, 250.6, 251.4, 251.7, 252.0, 252.7, 253.6, 254.2, 254.5, 254.5, 254.8, 254.9, 255.2, 255.2, 255.3, 255.6, 255.7, 256.0, 256.0, 256.2, 256.3, 256.5, 256.6, 257.2, 257.3, 257.7, 258.2, 259.1, 259.2, 259.7, 260.6, 261.2, 261.9, 262.2, 262.3, 262.4, 262.8, 263.4, 263.9, 264.8, 265.6, 266.1, 266.4, 266.6, 267.4, 267.7, 268.3, 268.7, 269.0, 269.8, 270.4, 271.0, 271.2, 271.5, 272.3, 272.3, 272.3, 272.3, 272.5, 273.3, 273.9, 274.2, 274.2, 274.3, 274.6, 275.1, 275.5, 276.4, 277.2, 277.6, 278.2, 278.5, 278.7, 278.9, 279.5, 279.9, 280.1, 280.3, 280.5, 281.3, 281.3, 281.6, 281.6, 282.4, 283.3, 283.3, 283.3, 283.8, 284.5, 284.9, 285.3, 286.1, 286.4, 287.0, 287.3, 287.7, 288.6, 288.8, 289.0, 289.0, 289.5, 289.8, 290.2, 291.0, 291.8, 292.1, 292.8, 293.3, 293.4, 294.3, 294.5, 294.9, 295.7, 295.7, 296.2, 297.0, 297.7, 298.3, 298.9, 299.6, 300.3, 300.7, 300.9, 301.4, 301.7, 302.1, 302.5, 302.7, 302.8, 303.4, 303.6, 304.3, 304.4, 305.0, 305.5, 305.7, 306.2, 306.8, 307.0, 307.2, 307.4, 307.4, 307.9, 307.9, 308.1, 308.7, 309.6, 310.3, 311.2, 311.9, 312.0, 312.1, 312.6, 313.4, 313.4, 313.9, 314.1, 314.5, 314.7, 315.4, 316.1, 316.6, 316.7, 317.6, 318.2, 319.1, 319.7, 320.2, 320.5, 321.4, 322.2, 322.3, 322.4, 323.3, 323.7, 324.0, 324.3, 325.1, 325.9, 326.5, 326.7, 326.8, 326.9, 327.2, 327.2, 328.0, 328.1, 328.3, 328.8, 328.9, 329.3, 329.6, 330.4, 330.9, 331.0, 331.4, 331.7, 332.5, 333.0, 333.0, 333.5, 334.1, 334.2, 334.7, 335.2, 336.0, 336.9, 337.4, 337.4, 337.9, 337.9, 338.8, 338.9, 339.2, 339.5, 339.9, 340.2, 340.5, 341.2, 341.8, 342.5, 343.3, 344.2, 344.3, 345.0, 345.5, 346.0, 346.0, 346.8, 346.9, 347.0, 347.9, 348.3, 348.6, 349.4, 349.9, 350.5, 351.2, 351.8, 352.7, 352.8, 353.6, 354.4, 354.6, 355.5, 356.3, 357.0, 357.0, 357.2, 357.3, 357.4, 357.4, 357.8, 358.3, 359.1, 359.7, 360.6, 361.2, 362.1, 362.9, 363.0, 363.5, 364.3, 364.9, 365.0, 365.0, 365.7, 365.7, 366.5, 366.7, 367.4, 368.1, 368.1, 368.5, 369.4, 370.0, 370.7, 371.4, 371.6, 372.2, 372.6, 373.3, 373.7, 374.1, 374.6, 374.8, 375.2, 376.1, 376.9, 377.3, 378.0, 378.7, 379.4, 380.2, 380.5, 380.8, 381.5, 382.3, 382.9, 383.8, 384.7, 385.4, 385.6, 385.7, 386.4, 387.0, 387.5, 388.3, 389.1, 389.1, 389.3, 389.3, 390.0, 390.1, 390.8, 391.1, 391.6, 391.9, 392.1, 392.8, 393.0, 393.4, 393.5, 393.7, 394.2, 394.7, 395.6, 396.3, 396.6, 397.5, 398.3, 399.1, 399.7, 400.5, 400.9, 401.0, 401.9, 402.4, 402.7, 403.2, 403.9, 404.5, 405.3, 405.9, 406.5, 407.2, 407.5, 407.9, 407.9, 408.4, 409.2, 410.0, 410.8, 411.0, 411.5, 411.5, 411.5, 412.3, 413.0, 413.4, 413.5, 414.1, 414.9, 415.2, 415.6, 416.2, 416.6, 417.2, 418.1, 419.0, 419.0, 419.6, 420.5, 420.9, 421.8, 422.2, 422.2, 423.0, 423.7, 424.4, 425.2, 425.3, 425.3, 425.8, 426.3, 426.6, 427.1, 427.4, 428.3, 429.1, 429.6, 430.4, 430.6, 431.1, 431.2, 431.6, 431.6, 432.2, 432.3, 432.6, 433.3, 433.3, 433.6, 433.6, 433.9, 434.1, 434.2, 434.6, 434.9, 435.1, 435.5, 436.3, 436.8, 437.6, 437.9, 438.7, 439.3, 439.7, 440.5, 440.8, 441.3, 441.6, 441.6, 442.0, 442.6, 442.9, 443.5, 444.4, 444.5, 445.3, 445.9, 446.0, 446.3]\n"
     ]
    },
    {
     "data": {
      "text/plain": [
       "[<matplotlib.lines.Line2D at 0x24d5c358a90>]"
      ]
     },
     "execution_count": 109,
     "metadata": {},
     "output_type": "execute_result"
    },
    {
     "data": {
      "image/png": "[encoded data removed]",
      "text/plain": [
       "<Figure size 640x480 with 1 Axes>"
      ]
     },
     "metadata": {},
     "output_type": "display_data"
    }
   ],
   "source": [
    "# python\n",
    "\n",
    "import matplotlib.pyplot as plt\n",
    "import random\n",
    "\n",
    "days = 1000\n",
    "amount = 0\n",
    "exerciseAmount = list()  # 儲存每天累積的運動量,空列表\n",
    "for i in range(days):\n",
    "    # random.randrange(start:int, stop:int|None, step:int=1)\n",
    "    day_amount = random.randrange(0, 10, 1) / 10.0  # 產生的亂數(整數)/10.0(增量值為0.1(step只能int)所以要/10.0)\n",
    "    amount += day_amount\n",
    "    exerciseAmount.append(float(\"{0:.1f}\".format(amount)))  \n",
    "    # \"{0:.1f}\".format(amount) -> 使用格式化字串,將amount轉換為一個包含一位小數的浮點數字串({0} -> 佔位符,表示在格式化時會被實際的值替代,表示在格式化字串中使用的第一個參數(參數會被amount替代), :.1f -> 表示格式化為浮點數,並保留一位小數, ex:3.456 -> 3.5)  \n",
    "    # float -> 將上述產生的浮點數字串轉換為浮點數  \n",
    "    # exerciseAmount.append() -> 將上述產生的浮點數添加到exerciseAmount列表的末尾  (確保exerciseAmount每個元素都是浮點數,保留一位小數)\n",
    "print(exerciseAmount)\n",
    "\n",
    "# plt.plot(x,y) -> x軸(列表或數組),y軸(列表或數組)  如果只提供一個數據列表,matplotlib將自動視為y軸數據,並使用索引作為x軸數據\n",
    "plt.plot(exerciseAmount[:100])  # 呼叫將exerciseAmount列表0-99元素傳遞給plot函數,以這些值為y軸數據,並自動產生對應的x軸數據(0-99)\n",
    "# 展示前100天的累積運動量的變化趨勢"
   ]
  },
  {
   "cell_type": "code",
   "execution_count": 113,
   "metadata": {},
   "outputs": [
    {
     "data": {
      "text/plain": [
       "[<matplotlib.lines.Line2D at 0x24d5c912b60>]"
      ]
     },
     "execution_count": 113,
     "metadata": {},
     "output_type": "execute_result"
    },
    {
     "data": {
      "image/png": "[encoded data removed]",
      "text/plain": [
       "<Figure size 640x480 with 1 Axes>"
      ]
     },
     "metadata": {},
     "output_type": "display_data"
    }
   ],
   "source": [
    "# numpy\n",
    "\n",
    "import numpy as np\n",
    "import matplotlib.pyplot as plt\n",
    "exerciseAmount = np.random.rand(1000)  # 產生一個形狀為(1000,)的一維陣列,其中包含1000個在區間[0.0, 1.0]內均勻分佈的亂數\n",
    "cumsum = exerciseAmount.cumsum()\n",
    "plt.plot(cumsum[:100])"
   ]
  },
  {
   "cell_type": "markdown",
   "metadata": {},
   "source": [
    "##### 補充\n",
    "如果需要產生其他區間內的亂數，可以透過線性變換，例如：\n",
    "\n",
    "```\n",
    "a = 5  # 起始值\n",
    "b = 10  # 結束值\n",
    "random_numbers = a + (b - a) * np.random.rand(1000)\n",
    "```\n",
    "\n",
    "=> 產生區間在 [5, 10) (包含5,不包含10)內均勻分佈的亂數。"
   ]
  },
  {
   "cell_type": "markdown",
   "metadata": {},
   "source": [
    "Homework 人數統計\n",
    "1. 從106年1月到107年5月每個月人口總數如下：\n",
    "[8397,8393,8389,8376,8378,8395,8411,8409.8406,8413,8408,8408,8414,8421,8411,8392,8404]\n",
    "\n",
    "2. 接著請您: - 利用迴圈跑出 17 個月各月的總人數。 \n",
    "\n",
    "- 計算 17 個月的人口平均值、中位數、最大值與最小值。"
   ]
  },
  {
   "cell_type": "code",
   "execution_count": 152,
   "metadata": {},
   "outputs": [
    {
     "name": "stdout",
     "output_type": "stream",
     "text": [
      "8397\n",
      "8393\n",
      "8389\n",
      "8376\n",
      "8378\n",
      "8395\n",
      "8411\n",
      "8410\n",
      "8413\n",
      "8408\n",
      "8408\n",
      "8414\n",
      "8421\n",
      "8411\n",
      "8392\n",
      "8404\n",
      "平均值：8401.0\n",
      "中位數：8406.0\n",
      "最大值：8421.0\n",
      "最小值：8376.0\n"
     ]
    }
   ],
   "source": [
    "import numpy as np\n",
    "total = np.array([8397,8393,8389,8376,8378,8395,8411,8409.8406,8413,8408,8408,8414,8421,8411,8392,8404])\n",
    "#month = [1, 2, 3, 4, 5, 6, 7, 8, 9, 10, 11, 12, 13, 14, 15, 16, 17]\n",
    "#for people, mon in zip(total, month):\n",
    "    #print(mon, np.round(people))\n",
    "for people in total:\n",
    "    print(round(people))\n",
    "    #print(np.round(people))\n",
    "print(f'平均值：{np.round(np.mean(total))}')\n",
    "print(f'中位數：{np.median(total)}')\n",
    "print(f'最大值：{np.max(total)}')\n",
    "#print(f'最大值：{total.max()}')\n",
    "print(f'最小值：{np.min(total)}')\n",
    "#print(f'最小值：{total.min()}')"
   ]
  }
 ],
 "metadata": {
  "kernelspec": {
   "display_name": ".venv",
   "language": "python",
   "name": "python3"
  },
  "language_info": {
   "codemirror_mode": {
    "name": "ipython",
    "version": 3
   },
   "file_extension": ".py",
   "mimetype": "text/x-python",
   "name": "python",
   "nbconvert_exporter": "python",
   "pygments_lexer": "ipython3",
   "version": "3.10.8"
  }
 },
 "nbformat": 4,
 "nbformat_minor": 2
}
